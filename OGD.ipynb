{
 "cells": [
  {
   "cell_type": "code",
   "execution_count": 1,
   "id": "2edd4313-83ff-4a79-b14a-324c01fb0480",
   "metadata": {},
   "outputs": [
    {
     "name": "stdout",
     "output_type": "stream",
     "text": [
      "Requirement already satisfied: matplotlib in /usr/local/lib/python3.10/dist-packages (3.10.5)\n",
      "Requirement already satisfied: numpy in /usr/local/lib/python3.10/dist-packages (1.26.1)\n",
      "Requirement already satisfied: torchvision in /usr/local/lib/python3.10/dist-packages (0.16.2+cu118)\n",
      "Requirement already satisfied: tqdm in /usr/local/lib/python3.10/dist-packages (4.67.1)\n",
      "Requirement already satisfied: contourpy>=1.0.1 in /usr/local/lib/python3.10/dist-packages (from matplotlib) (1.3.2)\n",
      "Requirement already satisfied: cycler>=0.10 in /usr/local/lib/python3.10/dist-packages (from matplotlib) (0.12.1)\n",
      "Requirement already satisfied: fonttools>=4.22.0 in /usr/local/lib/python3.10/dist-packages (from matplotlib) (4.59.1)\n",
      "Requirement already satisfied: kiwisolver>=1.3.1 in /usr/local/lib/python3.10/dist-packages (from matplotlib) (1.4.9)\n",
      "Requirement already satisfied: packaging>=20.0 in /usr/local/lib/python3.10/dist-packages (from matplotlib) (25.0)\n",
      "Requirement already satisfied: pillow>=8 in /usr/local/lib/python3.10/dist-packages (from matplotlib) (9.3.0)\n",
      "Requirement already satisfied: pyparsing>=2.3.1 in /usr/lib/python3/dist-packages (from matplotlib) (2.4.7)\n",
      "Requirement already satisfied: python-dateutil>=2.7 in /usr/local/lib/python3.10/dist-packages (from matplotlib) (2.8.2)\n",
      "Requirement already satisfied: requests in /usr/local/lib/python3.10/dist-packages (from torchvision) (2.31.0)\n",
      "Requirement already satisfied: torch==2.1.2 in /usr/local/lib/python3.10/dist-packages (from torchvision) (2.1.2+cu118)\n",
      "Requirement already satisfied: filelock in /usr/local/lib/python3.10/dist-packages (from torch==2.1.2->torchvision) (3.9.0)\n",
      "Requirement already satisfied: typing-extensions in /usr/local/lib/python3.10/dist-packages (from torch==2.1.2->torchvision) (4.14.1)\n",
      "Requirement already satisfied: sympy in /usr/local/lib/python3.10/dist-packages (from torch==2.1.2->torchvision) (1.12)\n",
      "Requirement already satisfied: networkx in /usr/local/lib/python3.10/dist-packages (from torch==2.1.2->torchvision) (3.0)\n",
      "Requirement already satisfied: jinja2 in /usr/local/lib/python3.10/dist-packages (from torch==2.1.2->torchvision) (3.1.2)\n",
      "Requirement already satisfied: fsspec in /usr/local/lib/python3.10/dist-packages (from torch==2.1.2->torchvision) (2023.4.0)\n",
      "Requirement already satisfied: triton==2.1.0 in /usr/local/lib/python3.10/dist-packages (from torch==2.1.2->torchvision) (2.1.0)\n",
      "Requirement already satisfied: six>=1.5 in /usr/lib/python3/dist-packages (from python-dateutil>=2.7->matplotlib) (1.16.0)\n",
      "Requirement already satisfied: MarkupSafe>=2.0 in /usr/local/lib/python3.10/dist-packages (from jinja2->torch==2.1.2->torchvision) (2.1.2)\n",
      "Requirement already satisfied: charset-normalizer<4,>=2 in /usr/local/lib/python3.10/dist-packages (from requests->torchvision) (2.1.1)\n",
      "Requirement already satisfied: idna<4,>=2.5 in /usr/local/lib/python3.10/dist-packages (from requests->torchvision) (3.4)\n",
      "Requirement already satisfied: urllib3<3,>=1.21.1 in /usr/local/lib/python3.10/dist-packages (from requests->torchvision) (1.26.13)\n",
      "Requirement already satisfied: certifi>=2017.4.17 in /usr/local/lib/python3.10/dist-packages (from requests->torchvision) (2022.12.7)\n",
      "Requirement already satisfied: mpmath>=0.19 in /usr/local/lib/python3.10/dist-packages (from sympy->torch==2.1.2->torchvision) (1.3.0)\n",
      "\u001b[33mWARNING: Running pip as the 'root' user can result in broken permissions and conflicting behaviour with the system package manager, possibly rendering your system unusable. It is recommended to use a virtual environment instead: https://pip.pypa.io/warnings/venv. Use the --root-user-action option if you know what you are doing and want to suppress this warning.\u001b[0m\u001b[33m\n",
      "\u001b[0m"
     ]
    }
   ],
   "source": [
    "!pip install matplotlib numpy torchvision tqdm"
   ]
  },
  {
   "cell_type": "code",
   "execution_count": 2,
   "id": "cd6539a6-ec82-4033-896d-f679b30a39ca",
   "metadata": {},
   "outputs": [
    {
     "name": "stdout",
     "output_type": "stream",
     "text": [
      "\n",
      "=== Training Task 1 ===\n"
     ]
    },
    {
     "name": "stderr",
     "output_type": "stream",
     "text": [
      "100%|██████████| 528/528 [00:01<00:00, 503.09it/s]\n"
     ]
    },
    {
     "name": "stdout",
     "output_type": "stream",
     "text": [
      "Epoch 1, Loss: 0.4639\n"
     ]
    },
    {
     "name": "stderr",
     "output_type": "stream",
     "text": [
      "100%|██████████| 528/528 [00:01<00:00, 495.71it/s]\n"
     ]
    },
    {
     "name": "stdout",
     "output_type": "stream",
     "text": [
      "Epoch 2, Loss: 0.1920\n",
      "Accuracy on Task 1: 0.999\n",
      "\n",
      "=== Training Task 2 ===\n"
     ]
    },
    {
     "name": "stderr",
     "output_type": "stream",
     "text": [
      "100%|██████████| 504/504 [00:11<00:00, 45.50it/s]\n"
     ]
    },
    {
     "name": "stdout",
     "output_type": "stream",
     "text": [
      "Epoch 1, Loss: 0.7458\n"
     ]
    },
    {
     "name": "stderr",
     "output_type": "stream",
     "text": [
      "100%|██████████| 504/504 [00:11<00:00, 44.15it/s]\n"
     ]
    },
    {
     "name": "stdout",
     "output_type": "stream",
     "text": [
      "Epoch 2, Loss: 0.6556\n",
      "Accuracy on Task 1: 0.999\n",
      "Accuracy on Task 2: 0.665\n",
      "\n",
      "=== Training Task 3 ===\n"
     ]
    },
    {
     "name": "stderr",
     "output_type": "stream",
     "text": [
      "100%|██████████| 470/470 [00:17<00:00, 26.14it/s]\n"
     ]
    },
    {
     "name": "stdout",
     "output_type": "stream",
     "text": [
      "Epoch 1, Loss: 0.7507\n"
     ]
    },
    {
     "name": "stderr",
     "output_type": "stream",
     "text": [
      "100%|██████████| 470/470 [00:17<00:00, 26.66it/s]\n"
     ]
    },
    {
     "name": "stdout",
     "output_type": "stream",
     "text": [
      "Epoch 2, Loss: 0.7191\n",
      "Accuracy on Task 1: 0.999\n",
      "Accuracy on Task 2: 0.670\n",
      "Accuracy on Task 3: 0.537\n",
      "\n",
      "=== Training Task 4 ===\n"
     ]
    },
    {
     "name": "stderr",
     "output_type": "stream",
     "text": [
      "100%|██████████| 508/508 [00:28<00:00, 18.11it/s]\n"
     ]
    },
    {
     "name": "stdout",
     "output_type": "stream",
     "text": [
      "Epoch 1, Loss: 0.6682\n"
     ]
    },
    {
     "name": "stderr",
     "output_type": "stream",
     "text": [
      "100%|██████████| 508/508 [00:27<00:00, 18.50it/s]\n"
     ]
    },
    {
     "name": "stdout",
     "output_type": "stream",
     "text": [
      "Epoch 2, Loss: 0.6004\n",
      "Accuracy on Task 1: 0.999\n",
      "Accuracy on Task 2: 0.671\n",
      "Accuracy on Task 3: 0.538\n",
      "Accuracy on Task 4: 0.760\n",
      "\n",
      "=== Training Task 5 ===\n"
     ]
    },
    {
     "name": "stderr",
     "output_type": "stream",
     "text": [
      "100%|██████████| 492/492 [00:35<00:00, 13.72it/s]\n"
     ]
    },
    {
     "name": "stdout",
     "output_type": "stream",
     "text": [
      "Epoch 1, Loss: 0.8340\n"
     ]
    },
    {
     "name": "stderr",
     "output_type": "stream",
     "text": [
      "100%|██████████| 492/492 [00:35<00:00, 13.80it/s]\n"
     ]
    },
    {
     "name": "stdout",
     "output_type": "stream",
     "text": [
      "Epoch 2, Loss: 0.8107\n",
      "Accuracy on Task 1: 0.999\n",
      "Accuracy on Task 2: 0.666\n",
      "Accuracy on Task 3: 0.523\n",
      "Accuracy on Task 4: 0.763\n",
      "Accuracy on Task 5: 0.439\n",
      "=== Continual Learning Metrics ===\n",
      "Average Accuracy (ACC):       0.6778\n",
      "Forgetting (F):              0.0046\n",
      "Backward Transfer (BWT):     -0.0025\n",
      "Forward Transfer (FWT):      0.0000\n",
      "Memory Usage:                1922.94 MB\n",
      "Computation Cost:            2502 projections/batch\n",
      "Plasticity-Stability Measure (PSM): 0.4977 (0-1 normalized)\n",
      "=== Metrics (Split MNIST) ===\n",
      "ACC=0.6778, F=0.0046, BWT=-0.0025, FWT=0.0000, Mem=1922.94MB, PSM=0.4977\n"
     ]
    },
    {
     "data": {
      "image/png": "[encoded data removed]",
      "text/plain": [
       "<Figure size 600x500 with 2 Axes>"
      ]
     },
     "metadata": {},
     "output_type": "display_data"
    }
   ],
   "source": [
    "# Orthogonal Gradient Descent (OGD) for Continual Learning\n",
    "import torch\n",
    "import torch.nn as nn\n",
    "import torch.optim as optim\n",
    "from torch.utils.data import DataLoader, TensorDataset\n",
    "import numpy as np\n",
    "from torchvision import datasets, transforms\n",
    "import matplotlib.pyplot as plt\n",
    "from tqdm import tqdm\n",
    "\n",
    "device = 'cuda' if torch.cuda.is_available() else 'cpu'\n",
    "\n",
    "# Simple MLP model\n",
    "class SimpleMLP(nn.Module):\n",
    "    def __init__(self, input_size=784, hidden_size=256, output_size=2):\n",
    "        super(SimpleMLP, self).__init__()\n",
    "        self.net = nn.Sequential(\n",
    "            nn.Linear(input_size, hidden_size),\n",
    "            nn.ReLU(),\n",
    "            nn.Linear(hidden_size, output_size)\n",
    "        )\n",
    "\n",
    "    def forward(self, x):\n",
    "        return self.net(x.view(x.size(0), -1))\n",
    "\n",
    "\n",
    "# OGD Implementation\n",
    "class OGD:\n",
    "    def __init__(self, model, lr=0.001, device='cuda'):\n",
    "        self.model = model.to(device)\n",
    "        self.lr = lr\n",
    "        self.device = device\n",
    "        self.optimizer = optim.SGD(self.model.parameters(), lr=lr)\n",
    "        self.S = []  # Memory of gradient directions from previous tasks\n",
    "\n",
    "    def _flatten_grad(self):\n",
    "        return torch.cat([p.grad.view(-1) for p in self.model.parameters() if p.grad is not None])\n",
    "\n",
    "    def _assign_grad(self, flat_grad):\n",
    "        idx = 0\n",
    "        for p in self.model.parameters():\n",
    "            if p.grad is not None:\n",
    "                numel = p.numel()\n",
    "                p.grad.copy_(flat_grad[idx: idx+numel].view_as(p))\n",
    "                idx += numel\n",
    "\n",
    "    def _project_grad(self, g):\n",
    "        if len(self.S) == 0:\n",
    "            return g\n",
    "        g_proj = g.clone()\n",
    "        for v in self.S:\n",
    "            proj = (torch.dot(g_proj, v) / torch.dot(v, v)) * v\n",
    "            g_proj -= proj\n",
    "        return g_proj\n",
    "\n",
    "    def observe(self, x, y, criterion=nn.CrossEntropyLoss()):\n",
    "        self.model.train()\n",
    "        x, y = x.to(self.device), y.to(self.device)\n",
    "        self.optimizer.zero_grad()\n",
    "        out = self.model(x)\n",
    "        loss = criterion(out, y)\n",
    "        loss.backward()\n",
    "\n",
    "        g = self._flatten_grad()\n",
    "        g_orth = self._project_grad(g)\n",
    "        self._assign_grad(g_orth)\n",
    "        self.optimizer.step()\n",
    "        return loss.item()\n",
    "\n",
    "    def end_task(self, dataloader, criterion=nn.CrossEntropyLoss()):\n",
    "        self.model.eval()\n",
    "        for x, y in dataloader:\n",
    "            x, y = x.to(self.device), y.to(self.device)\n",
    "            self.model.zero_grad()\n",
    "            out = self.model(x)\n",
    "            loss = criterion(out, y)\n",
    "            loss.backward()\n",
    "\n",
    "            u = self._flatten_grad()\n",
    "            u_proj = self._project_grad(u)\n",
    "            norm_u_proj = u_proj / (u_proj.norm() + 1e-10)\n",
    "            self.S.append(norm_u_proj.detach().clone())\n",
    "\n",
    "\n",
    "# Prepare Split MNIST (5 tasks, 2 classes each)\n",
    "transform = transforms.Compose([transforms.ToTensor()])\n",
    "mnist_train = datasets.MNIST(root='./data', train=True, download=True, transform=transform)\n",
    "mnist_test = datasets.MNIST(root='./data', train=False, download=True, transform=transform)\n",
    "\n",
    "def split_dataset(dataset, classes):\n",
    "    idx = np.isin(dataset.targets.numpy(), classes)\n",
    "    data = dataset.data[idx].float()/255.0\n",
    "    targets = dataset.targets[idx]\n",
    "    mapping = {cls:i for i,cls in enumerate(classes)}\n",
    "    targets = torch.tensor([mapping[t.item()] for t in targets])\n",
    "    return TensorDataset(data.view(-1, 28*28), targets)\n",
    "\n",
    "task_classes = [[0,1],[2,3],[4,5],[6,7],[8,9]]\n",
    "train_tasks = [split_dataset(mnist_train, c) for c in task_classes]\n",
    "test_tasks = [split_dataset(mnist_test, c) for c in task_classes]\n",
    "\n",
    "# Training with Metrics\n",
    "num_tasks = len(train_tasks)\n",
    "num_epochs = 2\n",
    "batch_size = 24\n",
    "\n",
    "model = SimpleMLP(input_size=784, hidden_size=256, output_size=2)\n",
    "ogd = OGD(model, lr=0.001, device=device)\n",
    "\n",
    "accuracy_matrix = np.zeros((num_tasks, num_tasks))\n",
    "\n",
    "def evaluate_task(model, dataloader):\n",
    "    model.eval()\n",
    "    correct, total = 0, 0\n",
    "    with torch.no_grad():\n",
    "        for x, y in dataloader:\n",
    "            x, y = x.to(device), y.to(device)\n",
    "            out = model(x)\n",
    "            preds = out.argmax(dim=1)\n",
    "            correct += (preds == y).sum().item()\n",
    "            total += y.size(0)\n",
    "    return correct / total\n",
    "\n",
    "for task_id, train_dataset in enumerate(train_tasks):\n",
    "    print(f\"\\n=== Training Task {task_id+1} ===\")\n",
    "    train_loader = DataLoader(train_dataset, batch_size=batch_size, shuffle=True)\n",
    "\n",
    "    # Train\n",
    "    for epoch in range(num_epochs):\n",
    "        epoch_loss = 0.0\n",
    "        for x, y in tqdm(train_loader):\n",
    "            loss = ogd.observe(x, y)\n",
    "            epoch_loss += loss\n",
    "        print(f\"Epoch {epoch+1}, Loss: {epoch_loss/len(train_loader):.4f}\")\n",
    "\n",
    "    # Evaluate on all tasks seen so far\n",
    "    for eval_id in range(task_id+1):\n",
    "        test_loader = DataLoader(test_tasks[eval_id], batch_size=batch_size, shuffle=False)\n",
    "        acc = evaluate_task(ogd.model, test_loader)\n",
    "        accuracy_matrix[task_id, eval_id] = acc\n",
    "        print(f\"Accuracy on Task {eval_id+1}: {acc:.3f}\")\n",
    "\n",
    "    # End of task: store gradient directions\n",
    "    ogd.end_task(train_loader)\n",
    "\n",
    "\n",
    "# Compute Continual Learning Metrics\n",
    "# Average Accuracy (ACC)\n",
    "ACC = accuracy_matrix[-1].mean()  # Final row averaged across tasks\n",
    "\n",
    "# Average Forgetting (F)\n",
    "F = np.mean([\n",
    "    np.max(accuracy_matrix[:num_tasks-1, j]) - accuracy_matrix[-1, j]\n",
    "    for j in range(num_tasks-1)\n",
    "])\n",
    "\n",
    "# Backward Transfer (BWT)\n",
    "BWT = np.mean([\n",
    "    accuracy_matrix[-1, j] - accuracy_matrix[j, j]\n",
    "    for j in range(num_tasks-1)\n",
    "])\n",
    "\n",
    "# Forward Transfer (FWT)\n",
    "# Measures how much previous tasks helped the next task before it was trained\n",
    "FWT = np.mean([\n",
    "    accuracy_matrix[i, i+1]\n",
    "    for i in range(num_tasks-1)\n",
    "])\n",
    "\n",
    "# Memory Usage (in MB)\n",
    "num_params = sum(p.numel() for p in ogd.model.parameters())\n",
    "mem_usage = len(ogd.S) * num_params * 4 / (1024**2)  # 4 bytes per float32\n",
    "\n",
    "# 6. Computation Cost (Number of gradient projections per batch)\n",
    "comp_cost = len(ogd.S)\n",
    "\n",
    "# Plasticity-Stability Measure (PSM) - Normalized 0 to 1\n",
    "\n",
    "# Define components\n",
    "stability = 1 - F                 # High if forgetting is low\n",
    "plasticity = max(FWT, 0)          # High if positive forward transfer\n",
    "\n",
    "alpha = 0.5                       # Balance between stability and plasticity\n",
    "PSM = alpha * stability + (1 - alpha) * plasticity\n",
    "\n",
    "# Print Metrics\n",
    "print(\"=== Continual Learning Metrics ===\")\n",
    "print(f\"Average Accuracy (ACC):       {ACC:.4f}\")\n",
    "print(f\"Forgetting (F):              {F:.4f}\")\n",
    "print(f\"Backward Transfer (BWT):     {BWT:.4f}\")\n",
    "print(f\"Forward Transfer (FWT):      {FWT:.4f}\")\n",
    "print(f\"Memory Usage:                {mem_usage:.2f} MB\")\n",
    "print(f\"Computation Cost:            {comp_cost} projections/batch\")\n",
    "print(f\"Plasticity-Stability Measure (PSM): {PSM:.4f} (0-1 normalized)\")\n",
    "\n",
    "print(\"=== Metrics (Split MNIST) ===\")\n",
    "print(f\"ACC={ACC:.4f}, F={F:.4f}, BWT={BWT:.4f}, FWT={FWT:.4f}, Mem={mem_usage:.2f}MB, PSM={PSM:.4f}\")\n",
    "\n",
    "plt.figure(figsize=(6,5))\n",
    "plt.imshow(accuracy_matrix, cmap='viridis', interpolation='nearest')\n",
    "plt.colorbar(label='Accuracy')\n",
    "plt.xlabel('Evaluation Task')\n",
    "plt.ylabel('Training Task')\n",
    "plt.title('OGD Accuracy Matrix (Split MNIST)')\n",
    "plt.show()"
   ]
  },
  {
   "cell_type": "code",
   "execution_count": 2,
   "id": "230ad48e-431f-4d77-8a9c-783e8a891dc0",
   "metadata": {},
   "outputs": [
    {
     "name": "stdout",
     "output_type": "stream",
     "text": [
      "\n",
      "=== Training Task 1 ===\n"
     ]
    },
    {
     "name": "stderr",
     "output_type": "stream",
     "text": [
      "100%|██████████| 1875/1875 [00:06<00:00, 295.61it/s]\n"
     ]
    },
    {
     "name": "stdout",
     "output_type": "stream",
     "text": [
      "Epoch 1, Loss: 2.0827\n"
     ]
    },
    {
     "name": "stderr",
     "output_type": "stream",
     "text": [
      "100%|██████████| 1875/1875 [00:04<00:00, 392.34it/s]\n"
     ]
    },
    {
     "name": "stdout",
     "output_type": "stream",
     "text": [
      "Epoch 2, Loss: 1.4978\n",
      "Accuracy on Task 1: 0.793\n",
      "\n",
      "=== Training Task 2 ===\n"
     ]
    },
    {
     "name": "stderr",
     "output_type": "stream",
     "text": [
      "100%|██████████| 1875/1875 [02:11<00:00, 14.27it/s]\n"
     ]
    },
    {
     "name": "stdout",
     "output_type": "stream",
     "text": [
      "Epoch 1, Loss: 1.8594\n"
     ]
    },
    {
     "name": "stderr",
     "output_type": "stream",
     "text": [
      "100%|██████████| 1875/1875 [02:04<00:00, 15.11it/s]\n"
     ]
    },
    {
     "name": "stdout",
     "output_type": "stream",
     "text": [
      "Epoch 2, Loss: 1.2486\n",
      "Accuracy on Task 1: 0.790\n",
      "Accuracy on Task 2: 0.798\n",
      "\n",
      "=== Training Task 3 ===\n"
     ]
    },
    {
     "name": "stderr",
     "output_type": "stream",
     "text": [
      "100%|██████████| 1875/1875 [04:13<00:00,  7.40it/s]\n"
     ]
    },
    {
     "name": "stdout",
     "output_type": "stream",
     "text": [
      "Epoch 1, Loss: 1.7564\n"
     ]
    },
    {
     "name": "stderr",
     "output_type": "stream",
     "text": [
      "100%|██████████| 1875/1875 [04:32<00:00,  6.88it/s]\n"
     ]
    },
    {
     "name": "stdout",
     "output_type": "stream",
     "text": [
      "Epoch 2, Loss: 1.1707\n",
      "Accuracy on Task 1: 0.793\n",
      "Accuracy on Task 2: 0.798\n",
      "Accuracy on Task 3: 0.813\n",
      "=== Metrics (Permuted MNIST) ===\n",
      "ACC=0.8014, F=0.0003, BWT=-0.0003, FWT=0.0000, Mem=4367.28MB, PSM=0.4999\n"
     ]
    },
    {
     "data": {
      "image/png": "[encoded data removed]",
      "text/plain": [
       "<Figure size 600x500 with 2 Axes>"
      ]
     },
     "metadata": {},
     "output_type": "display_data"
    }
   ],
   "source": [
    "# =======================\n",
    "# OGD on Permuted MNIST\n",
    "# =======================\n",
    "\n",
    "import torch\n",
    "import torch.nn as nn\n",
    "import torch.optim as optim\n",
    "from torch.utils.data import DataLoader, TensorDataset\n",
    "import numpy as np\n",
    "from torchvision import datasets, transforms\n",
    "import matplotlib.pyplot as plt\n",
    "from tqdm import tqdm\n",
    "\n",
    "device = 'cuda' if torch.cuda.is_available() else 'cpu'\n",
    "\n",
    "# Simple MLP model\n",
    "class SimpleMLP(nn.Module):\n",
    "    def __init__(self, input_size=784, hidden_size=256, output_size=10):\n",
    "        super(SimpleMLP, self).__init__()\n",
    "        self.net = nn.Sequential(\n",
    "            nn.Linear(input_size, hidden_size),\n",
    "            nn.ReLU(),\n",
    "            nn.Linear(hidden_size, output_size)\n",
    "        )\n",
    "    def forward(self, x):\n",
    "        return self.net(x.view(x.size(0), -1))\n",
    "\n",
    "# OGD Implementation\n",
    "class OGD:\n",
    "    def __init__(self, model, lr=0.001, device='cuda'):\n",
    "        self.model = model.to(device)\n",
    "        self.optimizer = optim.SGD(self.model.parameters(), lr=lr)\n",
    "        self.device = device\n",
    "        self.S = []  # Memory of gradient directions\n",
    "\n",
    "    def _flatten_grad(self):\n",
    "        return torch.cat([p.grad.view(-1) for p in self.model.parameters() if p.grad is not None])\n",
    "\n",
    "    def _assign_grad(self, flat_grad):\n",
    "        idx = 0\n",
    "        for p in self.model.parameters():\n",
    "            if p.grad is not None:\n",
    "                numel = p.numel()\n",
    "                p.grad.copy_(flat_grad[idx: idx+numel].view_as(p))\n",
    "                idx += numel\n",
    "\n",
    "    def _project_grad(self, g):\n",
    "        if len(self.S) == 0: return g\n",
    "        g_proj = g.clone()\n",
    "        for v in self.S:\n",
    "            proj = (torch.dot(g_proj, v) / torch.dot(v, v)) * v\n",
    "            g_proj -= proj\n",
    "        return g_proj\n",
    "\n",
    "    def observe(self, x, y, criterion=nn.CrossEntropyLoss()):\n",
    "        self.model.train()\n",
    "        x, y = x.to(self.device), y.to(self.device)\n",
    "        self.optimizer.zero_grad()\n",
    "        loss = criterion(self.model(x), y)\n",
    "        loss.backward()\n",
    "\n",
    "        g = self._flatten_grad()\n",
    "        g_orth = self._project_grad(g)\n",
    "        self._assign_grad(g_orth)\n",
    "        self.optimizer.step()\n",
    "        return loss.item()\n",
    "\n",
    "    def end_task(self, dataloader, criterion=nn.CrossEntropyLoss()):\n",
    "        self.model.eval()\n",
    "        for x, y in dataloader:\n",
    "            x, y = x.to(self.device), y.to(self.device)\n",
    "            self.model.zero_grad()\n",
    "            loss = criterion(self.model(x), y)\n",
    "            loss.backward()\n",
    "\n",
    "            u = self._flatten_grad()\n",
    "            u_proj = self._project_grad(u)\n",
    "            norm_u_proj = u_proj / (u_proj.norm() + 1e-10)\n",
    "            self.S.append(norm_u_proj.detach().clone())\n",
    "\n",
    "# === Prepare 3 permuted MNIST tasks ===\n",
    "num_tasks = 3\n",
    "transform = transforms.Compose([transforms.ToTensor()])\n",
    "mnist_train = datasets.MNIST(root='./data', train=True, download=True, transform=transform)\n",
    "mnist_test = datasets.MNIST(root='./data', train=False, download=True, transform=transform)\n",
    "\n",
    "train_x = mnist_train.data.view(-1, 28*28).float()/255.0\n",
    "test_x = mnist_test.data.view(-1, 28*28).float()/255.0\n",
    "train_y = mnist_train.targets\n",
    "test_y = mnist_test.targets\n",
    "\n",
    "train_tasks, test_tasks = [], []\n",
    "for _ in range(num_tasks):\n",
    "    perm = torch.randperm(28*28)\n",
    "    train_tasks.append(TensorDataset(train_x[:, perm], train_y))\n",
    "    test_tasks.append(TensorDataset(test_x[:, perm], test_y))\n",
    "\n",
    "\n",
    "# Training loop\n",
    "num_epochs = 2\n",
    "batch_size = 32\n",
    "model = SimpleMLP()\n",
    "ogd = OGD(model, lr=0.001, device=device)\n",
    "accuracy_matrix = np.zeros((num_tasks, num_tasks))\n",
    "\n",
    "def evaluate_task(model, dataloader):\n",
    "    model.eval()\n",
    "    correct, total = 0, 0\n",
    "    with torch.no_grad():\n",
    "        for x, y in dataloader:\n",
    "            x, y = x.to(device), y.to(device)\n",
    "            preds = model(x).argmax(dim=1)\n",
    "            correct += (preds == y).sum().item()\n",
    "            total += y.size(0)\n",
    "    return correct / total\n",
    "\n",
    "for task_id, train_dataset in enumerate(train_tasks):\n",
    "    print(f\"\\n=== Training Task {task_id+1} ===\")\n",
    "    train_loader = DataLoader(train_dataset, batch_size=batch_size, shuffle=True)\n",
    "\n",
    "    for epoch in range(num_epochs):\n",
    "        epoch_loss = 0.0\n",
    "        for x, y in tqdm(train_loader):\n",
    "            epoch_loss += ogd.observe(x, y)\n",
    "        print(f\"Epoch {epoch+1}, Loss: {epoch_loss/len(train_loader):.4f}\")\n",
    "\n",
    "    # Evaluate on all seen tasks\n",
    "    for eval_id in range(task_id+1):\n",
    "        test_loader = DataLoader(test_tasks[eval_id], batch_size=batch_size, shuffle=False)\n",
    "        acc = evaluate_task(ogd.model, test_loader)\n",
    "        accuracy_matrix[task_id, eval_id] = acc\n",
    "        print(f\"Accuracy on Task {eval_id+1}: {acc:.3f}\")\n",
    "\n",
    "    ogd.end_task(train_loader)\n",
    "\n",
    "# === Metrics ===\n",
    "ACC = accuracy_matrix[-1].mean()\n",
    "F = np.mean([np.max(accuracy_matrix[:num_tasks-1, j]) - accuracy_matrix[-1, j] for j in range(num_tasks-1)]) if num_tasks>1 else 0.0\n",
    "BWT = np.mean([accuracy_matrix[-1, j] - accuracy_matrix[j, j] for j in range(num_tasks-1)]) if num_tasks>1 else 0.0\n",
    "FWT = np.mean([accuracy_matrix[i, i+1] for i in range(num_tasks-1)]) if num_tasks>1 else 0.0\n",
    "\n",
    "num_params = sum(p.numel() for p in ogd.model.parameters())\n",
    "mem_usage = len(ogd.S) * num_params * 4 / (1024**2)\n",
    "comp_cost = len(ogd.S)\n",
    "PSM = 0.5*(1-F) + 0.5*max(FWT,0)\n",
    "\n",
    "print(\"=== Metrics (Permuted MNIST) ===\")\n",
    "print(f\"ACC={ACC:.4f}, F={F:.4f}, BWT={BWT:.4f}, FWT={FWT:.4f}, Mem={mem_usage:.2f}MB, PSM={PSM:.4f}\")\n",
    "\n",
    "plt.figure(figsize=(6,5))\n",
    "plt.imshow(accuracy_matrix, cmap='viridis', interpolation='nearest')\n",
    "plt.colorbar(label='Accuracy')\n",
    "plt.xlabel('Evaluation Task')\n",
    "plt.ylabel('Training Task')\n",
    "plt.title('OGD Accuracy Matrix (Permuted MNIST)')\n",
    "plt.show()"
   ]
  },
  {
   "cell_type": "code",
   "execution_count": 3,
   "id": "f896aa36-c014-44b9-9734-0568e2929546",
   "metadata": {},
   "outputs": [
    {
     "name": "stdout",
     "output_type": "stream",
     "text": [
      "Device: cuda\n",
      "Files already downloaded and verified\n",
      "Files already downloaded and verified\n",
      "Task 0: classes 0..9 | train 5000, test 1000\n",
      "Task 1: classes 10..19 | train 5000, test 1000\n",
      "Task 2: classes 20..29 | train 5000, test 1000\n",
      "Task 3: classes 30..39 | train 5000, test 1000\n",
      "Task 4: classes 40..49 | train 5000, test 1000\n",
      "Task 5: classes 50..59 | train 5000, test 1000\n",
      "Task 6: classes 60..69 | train 5000, test 1000\n",
      "Task 7: classes 70..79 | train 5000, test 1000\n",
      "Task 8: classes 80..89 | train 5000, test 1000\n",
      "Task 9: classes 90..99 | train 5000, test 1000\n",
      "\n",
      "=== Task 1/10 | classes 0..9 ===\n"
     ]
    },
    {
     "name": "stderr",
     "output_type": "stream",
     "text": [
      "Task 1 Epoch 1: 100%|██████████| 209/209 [00:02<00:00, 102.66it/s]\n"
     ]
    },
    {
     "name": "stdout",
     "output_type": "stream",
     "text": [
      "Epoch 1: loss=1.9105\n"
     ]
    },
    {
     "name": "stderr",
     "output_type": "stream",
     "text": [
      "Task 1 Epoch 2: 100%|██████████| 209/209 [00:01<00:00, 148.74it/s]"
     ]
    },
    {
     "name": "stdout",
     "output_type": "stream",
     "text": [
      "Epoch 2: loss=1.4546\n"
     ]
    },
    {
     "name": "stderr",
     "output_type": "stream",
     "text": [
      "\n"
     ]
    },
    {
     "name": "stdout",
     "output_type": "stream",
     "text": [
      "Accuracy on Task 1: 0.590\n",
      "[OGD] Harvested 30 dirs (seen 30 batches). Memory size: 30\n",
      "\n",
      "=== Task 2/10 | classes 10..19 ===\n"
     ]
    },
    {
     "name": "stderr",
     "output_type": "stream",
     "text": [
      "Task 2 Epoch 1: 100%|██████████| 209/209 [00:01<00:00, 104.54it/s]\n"
     ]
    },
    {
     "name": "stdout",
     "output_type": "stream",
     "text": [
      "Epoch 1: loss=1.8724\n"
     ]
    },
    {
     "name": "stderr",
     "output_type": "stream",
     "text": [
      "Task 2 Epoch 2: 100%|██████████| 209/209 [00:02<00:00, 95.41it/s] "
     ]
    },
    {
     "name": "stdout",
     "output_type": "stream",
     "text": [
      "Epoch 2: loss=1.4636\n"
     ]
    },
    {
     "name": "stderr",
     "output_type": "stream",
     "text": [
      "\n"
     ]
    },
    {
     "name": "stdout",
     "output_type": "stream",
     "text": [
      "Accuracy on Task 1: 0.148\n",
      "Accuracy on Task 2: 0.541\n",
      "[OGD] Harvested 30 dirs (seen 30 batches). Memory size: 60\n",
      "\n",
      "=== Task 3/10 | classes 20..29 ===\n"
     ]
    },
    {
     "name": "stderr",
     "output_type": "stream",
     "text": [
      "Task 3 Epoch 1: 100%|██████████| 209/209 [00:02<00:00, 100.42it/s]\n"
     ]
    },
    {
     "name": "stdout",
     "output_type": "stream",
     "text": [
      "Epoch 1: loss=1.7722\n"
     ]
    },
    {
     "name": "stderr",
     "output_type": "stream",
     "text": [
      "Task 3 Epoch 2: 100%|██████████| 209/209 [00:02<00:00, 104.17it/s]"
     ]
    },
    {
     "name": "stdout",
     "output_type": "stream",
     "text": [
      "Epoch 2: loss=1.3493\n"
     ]
    },
    {
     "name": "stderr",
     "output_type": "stream",
     "text": [
      "\n"
     ]
    },
    {
     "name": "stdout",
     "output_type": "stream",
     "text": [
      "Accuracy on Task 1: 0.139\n",
      "Accuracy on Task 2: 0.177\n",
      "Accuracy on Task 3: 0.609\n",
      "[OGD] Harvested 30 dirs (seen 30 batches). Memory size: 90\n",
      "\n",
      "=== Task 4/10 | classes 30..39 ===\n"
     ]
    },
    {
     "name": "stderr",
     "output_type": "stream",
     "text": [
      "Task 4 Epoch 1: 100%|██████████| 209/209 [00:01<00:00, 140.96it/s]\n"
     ]
    },
    {
     "name": "stdout",
     "output_type": "stream",
     "text": [
      "Epoch 1: loss=1.7223\n"
     ]
    },
    {
     "name": "stderr",
     "output_type": "stream",
     "text": [
      "Task 4 Epoch 2: 100%|██████████| 209/209 [00:02<00:00, 103.98it/s]"
     ]
    },
    {
     "name": "stdout",
     "output_type": "stream",
     "text": [
      "Epoch 2: loss=1.3748\n"
     ]
    },
    {
     "name": "stderr",
     "output_type": "stream",
     "text": [
      "\n"
     ]
    },
    {
     "name": "stdout",
     "output_type": "stream",
     "text": [
      "Accuracy on Task 1: 0.057\n",
      "Accuracy on Task 2: 0.172\n",
      "Accuracy on Task 3: 0.203\n",
      "Accuracy on Task 4: 0.566\n",
      "[OGD] Harvested 30 dirs (seen 30 batches). Memory size: 120\n",
      "\n",
      "=== Task 5/10 | classes 40..49 ===\n"
     ]
    },
    {
     "name": "stderr",
     "output_type": "stream",
     "text": [
      "Task 5 Epoch 1: 100%|██████████| 209/209 [00:01<00:00, 132.31it/s]\n"
     ]
    },
    {
     "name": "stdout",
     "output_type": "stream",
     "text": [
      "Epoch 1: loss=1.6045\n"
     ]
    },
    {
     "name": "stderr",
     "output_type": "stream",
     "text": [
      "Task 5 Epoch 2: 100%|██████████| 209/209 [00:00<00:00, 223.58it/s]"
     ]
    },
    {
     "name": "stdout",
     "output_type": "stream",
     "text": [
      "Epoch 2: loss=1.1593\n"
     ]
    },
    {
     "name": "stderr",
     "output_type": "stream",
     "text": [
      "\n"
     ]
    },
    {
     "name": "stdout",
     "output_type": "stream",
     "text": [
      "Accuracy on Task 1: 0.128\n",
      "Accuracy on Task 2: 0.107\n",
      "Accuracy on Task 3: 0.127\n",
      "Accuracy on Task 4: 0.183\n",
      "Accuracy on Task 5: 0.656\n",
      "[OGD] Harvested 30 dirs (seen 30 batches). Memory size: 150\n",
      "\n",
      "=== Task 6/10 | classes 50..59 ===\n"
     ]
    },
    {
     "name": "stderr",
     "output_type": "stream",
     "text": [
      "Task 6 Epoch 1: 100%|██████████| 209/209 [00:01<00:00, 177.46it/s]\n"
     ]
    },
    {
     "name": "stdout",
     "output_type": "stream",
     "text": [
      "Epoch 1: loss=1.5314\n"
     ]
    },
    {
     "name": "stderr",
     "output_type": "stream",
     "text": [
      "Task 6 Epoch 2: 100%|██████████| 209/209 [00:01<00:00, 187.33it/s]"
     ]
    },
    {
     "name": "stdout",
     "output_type": "stream",
     "text": [
      "Epoch 2: loss=1.1438\n"
     ]
    },
    {
     "name": "stderr",
     "output_type": "stream",
     "text": [
      "\n"
     ]
    },
    {
     "name": "stdout",
     "output_type": "stream",
     "text": [
      "Accuracy on Task 1: 0.065\n",
      "Accuracy on Task 2: 0.079\n",
      "Accuracy on Task 3: 0.079\n",
      "Accuracy on Task 4: 0.040\n",
      "Accuracy on Task 5: 0.219\n",
      "Accuracy on Task 6: 0.627\n",
      "[OGD] Harvested 30 dirs (seen 30 batches). Memory size: 180\n",
      "\n",
      "=== Task 7/10 | classes 60..69 ===\n"
     ]
    },
    {
     "name": "stderr",
     "output_type": "stream",
     "text": [
      "Task 7 Epoch 1: 100%|██████████| 209/209 [00:01<00:00, 185.57it/s]\n"
     ]
    },
    {
     "name": "stdout",
     "output_type": "stream",
     "text": [
      "Epoch 1: loss=1.5648\n"
     ]
    },
    {
     "name": "stderr",
     "output_type": "stream",
     "text": [
      "Task 7 Epoch 2: 100%|██████████| 209/209 [00:00<00:00, 211.27it/s]"
     ]
    },
    {
     "name": "stdout",
     "output_type": "stream",
     "text": [
      "Epoch 2: loss=1.1087\n"
     ]
    },
    {
     "name": "stderr",
     "output_type": "stream",
     "text": [
      "\n"
     ]
    },
    {
     "name": "stdout",
     "output_type": "stream",
     "text": [
      "Accuracy on Task 1: 0.159\n",
      "Accuracy on Task 2: 0.101\n",
      "Accuracy on Task 3: 0.070\n",
      "Accuracy on Task 4: 0.098\n",
      "Accuracy on Task 5: 0.127\n",
      "Accuracy on Task 6: 0.146\n",
      "Accuracy on Task 7: 0.650\n",
      "[OGD] Harvested 30 dirs (seen 30 batches). Memory size: 210\n",
      "\n",
      "=== Task 8/10 | classes 70..79 ===\n"
     ]
    },
    {
     "name": "stderr",
     "output_type": "stream",
     "text": [
      "Task 8 Epoch 1: 100%|██████████| 209/209 [00:01<00:00, 187.58it/s]\n"
     ]
    },
    {
     "name": "stdout",
     "output_type": "stream",
     "text": [
      "Epoch 1: loss=1.6895\n"
     ]
    },
    {
     "name": "stderr",
     "output_type": "stream",
     "text": [
      "Task 8 Epoch 2: 100%|██████████| 209/209 [00:01<00:00, 202.96it/s]"
     ]
    },
    {
     "name": "stdout",
     "output_type": "stream",
     "text": [
      "Epoch 2: loss=1.1834\n"
     ]
    },
    {
     "name": "stderr",
     "output_type": "stream",
     "text": [
      "\n"
     ]
    },
    {
     "name": "stdout",
     "output_type": "stream",
     "text": [
      "Accuracy on Task 1: 0.194\n",
      "Accuracy on Task 2: 0.089\n",
      "Accuracy on Task 3: 0.120\n",
      "Accuracy on Task 4: 0.073\n",
      "Accuracy on Task 5: 0.100\n",
      "Accuracy on Task 6: 0.159\n",
      "Accuracy on Task 7: 0.084\n",
      "Accuracy on Task 8: 0.656\n",
      "[OGD] Harvested 30 dirs (seen 30 batches). Memory size: 240\n",
      "\n",
      "=== Task 9/10 | classes 80..89 ===\n"
     ]
    },
    {
     "name": "stderr",
     "output_type": "stream",
     "text": [
      "Task 9 Epoch 1: 100%|██████████| 209/209 [00:01<00:00, 192.52it/s]\n"
     ]
    },
    {
     "name": "stdout",
     "output_type": "stream",
     "text": [
      "Epoch 1: loss=1.6386\n"
     ]
    },
    {
     "name": "stderr",
     "output_type": "stream",
     "text": [
      "Task 9 Epoch 2: 100%|██████████| 209/209 [00:01<00:00, 205.78it/s]\n"
     ]
    },
    {
     "name": "stdout",
     "output_type": "stream",
     "text": [
      "Epoch 2: loss=1.1694\n",
      "Accuracy on Task 1: 0.054\n",
      "Accuracy on Task 2: 0.090\n",
      "Accuracy on Task 3: 0.077\n",
      "Accuracy on Task 4: 0.078\n",
      "Accuracy on Task 5: 0.114\n",
      "Accuracy on Task 6: 0.192\n",
      "Accuracy on Task 7: 0.076\n",
      "Accuracy on Task 8: 0.210\n",
      "Accuracy on Task 9: 0.680\n",
      "[OGD] Harvested 30 dirs (seen 30 batches). Memory size: 270\n",
      "\n",
      "=== Task 10/10 | classes 90..99 ===\n"
     ]
    },
    {
     "name": "stderr",
     "output_type": "stream",
     "text": [
      "Task 10 Epoch 1: 100%|██████████| 209/209 [00:01<00:00, 200.59it/s]\n"
     ]
    },
    {
     "name": "stdout",
     "output_type": "stream",
     "text": [
      "Epoch 1: loss=1.6211\n"
     ]
    },
    {
     "name": "stderr",
     "output_type": "stream",
     "text": [
      "Task 10 Epoch 2: 100%|██████████| 209/209 [00:01<00:00, 184.78it/s]"
     ]
    },
    {
     "name": "stdout",
     "output_type": "stream",
     "text": [
      "Epoch 2: loss=1.0991\n"
     ]
    },
    {
     "name": "stderr",
     "output_type": "stream",
     "text": [
      "\n"
     ]
    },
    {
     "name": "stdout",
     "output_type": "stream",
     "text": [
      "Accuracy on Task 1: 0.083\n",
      "Accuracy on Task 2: 0.045\n",
      "Accuracy on Task 3: 0.067\n",
      "Accuracy on Task 4: 0.050\n",
      "Accuracy on Task 5: 0.046\n",
      "Accuracy on Task 6: 0.084\n",
      "Accuracy on Task 7: 0.222\n",
      "Accuracy on Task 8: 0.125\n",
      "Accuracy on Task 9: 0.148\n",
      "Accuracy on Task 10: 0.677\n",
      "[OGD] Harvested 30 dirs (seen 30 batches). Memory size: 300\n",
      "\n",
      "=== Metrics (Split CIFAR-100, CNN, OGD) ===\n",
      "ACC=0.1547, F=0.5228, BWT=-0.5228, FWT=0.0000, Mem=710.46 MB, PSM=0.2386\n"
     ]
    },
    {
     "data": {
      "image/png": "[encoded data removed]",
      "text/plain": [
       "<Figure size 600x500 with 2 Axes>"
      ]
     },
     "metadata": {},
     "output_type": "display_data"
    }
   ],
   "source": [
    "# ================================================\n",
    "# OGD on Split CIFAR-100 (10 tasks × 10 classes)\n",
    "# ================================================\n",
    "# - Memory-efficient task construction\n",
    "# - OGD with orthonormal gradient memory\n",
    "# - Stores optimizer/criterion in OGD (Option 2)\n",
    "# - Accuracy matrix + CL metrics + plot\n",
    "# ================================================\n",
    "\n",
    "import os\n",
    "import math\n",
    "import random\n",
    "import numpy as np\n",
    "import torch\n",
    "import torch.nn as nn\n",
    "import torch.nn.functional as F\n",
    "from torch.utils.data import DataLoader, Dataset\n",
    "from torchvision import datasets, transforms\n",
    "from tqdm import tqdm\n",
    "import matplotlib.pyplot as plt\n",
    "\n",
    "# -----------------\n",
    "# Repro & Device\n",
    "# -----------------\n",
    "seed = 42\n",
    "random.seed(seed)\n",
    "np.random.seed(seed)\n",
    "torch.manual_seed(seed)\n",
    "torch.cuda.manual_seed_all(seed)\n",
    "torch.backends.cudnn.benchmark = True\n",
    "\n",
    "device = torch.device(\"cuda\" if torch.cuda.is_available() else \"cpu\")\n",
    "print(\"Device:\", device)\n",
    "\n",
    "# -----------------\n",
    "# Hyperparameters\n",
    "# -----------------\n",
    "root = \"./data\"\n",
    "num_tasks = 10\n",
    "num_classes = 100\n",
    "classes_per_task = num_classes // num_tasks  # 10\n",
    "batch_size = 32\n",
    "num_epochs = 2\n",
    "download = True\n",
    "\n",
    "# Optimizer/loss\n",
    "learning_rate = 0.001\n",
    "weight_decay = 5e-4\n",
    "momentum = 0.9\n",
    "\n",
    "# OGD memory\n",
    "max_mem_dirs = 1000   # cap on number of stored gradient directions (global)\n",
    "dirs_per_task = 120   # target number of new directions to add per task\n",
    "harvest_batches = 30  # batches to sample for memory after each task\n",
    "grad_eps = 1e-6       # min norm to accept a direction\n",
    "\n",
    "# -----------------\n",
    "# Transforms\n",
    "# -----------------\n",
    "normalize = transforms.Normalize(mean=(0.5071, 0.4867, 0.4408),\n",
    "                                 std=(0.2675, 0.2565, 0.2761))\n",
    "train_transform = transforms.Compose([\n",
    "    transforms.RandomCrop(32, padding=4),\n",
    "    transforms.RandomHorizontalFlip(),\n",
    "    transforms.ToTensor(),\n",
    "    normalize\n",
    "])\n",
    "test_transform = transforms.Compose([\n",
    "    transforms.ToTensor(),\n",
    "    normalize\n",
    "])\n",
    "\n",
    "# -----------------\n",
    "# Datasets\n",
    "# -----------------\n",
    "train_full = datasets.CIFAR100(root=root, train=True,  download=download, transform=train_transform)\n",
    "test_full  = datasets.CIFAR100(root=root, train=False, download=download, transform=test_transform)\n",
    "\n",
    "train_targets = np.array(train_full.targets)\n",
    "test_targets  = np.array(test_full.targets)\n",
    "\n",
    "# -----------------\n",
    "# Task splits (indices & class lists)\n",
    "# -----------------\n",
    "task_class_lists = []\n",
    "train_indices_per_task, test_indices_per_task = [], []\n",
    "\n",
    "for t in range(num_tasks):\n",
    "    cls_start = t * classes_per_task\n",
    "    cls_end = cls_start + classes_per_task\n",
    "    task_classes = list(range(cls_start, cls_end))\n",
    "    task_class_lists.append(task_classes)\n",
    "\n",
    "    train_idx = np.where(np.isin(train_targets, task_classes))[0].tolist()\n",
    "    test_idx  = np.where(np.isin(test_targets,  task_classes))[0].tolist()\n",
    "\n",
    "    train_indices_per_task.append(train_idx)\n",
    "    test_indices_per_task.append(test_idx)\n",
    "\n",
    "    print(f\"Task {t}: classes {task_classes[0]}..{task_classes[-1]} | \"\n",
    "          f\"train {len(train_idx)}, test {len(test_idx)}\")\n",
    "\n",
    "# -----------------\n",
    "# Per-task label mapping dataset\n",
    "# -----------------\n",
    "class MapLabelsDataset(Dataset):\n",
    "    def __init__(self, base_dataset, indices, class_map):\n",
    "        self.base = base_dataset\n",
    "        self.indices = indices\n",
    "        self.class_map = class_map\n",
    "\n",
    "    def __len__(self):\n",
    "        return len(self.indices)\n",
    "\n",
    "    def __getitem__(self, i):\n",
    "        x, y = self.base[self.indices[i]]\n",
    "        return x, self.class_map[int(y)]\n",
    "\n",
    "# -----------------\n",
    "# Model\n",
    "# -----------------\n",
    "class SimpleCNN(nn.Module):\n",
    "    def __init__(self, num_classes=10):\n",
    "        super().__init__()\n",
    "        self.conv1 = nn.Conv2d(3, 32, 3, padding=1)\n",
    "        self.bn1 = nn.BatchNorm2d(32)\n",
    "        self.conv2 = nn.Conv2d(32, 64, 3, padding=1)\n",
    "        self.bn2 = nn.BatchNorm2d(64)\n",
    "        self.conv3 = nn.Conv2d(64, 128, 3, padding=1)\n",
    "        self.bn3 = nn.BatchNorm2d(128)\n",
    "        self.pool = nn.MaxPool2d(2, 2)\n",
    "        self.fc1 = nn.Linear(128 * 4 * 4, 256)\n",
    "        self.fc2 = nn.Linear(256, num_classes)\n",
    "\n",
    "    def forward(self, x):\n",
    "        x = self.pool(F.relu(self.bn1(self.conv1(x))))   # 32x16x16\n",
    "        x = self.pool(F.relu(self.bn2(self.conv2(x))))   # 64x8x8\n",
    "        x = self.pool(F.relu(self.bn3(self.conv3(x))))   # 128x4x4\n",
    "        x = x.view(x.size(0), -1)\n",
    "        x = F.relu(self.fc1(x))\n",
    "        return self.fc2(x)\n",
    "\n",
    "# -----------------\n",
    "# Utils to flatten/assign grads\n",
    "# -----------------\n",
    "def flatten_grads(model):\n",
    "    parts = []\n",
    "    for p in model.parameters():\n",
    "        if p.requires_grad and p.grad is not None:\n",
    "            parts.append(p.grad.view(-1))\n",
    "    return torch.cat(parts) if parts else torch.tensor([], device=next(model.parameters()).device)\n",
    "\n",
    "def assign_grads_from_vector(model, grad_vec):\n",
    "    offset = 0\n",
    "    for p in model.parameters():\n",
    "        if not p.requires_grad:\n",
    "            continue\n",
    "        n = p.numel()\n",
    "        if p.grad is None:\n",
    "            p.grad = torch.zeros_like(p)\n",
    "        p.grad.copy_(grad_vec[offset:offset+n].view_as(p))\n",
    "        offset += n\n",
    "\n",
    "# -----------------\n",
    "# OGD (Option 2: stores optimizer & criterion internally)\n",
    "# -----------------\n",
    "class OGD:\n",
    "    def __init__(self, model, optimizer, criterion, device,\n",
    "                 max_mem_dirs=1000, grad_eps=1e-6):\n",
    "        self.model = model.to(device)\n",
    "        self.optimizer = optimizer\n",
    "        self.criterion = criterion\n",
    "        self.device = device\n",
    "\n",
    "        self.P = sum(p.numel() for p in self.model.parameters() if p.requires_grad)\n",
    "        self.memory = None   # [k, P], orthonormal rows (unit-norm)\n",
    "        self.max_mem_dirs = max_mem_dirs\n",
    "        self.grad_eps = grad_eps\n",
    "\n",
    "    @torch.no_grad()\n",
    "    def _project_onto_complement(self, g):\n",
    "        # g: [P]\n",
    "        if self.memory is None or self.memory.size(0) == 0:\n",
    "            return g\n",
    "        # Memory rows are orthonormal ⇒ projection is g_perp = g - M^T (M g)\n",
    "        Mg = torch.mv(self.memory, g)            # [k]\n",
    "        g_perp = g - torch.mv(self.memory.t(), Mg)\n",
    "        return g_perp\n",
    "\n",
    "    @torch.no_grad()\n",
    "    def _add_dir_to_memory(self, g):\n",
    "        # Gram-Schmidt orth against existing memory; if large enough, normalize & append\n",
    "        if self.memory is not None and self.memory.size(0) > 0:\n",
    "            Mg = torch.mv(self.memory, g)\n",
    "            g = g - torch.mv(self.memory.t(), Mg)\n",
    "        norm = torch.linalg.norm(g)\n",
    "        if norm > self.grad_eps:\n",
    "            g = g / norm\n",
    "            if self.memory is None:\n",
    "                self.memory = g.unsqueeze(0)\n",
    "            else:\n",
    "                if self.memory.size(0) < self.max_mem_dirs:\n",
    "                    self.memory = torch.vstack([self.memory, g])\n",
    "                else:\n",
    "                    # Replace a random row to maintain diversity (FIFO/random policy)\n",
    "                    idx = torch.randint(0, self.memory.size(0), (1,)).item()\n",
    "                    self.memory[idx] = g\n",
    "\n",
    "    def observe(self, x, y):\n",
    "        \"\"\"One OGD training step on a batch.\"\"\"\n",
    "        self.model.train()\n",
    "        x, y = x.to(self.device), y.to(self.device)\n",
    "\n",
    "        self.optimizer.zero_grad(set_to_none=True)\n",
    "        logits = self.model(x)\n",
    "        loss = self.criterion(logits, y)\n",
    "        loss.backward()\n",
    "\n",
    "        # Flatten grads → project → assign → step\n",
    "        g = flatten_grads(self.model).detach()\n",
    "        g_perp = self._project_onto_complement(g)\n",
    "        assign_grads_from_vector(self.model, g_perp)\n",
    "        self.optimizer.step()\n",
    "        return loss.item()\n",
    "\n",
    "    def end_task(self, dataloader, dirs_to_add=100, harvest_batches=30):\n",
    "        \"\"\"Harvest gradient directions (from current task) to expand memory.\"\"\"\n",
    "        self.model.train()\n",
    "        for p in self.model.parameters():\n",
    "            p.requires_grad_(True)\n",
    "        torch.set_grad_enabled(True)\n",
    "\n",
    "        added, seen = 0, 0\n",
    "        for xb, yb in dataloader:\n",
    "            if seen >= harvest_batches or added >= dirs_to_add:\n",
    "                break\n",
    "            seen += 1\n",
    "\n",
    "            xb, yb = xb.to(self.device), yb.to(self.device)\n",
    "            self.model.zero_grad(set_to_none=True)\n",
    "            logits = self.model(xb)\n",
    "            loss = self.criterion(logits, yb)\n",
    "            loss.backward()\n",
    "\n",
    "            g = flatten_grads(self.model).detach()\n",
    "            self._add_dir_to_memory(g)\n",
    "            added += 1\n",
    "\n",
    "        print(f\"[OGD] Harvested {added} dirs (seen {seen} batches). \"\n",
    "              f\"Memory size: {0 if self.memory is None else self.memory.size(0)}\")\n",
    "\n",
    "# -----------------\n",
    "# Eval\n",
    "# -----------------\n",
    "@torch.no_grad()\n",
    "def evaluate(model, dataloader, device):\n",
    "    model.eval()\n",
    "    correct, total = 0, 0\n",
    "    for xb, yb in dataloader:\n",
    "        xb, yb = xb.to(device), yb.to(device)\n",
    "        preds = model(xb).argmax(1)\n",
    "        correct += (preds == yb).sum().item()\n",
    "        total += yb.size(0)\n",
    "    return correct / max(1, total)\n",
    "\n",
    "# -----------------\n",
    "# Init model/optimizer/criterion/OGD\n",
    "# -----------------\n",
    "model = SimpleCNN(num_classes=classes_per_task).to(device)\n",
    "optimizer = torch.optim.SGD(model.parameters(), lr=learning_rate, momentum=momentum, weight_decay=weight_decay)\n",
    "criterion = nn.CrossEntropyLoss()\n",
    "\n",
    "ogd = OGD(model, optimizer, criterion, device,\n",
    "          max_mem_dirs=max_mem_dirs, grad_eps=grad_eps)\n",
    "\n",
    "# -----------------\n",
    "# Train across tasks\n",
    "# -----------------\n",
    "accuracy_matrix = np.zeros((num_tasks, num_tasks), dtype=np.float32)\n",
    "\n",
    "loader_kwargs = dict(num_workers=2, pin_memory=True) if device.type == \"cuda\" else dict(num_workers=0)\n",
    "\n",
    "for t in range(num_tasks):\n",
    "    # Datasets & loaders for task t (labels remapped to 0..9)\n",
    "    class_map = {orig: i for i, orig in enumerate(task_class_lists[t])}\n",
    "    train_ds_t = MapLabelsDataset(train_full, train_indices_per_task[t], class_map)\n",
    "    test_ds_t  = MapLabelsDataset(test_full,  test_indices_per_task[t],  class_map)\n",
    "\n",
    "    train_loader = DataLoader(train_ds_t, batch_size=batch_size, shuffle=True,  **loader_kwargs)\n",
    "    test_loader  = DataLoader(test_ds_t,  batch_size=batch_size, shuffle=False, **loader_kwargs)\n",
    "\n",
    "    print(f\"\\n=== Task {t+1}/{num_tasks} | classes {task_class_lists[t][0]}..{task_class_lists[t][-1]} ===\")\n",
    "    for epoch in range(1, num_epochs + 1):\n",
    "        running = 0.0\n",
    "        for xb, yb in tqdm(train_loader, desc=f\"Task {t+1} Epoch {epoch}\"):\n",
    "            running += ogd.observe(xb, yb)\n",
    "        print(f\"Epoch {epoch}: loss={running/len(train_loader):.4f}\")\n",
    "\n",
    "    # Evaluate on all seen tasks so far\n",
    "    for j in range(t + 1):\n",
    "        class_map_eval = {orig: i for i, orig in enumerate(task_class_lists[j])}\n",
    "        test_ds_eval = MapLabelsDataset(test_full, test_indices_per_task[j], class_map_eval)\n",
    "        test_loader_eval = DataLoader(test_ds_eval, batch_size=batch_size, shuffle=False, **loader_kwargs)\n",
    "        acc = evaluate(ogd.model, test_loader_eval, device)\n",
    "        accuracy_matrix[t, j] = acc\n",
    "        print(f\"Accuracy on Task {j+1}: {acc:.3f}\")\n",
    "\n",
    "    # Grow OGD memory from current task data\n",
    "    ogd.end_task(train_loader, dirs_to_add=dirs_per_task, harvest_batches=harvest_batches)\n",
    "\n",
    "# -----------------\n",
    "# Metrics\n",
    "# -----------------\n",
    "ACC = accuracy_matrix[-1, :].mean()\n",
    "if num_tasks > 1:\n",
    "    F   = np.mean([np.max(accuracy_matrix[:num_tasks-1, j]) - accuracy_matrix[-1, j] for j in range(num_tasks-1)])\n",
    "    BWT = np.mean([accuracy_matrix[-1, j] - accuracy_matrix[j, j] for j in range(num_tasks-1)])\n",
    "    FWT = np.mean([accuracy_matrix[i, i+1] for i in range(num_tasks-1)])\n",
    "else:\n",
    "    F = BWT = FWT = 0.0\n",
    "\n",
    "P = sum(p.numel() for p in ogd.model.parameters() if p.requires_grad)\n",
    "k = 0 if ogd.memory is None else ogd.memory.size(0)\n",
    "mem_usage_mb = (k * P * 4) / (1024**2)  # float32\n",
    "PSM = 0.5 * (1 - F) + 0.5 * max(FWT, 0)\n",
    "\n",
    "print(\"\\n=== Metrics (Split CIFAR-100, CNN, OGD) ===\")\n",
    "print(f\"ACC={ACC:.4f}, F={F:.4f}, BWT={BWT:.4f}, FWT={FWT:.4f}, Mem={mem_usage_mb:.2f} MB, PSM={PSM:.4f}\")\n",
    "\n",
    "# -----------------\n",
    "# Plot accuracy matrix\n",
    "# -----------------\n",
    "plt.figure(figsize=(6,5))\n",
    "plt.imshow(accuracy_matrix, interpolation='nearest')\n",
    "plt.colorbar(label='Accuracy')\n",
    "plt.xlabel('Evaluation Task')\n",
    "plt.ylabel('Training Task')\n",
    "plt.title('OGD Accuracy Matrix (Split CIFAR-100 CNN)')\n",
    "plt.tight_layout()\n",
    "plt.show()"
   ]
  },
  {
   "cell_type": "code",
   "execution_count": 5,
   "id": "fc6d4b46-fa78-46ee-8c0e-8c866e0d5be3",
   "metadata": {},
   "outputs": [
    {
     "name": "stdout",
     "output_type": "stream",
     "text": [
      "Device: cuda\n",
      "\n",
      "=== Task 1/10 (unique pixel permutation) ===\n",
      "Files already downloaded and verified\n",
      "Files already downloaded and verified\n"
     ]
    },
    {
     "name": "stderr",
     "output_type": "stream",
     "text": [
      "Task 1 Epoch 1: 100%|██████████| 2084/2084 [00:16<00:00, 124.63it/s]\n"
     ]
    },
    {
     "name": "stdout",
     "output_type": "stream",
     "text": [
      "Epoch 1: loss=4.3247\n"
     ]
    },
    {
     "name": "stderr",
     "output_type": "stream",
     "text": [
      "Task 1 Epoch 2: 100%|██████████| 2084/2084 [00:15<00:00, 132.25it/s]\n"
     ]
    },
    {
     "name": "stdout",
     "output_type": "stream",
     "text": [
      "Epoch 2: loss=3.9347\n",
      "Files already downloaded and verified\n",
      "Accuracy on Task 1: 0.110\n",
      "[OGD] Harvested 30 dirs (seen 30 batches). Memory size: 30\n",
      "\n",
      "=== Task 2/10 (unique pixel permutation) ===\n",
      "Files already downloaded and verified\n",
      "Files already downloaded and verified\n"
     ]
    },
    {
     "name": "stderr",
     "output_type": "stream",
     "text": [
      "Task 2 Epoch 1: 100%|██████████| 2084/2084 [00:17<00:00, 118.73it/s]\n"
     ]
    },
    {
     "name": "stdout",
     "output_type": "stream",
     "text": [
      "Epoch 1: loss=3.9525\n"
     ]
    },
    {
     "name": "stderr",
     "output_type": "stream",
     "text": [
      "Task 2 Epoch 2: 100%|██████████| 2084/2084 [00:18<00:00, 115.09it/s]\n"
     ]
    },
    {
     "name": "stdout",
     "output_type": "stream",
     "text": [
      "Epoch 2: loss=3.7521\n",
      "Files already downloaded and verified\n",
      "Accuracy on Task 1: 0.058\n",
      "Files already downloaded and verified\n",
      "Accuracy on Task 2: 0.138\n",
      "[OGD] Harvested 30 dirs (seen 30 batches). Memory size: 60\n",
      "\n",
      "=== Task 3/10 (unique pixel permutation) ===\n",
      "Files already downloaded and verified\n",
      "Files already downloaded and verified\n"
     ]
    },
    {
     "name": "stderr",
     "output_type": "stream",
     "text": [
      "Task 3 Epoch 1: 100%|██████████| 2084/2084 [00:16<00:00, 129.07it/s]\n"
     ]
    },
    {
     "name": "stdout",
     "output_type": "stream",
     "text": [
      "Epoch 1: loss=3.8712\n"
     ]
    },
    {
     "name": "stderr",
     "output_type": "stream",
     "text": [
      "Task 3 Epoch 2: 100%|██████████| 2084/2084 [00:17<00:00, 122.57it/s]\n"
     ]
    },
    {
     "name": "stdout",
     "output_type": "stream",
     "text": [
      "Epoch 2: loss=3.6755\n",
      "Files already downloaded and verified\n",
      "Accuracy on Task 1: 0.039\n",
      "Files already downloaded and verified\n",
      "Accuracy on Task 2: 0.072\n",
      "Files already downloaded and verified\n",
      "Accuracy on Task 3: 0.150\n",
      "[OGD] Harvested 30 dirs (seen 30 batches). Memory size: 90\n",
      "\n",
      "=== Task 4/10 (unique pixel permutation) ===\n",
      "Files already downloaded and verified\n",
      "Files already downloaded and verified\n"
     ]
    },
    {
     "name": "stderr",
     "output_type": "stream",
     "text": [
      "Task 4 Epoch 1: 100%|██████████| 2084/2084 [00:17<00:00, 116.83it/s]\n"
     ]
    },
    {
     "name": "stdout",
     "output_type": "stream",
     "text": [
      "Epoch 1: loss=3.8202\n"
     ]
    },
    {
     "name": "stderr",
     "output_type": "stream",
     "text": [
      "Task 4 Epoch 2: 100%|██████████| 2084/2084 [00:17<00:00, 118.43it/s]\n"
     ]
    },
    {
     "name": "stdout",
     "output_type": "stream",
     "text": [
      "Epoch 2: loss=3.6334\n",
      "Files already downloaded and verified\n",
      "Accuracy on Task 1: 0.032\n",
      "Files already downloaded and verified\n",
      "Accuracy on Task 2: 0.043\n",
      "Files already downloaded and verified\n",
      "Accuracy on Task 3: 0.093\n",
      "Files already downloaded and verified\n",
      "Accuracy on Task 4: 0.160\n",
      "[OGD] Harvested 30 dirs (seen 30 batches). Memory size: 120\n",
      "\n",
      "=== Task 5/10 (unique pixel permutation) ===\n",
      "Files already downloaded and verified\n",
      "Files already downloaded and verified\n"
     ]
    },
    {
     "name": "stderr",
     "output_type": "stream",
     "text": [
      "Task 5 Epoch 1: 100%|██████████| 2084/2084 [00:18<00:00, 111.91it/s]\n"
     ]
    },
    {
     "name": "stdout",
     "output_type": "stream",
     "text": [
      "Epoch 1: loss=3.7899\n"
     ]
    },
    {
     "name": "stderr",
     "output_type": "stream",
     "text": [
      "Task 5 Epoch 2: 100%|██████████| 2084/2084 [00:18<00:00, 110.27it/s]\n"
     ]
    },
    {
     "name": "stdout",
     "output_type": "stream",
     "text": [
      "Epoch 2: loss=3.5924\n",
      "Files already downloaded and verified\n",
      "Accuracy on Task 1: 0.027\n",
      "Files already downloaded and verified\n",
      "Accuracy on Task 2: 0.030\n",
      "Files already downloaded and verified\n",
      "Accuracy on Task 3: 0.050\n",
      "Files already downloaded and verified\n",
      "Accuracy on Task 4: 0.077\n",
      "Files already downloaded and verified\n",
      "Accuracy on Task 5: 0.161\n",
      "[OGD] Harvested 30 dirs (seen 30 batches). Memory size: 150\n",
      "\n",
      "=== Task 6/10 (unique pixel permutation) ===\n",
      "Files already downloaded and verified\n",
      "Files already downloaded and verified\n"
     ]
    },
    {
     "name": "stderr",
     "output_type": "stream",
     "text": [
      "Task 6 Epoch 1: 100%|██████████| 2084/2084 [00:18<00:00, 112.62it/s]\n"
     ]
    },
    {
     "name": "stdout",
     "output_type": "stream",
     "text": [
      "Epoch 1: loss=3.7994\n"
     ]
    },
    {
     "name": "stderr",
     "output_type": "stream",
     "text": [
      "Task 6 Epoch 2: 100%|██████████| 2084/2084 [00:18<00:00, 111.64it/s]\n"
     ]
    },
    {
     "name": "stdout",
     "output_type": "stream",
     "text": [
      "Epoch 2: loss=3.5860\n",
      "Files already downloaded and verified\n",
      "Accuracy on Task 1: 0.025\n",
      "Files already downloaded and verified\n",
      "Accuracy on Task 2: 0.024\n",
      "Files already downloaded and verified\n",
      "Accuracy on Task 3: 0.034\n",
      "Files already downloaded and verified\n",
      "Accuracy on Task 4: 0.039\n",
      "Files already downloaded and verified\n",
      "Accuracy on Task 5: 0.088\n",
      "Files already downloaded and verified\n",
      "Accuracy on Task 6: 0.160\n",
      "[OGD] Harvested 30 dirs (seen 30 batches). Memory size: 180\n",
      "\n",
      "=== Task 7/10 (unique pixel permutation) ===\n",
      "Files already downloaded and verified\n",
      "Files already downloaded and verified\n"
     ]
    },
    {
     "name": "stderr",
     "output_type": "stream",
     "text": [
      "Task 7 Epoch 1: 100%|██████████| 2084/2084 [00:17<00:00, 116.99it/s]\n"
     ]
    },
    {
     "name": "stdout",
     "output_type": "stream",
     "text": [
      "Epoch 1: loss=3.7802\n"
     ]
    },
    {
     "name": "stderr",
     "output_type": "stream",
     "text": [
      "Task 7 Epoch 2: 100%|██████████| 2084/2084 [00:18<00:00, 111.57it/s]\n"
     ]
    },
    {
     "name": "stdout",
     "output_type": "stream",
     "text": [
      "Epoch 2: loss=3.5576\n",
      "Files already downloaded and verified\n",
      "Accuracy on Task 1: 0.029\n",
      "Files already downloaded and verified\n",
      "Accuracy on Task 2: 0.025\n",
      "Files already downloaded and verified\n",
      "Accuracy on Task 3: 0.034\n",
      "Files already downloaded and verified\n",
      "Accuracy on Task 4: 0.036\n",
      "Files already downloaded and verified\n",
      "Accuracy on Task 5: 0.043\n",
      "Files already downloaded and verified\n",
      "Accuracy on Task 6: 0.086\n",
      "Files already downloaded and verified\n",
      "Accuracy on Task 7: 0.172\n",
      "[OGD] Harvested 30 dirs (seen 30 batches). Memory size: 210\n",
      "\n",
      "=== Task 8/10 (unique pixel permutation) ===\n",
      "Files already downloaded and verified\n",
      "Files already downloaded and verified\n"
     ]
    },
    {
     "name": "stderr",
     "output_type": "stream",
     "text": [
      "Task 8 Epoch 1: 100%|██████████| 2084/2084 [00:18<00:00, 111.36it/s]\n"
     ]
    },
    {
     "name": "stdout",
     "output_type": "stream",
     "text": [
      "Epoch 1: loss=3.7676\n"
     ]
    },
    {
     "name": "stderr",
     "output_type": "stream",
     "text": [
      "Task 8 Epoch 2: 100%|██████████| 2084/2084 [00:18<00:00, 109.97it/s]\n"
     ]
    },
    {
     "name": "stdout",
     "output_type": "stream",
     "text": [
      "Epoch 2: loss=3.5461\n",
      "Files already downloaded and verified\n",
      "Accuracy on Task 1: 0.028\n",
      "Files already downloaded and verified\n",
      "Accuracy on Task 2: 0.024\n",
      "Files already downloaded and verified\n",
      "Accuracy on Task 3: 0.030\n",
      "Files already downloaded and verified\n",
      "Accuracy on Task 4: 0.033\n",
      "Files already downloaded and verified\n",
      "Accuracy on Task 5: 0.040\n",
      "Files already downloaded and verified\n",
      "Accuracy on Task 6: 0.048\n",
      "Files already downloaded and verified\n",
      "Accuracy on Task 7: 0.098\n",
      "Files already downloaded and verified\n",
      "Accuracy on Task 8: 0.173\n",
      "[OGD] Harvested 30 dirs (seen 30 batches). Memory size: 240\n",
      "\n",
      "=== Task 9/10 (unique pixel permutation) ===\n",
      "Files already downloaded and verified\n",
      "Files already downloaded and verified\n"
     ]
    },
    {
     "name": "stderr",
     "output_type": "stream",
     "text": [
      "Task 9 Epoch 1: 100%|██████████| 2084/2084 [00:18<00:00, 112.14it/s]\n"
     ]
    },
    {
     "name": "stdout",
     "output_type": "stream",
     "text": [
      "Epoch 1: loss=3.7384\n"
     ]
    },
    {
     "name": "stderr",
     "output_type": "stream",
     "text": [
      "Task 9 Epoch 2: 100%|██████████| 2084/2084 [00:18<00:00, 114.69it/s]\n"
     ]
    },
    {
     "name": "stdout",
     "output_type": "stream",
     "text": [
      "Epoch 2: loss=3.5283\n",
      "Files already downloaded and verified\n",
      "Accuracy on Task 1: 0.028\n",
      "Files already downloaded and verified\n",
      "Accuracy on Task 2: 0.026\n",
      "Files already downloaded and verified\n",
      "Accuracy on Task 3: 0.028\n",
      "Files already downloaded and verified\n",
      "Accuracy on Task 4: 0.030\n",
      "Files already downloaded and verified\n",
      "Accuracy on Task 5: 0.034\n",
      "Files already downloaded and verified\n",
      "Accuracy on Task 6: 0.034\n",
      "Files already downloaded and verified\n",
      "Accuracy on Task 7: 0.054\n",
      "Files already downloaded and verified\n",
      "Accuracy on Task 8: 0.099\n",
      "Files already downloaded and verified\n",
      "Accuracy on Task 9: 0.167\n",
      "[OGD] Harvested 30 dirs (seen 30 batches). Memory size: 270\n",
      "\n",
      "=== Task 10/10 (unique pixel permutation) ===\n",
      "Files already downloaded and verified\n",
      "Files already downloaded and verified\n"
     ]
    },
    {
     "name": "stderr",
     "output_type": "stream",
     "text": [
      "Task 10 Epoch 1: 100%|██████████| 2084/2084 [00:19<00:00, 105.69it/s]\n"
     ]
    },
    {
     "name": "stdout",
     "output_type": "stream",
     "text": [
      "Epoch 1: loss=3.7127\n"
     ]
    },
    {
     "name": "stderr",
     "output_type": "stream",
     "text": [
      "Task 10 Epoch 2: 100%|██████████| 2084/2084 [00:19<00:00, 105.26it/s]\n"
     ]
    },
    {
     "name": "stdout",
     "output_type": "stream",
     "text": [
      "Epoch 2: loss=3.5077\n",
      "Files already downloaded and verified\n",
      "Accuracy on Task 1: 0.025\n",
      "Files already downloaded and verified\n",
      "Accuracy on Task 2: 0.026\n",
      "Files already downloaded and verified\n",
      "Accuracy on Task 3: 0.026\n",
      "Files already downloaded and verified\n",
      "Accuracy on Task 4: 0.027\n",
      "Files already downloaded and verified\n",
      "Accuracy on Task 5: 0.033\n",
      "Files already downloaded and verified\n",
      "Accuracy on Task 6: 0.030\n",
      "Files already downloaded and verified\n",
      "Accuracy on Task 7: 0.047\n",
      "Files already downloaded and verified\n",
      "Accuracy on Task 8: 0.061\n",
      "Files already downloaded and verified\n",
      "Accuracy on Task 9: 0.110\n",
      "Files already downloaded and verified\n",
      "Accuracy on Task 10: 0.176\n",
      "[OGD] Harvested 30 dirs (seen 30 batches). Memory size: 300\n",
      "\n",
      "=== Metrics (Permuted CIFAR-100, CNN, OGD) ===\n",
      "ACC=0.0562, F=0.1117, BWT=-0.1117, FWT=0.0000, Mem=736.93 MB, PSM=0.4442\n"
     ]
    },
    {
     "data": {
      "image/png": "[encoded data removed]",
      "text/plain": [
       "<Figure size 600x500 with 2 Axes>"
      ]
     },
     "metadata": {},
     "output_type": "display_data"
    }
   ],
   "source": [
    "# ====================================================\n",
    "# OGD on Permuted CIFAR-100 (num_tasks × 100 classes)\n",
    "# ====================================================\n",
    "# - Same CNN & OGD implementation as Split CIFAR-100\n",
    "# - Each task has a unique, fixed pixel permutation\n",
    "# - Full label space per task (0..99)\n",
    "# ====================================================\n",
    "\n",
    "import os\n",
    "import math\n",
    "import random\n",
    "import numpy as np\n",
    "import torch\n",
    "import torch.nn as nn\n",
    "import torch.nn.functional as F\n",
    "from torch.utils.data import DataLoader\n",
    "from torchvision import datasets, transforms\n",
    "from tqdm import tqdm\n",
    "import matplotlib.pyplot as plt\n",
    "\n",
    "# -----------------\n",
    "# Repro & Device\n",
    "# -----------------\n",
    "seed = 42\n",
    "random.seed(seed)\n",
    "np.random.seed(seed)\n",
    "torch.manual_seed(seed)\n",
    "torch.cuda.manual_seed_all(seed)\n",
    "torch.backends.cudnn.benchmark = True\n",
    "\n",
    "device = torch.device(\"cuda\" if torch.cuda.is_available() else \"cpu\")\n",
    "print(\"Device:\", device)\n",
    "\n",
    "# -----------------\n",
    "# Hyperparameters\n",
    "# -----------------\n",
    "root = \"./data\"\n",
    "num_tasks = 10\n",
    "num_classes = 100\n",
    "batch_size = 24 \n",
    "num_epochs = 2\n",
    "download = True\n",
    "\n",
    "# Optimizer/loss\n",
    "learning_rate = 0.001\n",
    "weight_decay = 5e-4\n",
    "momentum = 0.9\n",
    "\n",
    "# OGD memory\n",
    "max_mem_dirs = 1000\n",
    "dirs_per_task = 120\n",
    "harvest_batches = 30\n",
    "grad_eps = 1e-6\n",
    "\n",
    "# -----------------\n",
    "# Base normalization\n",
    "# -----------------\n",
    "normalize = transforms.Normalize(mean=(0.5071, 0.4867, 0.4408),\n",
    "                                 std=(0.2675, 0.2565, 0.2761))\n",
    "\n",
    "# -----------------\n",
    "# Generate pixel permutations for each task\n",
    "# -----------------\n",
    "img_size = 32\n",
    "num_pixels = img_size * img_size * 3\n",
    "permutations = [torch.randperm(num_pixels) for _ in range(num_tasks)]\n",
    "\n",
    "class PermutePixels:\n",
    "    \"\"\"Transform to permute pixels using a fixed order.\"\"\"\n",
    "    def __init__(self, perm):\n",
    "        self.perm = perm\n",
    "\n",
    "    def __call__(self, img):\n",
    "        # img: Tensor [C,H,W]\n",
    "        c, h, w = img.size()\n",
    "        flat = img.view(-1)\n",
    "        permuted = flat[self.perm]\n",
    "        return permuted.view(c, h, w)\n",
    "\n",
    "# -----------------\n",
    "# Model\n",
    "# -----------------\n",
    "class SimpleCNN(nn.Module):\n",
    "    def __init__(self, num_classes=100):\n",
    "        super().__init__()\n",
    "        self.conv1 = nn.Conv2d(3, 32, 3, padding=1)\n",
    "        self.bn1 = nn.BatchNorm2d(32)\n",
    "        self.conv2 = nn.Conv2d(32, 64, 3, padding=1)\n",
    "        self.bn2 = nn.BatchNorm2d(64)\n",
    "        self.conv3 = nn.Conv2d(64, 128, 3, padding=1)\n",
    "        self.bn3 = nn.BatchNorm2d(128)\n",
    "        self.pool = nn.MaxPool2d(2, 2)\n",
    "        self.fc1 = nn.Linear(128 * 4 * 4, 256)\n",
    "        self.fc2 = nn.Linear(256, num_classes)\n",
    "\n",
    "    def forward(self, x):\n",
    "        x = self.pool(F.relu(self.bn1(self.conv1(x))))\n",
    "        x = self.pool(F.relu(self.bn2(self.conv2(x))))\n",
    "        x = self.pool(F.relu(self.bn3(self.conv3(x))))\n",
    "        x = x.view(x.size(0), -1)\n",
    "        x = F.relu(self.fc1(x))\n",
    "        return self.fc2(x)\n",
    "\n",
    "# -----------------\n",
    "# Utils for grads\n",
    "# -----------------\n",
    "def flatten_grads(model):\n",
    "    parts = []\n",
    "    for p in model.parameters():\n",
    "        if p.requires_grad and p.grad is not None:\n",
    "            parts.append(p.grad.view(-1))\n",
    "    return torch.cat(parts) if parts else torch.tensor([], device=next(model.parameters()).device)\n",
    "\n",
    "def assign_grads_from_vector(model, grad_vec):\n",
    "    offset = 0\n",
    "    for p in model.parameters():\n",
    "        if not p.requires_grad:\n",
    "            continue\n",
    "        n = p.numel()\n",
    "        if p.grad is None:\n",
    "            p.grad = torch.zeros_like(p)\n",
    "        p.grad.copy_(grad_vec[offset:offset+n].view_as(p))\n",
    "        offset += n\n",
    "\n",
    "# -----------------\n",
    "# OGD (same as before)\n",
    "# -----------------\n",
    "class OGD:\n",
    "    def __init__(self, model, optimizer, criterion, device,\n",
    "                 max_mem_dirs=1000, grad_eps=1e-6):\n",
    "        self.model = model.to(device)\n",
    "        self.optimizer = optimizer\n",
    "        self.criterion = criterion\n",
    "        self.device = device\n",
    "\n",
    "        self.P = sum(p.numel() for p in self.model.parameters() if p.requires_grad)\n",
    "        self.memory = None\n",
    "        self.max_mem_dirs = max_mem_dirs\n",
    "        self.grad_eps = grad_eps\n",
    "\n",
    "    @torch.no_grad()\n",
    "    def _project_onto_complement(self, g):\n",
    "        if self.memory is None or self.memory.size(0) == 0:\n",
    "            return g\n",
    "        Mg = torch.mv(self.memory, g)\n",
    "        g_perp = g - torch.mv(self.memory.t(), Mg)\n",
    "        return g_perp\n",
    "\n",
    "    @torch.no_grad()\n",
    "    def _add_dir_to_memory(self, g):\n",
    "        if self.memory is not None and self.memory.size(0) > 0:\n",
    "            Mg = torch.mv(self.memory, g)\n",
    "            g = g - torch.mv(self.memory.t(), Mg)\n",
    "        norm = torch.linalg.norm(g)\n",
    "        if norm > self.grad_eps:\n",
    "            g = g / norm\n",
    "            if self.memory is None:\n",
    "                self.memory = g.unsqueeze(0)\n",
    "            else:\n",
    "                if self.memory.size(0) < self.max_mem_dirs:\n",
    "                    self.memory = torch.vstack([self.memory, g])\n",
    "                else:\n",
    "                    idx = torch.randint(0, self.memory.size(0), (1,)).item()\n",
    "                    self.memory[idx] = g\n",
    "\n",
    "    def observe(self, x, y):\n",
    "        self.model.train()\n",
    "        x, y = x.to(self.device), y.to(self.device)\n",
    "\n",
    "        self.optimizer.zero_grad(set_to_none=True)\n",
    "        logits = self.model(x)\n",
    "        loss = self.criterion(logits, y)\n",
    "        loss.backward()\n",
    "\n",
    "        g = flatten_grads(self.model).detach()\n",
    "        g_perp = self._project_onto_complement(g)\n",
    "        assign_grads_from_vector(self.model, g_perp)\n",
    "        self.optimizer.step()\n",
    "        return loss.item()\n",
    "\n",
    "    def end_task(self, dataloader, dirs_to_add=100, harvest_batches=30):\n",
    "        self.model.train()\n",
    "        for p in self.model.parameters():\n",
    "            p.requires_grad_(True)\n",
    "        torch.set_grad_enabled(True)\n",
    "\n",
    "        added, seen = 0, 0\n",
    "        for xb, yb in dataloader:\n",
    "            if seen >= harvest_batches or added >= dirs_to_add:\n",
    "                break\n",
    "            seen += 1\n",
    "\n",
    "            xb, yb = xb.to(self.device), yb.to(self.device)\n",
    "            self.model.zero_grad(set_to_none=True)\n",
    "            logits = self.model(xb)\n",
    "            loss = self.criterion(logits, yb)\n",
    "            loss.backward()\n",
    "\n",
    "            g = flatten_grads(self.model).detach()\n",
    "            self._add_dir_to_memory(g)\n",
    "            added += 1\n",
    "\n",
    "        print(f\"[OGD] Harvested {added} dirs (seen {seen} batches). \"\n",
    "              f\"Memory size: {0 if self.memory is None else self.memory.size(0)}\")\n",
    "\n",
    "# -----------------\n",
    "# Eval\n",
    "# -----------------\n",
    "@torch.no_grad()\n",
    "def evaluate(model, dataloader, device):\n",
    "    model.eval()\n",
    "    correct, total = 0, 0\n",
    "    for xb, yb in dataloader:\n",
    "        xb, yb = xb.to(device), yb.to(device)\n",
    "        preds = model(xb).argmax(1)\n",
    "        correct += (preds == yb).sum().item()\n",
    "        total += yb.size(0)\n",
    "    return correct / max(1, total)\n",
    "\n",
    "# -----------------\n",
    "# Init\n",
    "# -----------------\n",
    "model = SimpleCNN(num_classes=num_classes).to(device)\n",
    "optimizer = torch.optim.SGD(model.parameters(), lr=learning_rate, momentum=momentum, weight_decay=weight_decay)\n",
    "criterion = nn.CrossEntropyLoss()\n",
    "ogd = OGD(model, optimizer, criterion, device,\n",
    "          max_mem_dirs=max_mem_dirs, grad_eps=grad_eps)\n",
    "\n",
    "accuracy_matrix = np.zeros((num_tasks, num_tasks), dtype=np.float32)\n",
    "loader_kwargs = dict(num_workers=2, pin_memory=True) if device.type == \"cuda\" else dict(num_workers=0)\n",
    "\n",
    "# -----------------\n",
    "# Train across permuted tasks\n",
    "# -----------------\n",
    "for t in range(num_tasks):\n",
    "    print(f\"\\n=== Task {t+1}/{num_tasks} (unique pixel permutation) ===\")\n",
    "    \n",
    "    train_transform = transforms.Compose([\n",
    "        transforms.RandomCrop(32, padding=4),\n",
    "        transforms.RandomHorizontalFlip(),\n",
    "        transforms.ToTensor(),\n",
    "        PermutePixels(permutations[t]),\n",
    "        normalize\n",
    "    ])\n",
    "    test_transform = transforms.Compose([\n",
    "        transforms.ToTensor(),\n",
    "        PermutePixels(permutations[t]),\n",
    "        normalize\n",
    "    ])\n",
    "\n",
    "    train_ds_t = datasets.CIFAR100(root=root, train=True, download=download, transform=train_transform)\n",
    "    test_ds_t  = datasets.CIFAR100(root=root, train=False, download=download, transform=test_transform)\n",
    "\n",
    "    train_loader = DataLoader(train_ds_t, batch_size=batch_size, shuffle=True, **loader_kwargs)\n",
    "    test_loader  = DataLoader(test_ds_t, batch_size=batch_size, shuffle=False, **loader_kwargs)\n",
    "\n",
    "    for epoch in range(1, num_epochs + 1):\n",
    "        running = 0.0\n",
    "        for xb, yb in tqdm(train_loader, desc=f\"Task {t+1} Epoch {epoch}\"):\n",
    "            running += ogd.observe(xb, yb)\n",
    "        print(f\"Epoch {epoch}: loss={running/len(train_loader):.4f}\")\n",
    "\n",
    "    # Evaluate on all seen tasks\n",
    "    for j in range(t + 1):\n",
    "        eval_transform = transforms.Compose([\n",
    "            transforms.ToTensor(),\n",
    "            PermutePixels(permutations[j]),\n",
    "            normalize\n",
    "        ])\n",
    "        eval_ds = datasets.CIFAR100(root=root, train=False, download=download, transform=eval_transform)\n",
    "        eval_loader = DataLoader(eval_ds, batch_size=batch_size, shuffle=False, **loader_kwargs)\n",
    "        acc = evaluate(ogd.model, eval_loader, device)\n",
    "        accuracy_matrix[t, j] = acc\n",
    "        print(f\"Accuracy on Task {j+1}: {acc:.3f}\")\n",
    "\n",
    "    ogd.end_task(train_loader, dirs_to_add=dirs_per_task, harvest_batches=harvest_batches)\n",
    "\n",
    "# -----------------\n",
    "# Metrics\n",
    "# -----------------\n",
    "ACC = accuracy_matrix[-1, :].mean()\n",
    "if num_tasks > 1:\n",
    "    F   = np.mean([np.max(accuracy_matrix[:num_tasks-1, j]) - accuracy_matrix[-1, j] for j in range(num_tasks-1)])\n",
    "    BWT = np.mean([accuracy_matrix[-1, j] - accuracy_matrix[j, j] for j in range(num_tasks-1)])\n",
    "    FWT = np.mean([accuracy_matrix[i, i+1] for i in range(num_tasks-1)])\n",
    "else:\n",
    "    F = BWT = FWT = 0.0\n",
    "\n",
    "P = sum(p.numel() for p in ogd.model.parameters() if p.requires_grad)\n",
    "k = 0 if ogd.memory is None else ogd.memory.size(0)\n",
    "mem_usage_mb = (k * P * 4) / (1024**2)\n",
    "PSM = 0.5 * (1 - F) + 0.5 * max(FWT, 0)\n",
    "\n",
    "print(\"\\n=== Metrics (Permuted CIFAR-100, CNN, OGD) ===\")\n",
    "print(f\"ACC={ACC:.4f}, F={F:.4f}, BWT={BWT:.4f}, FWT={FWT:.4f}, Mem={mem_usage_mb:.2f} MB, PSM={PSM:.4f}\")\n",
    "\n",
    "# -----------------\n",
    "# Plot\n",
    "# -----------------\n",
    "plt.figure(figsize=(6,5))\n",
    "plt.imshow(accuracy_matrix, interpolation='nearest')\n",
    "plt.colorbar(label='Accuracy')\n",
    "plt.xlabel('Evaluation Task')\n",
    "plt.ylabel('Training Task')\n",
    "plt.title('OGD Accuracy Matrix (Permuted CIFAR-100 CNN)')\n",
    "plt.tight_layout()\n",
    "plt.show()"
   ]
  },
  {
   "cell_type": "code",
   "execution_count": 3,
   "id": "ecceb6fd-40d3-48e0-b18f-f203cd8199b6",
   "metadata": {},
   "outputs": [
    {
     "name": "stdout",
     "output_type": "stream",
     "text": [
      "Files already downloaded and verified\n",
      "Files already downloaded and verified\n",
      "Task 0: classes 0-1, train=10000, test=2000\n",
      "Task 1: classes 2-3, train=10000, test=2000\n",
      "Task 2: classes 4-5, train=10000, test=2000\n",
      "Task 3: classes 6-7, train=10000, test=2000\n",
      "Task 4: classes 8-9, train=10000, test=2000\n",
      "Prepared 5 tasks (Split CIFAR-10)\n",
      "\n",
      "=== Training Task 1 ===\n"
     ]
    },
    {
     "name": "stderr",
     "output_type": "stream",
     "text": [
      "100%|██████████| 313/313 [00:01<00:00, 197.99it/s]\n"
     ]
    },
    {
     "name": "stdout",
     "output_type": "stream",
     "text": [
      "Epoch 1, Loss=0.3035\n"
     ]
    },
    {
     "name": "stderr",
     "output_type": "stream",
     "text": [
      "100%|██████████| 313/313 [00:01<00:00, 194.58it/s]\n"
     ]
    },
    {
     "name": "stdout",
     "output_type": "stream",
     "text": [
      "Epoch 2, Loss=0.1691\n",
      "Accuracy on Task 1: 0.941\n",
      "\n",
      "=== Training Task 2 ===\n"
     ]
    },
    {
     "name": "stderr",
     "output_type": "stream",
     "text": [
      "100%|██████████| 313/313 [00:01<00:00, 200.19it/s]\n"
     ]
    },
    {
     "name": "stdout",
     "output_type": "stream",
     "text": [
      "Epoch 1, Loss=0.4776\n"
     ]
    },
    {
     "name": "stderr",
     "output_type": "stream",
     "text": [
      "100%|██████████| 313/313 [00:01<00:00, 189.69it/s]\n"
     ]
    },
    {
     "name": "stdout",
     "output_type": "stream",
     "text": [
      "Epoch 2, Loss=0.3785\n",
      "Accuracy on Task 1: 0.749\n",
      "Accuracy on Task 2: 0.828\n",
      "\n",
      "=== Training Task 3 ===\n"
     ]
    },
    {
     "name": "stderr",
     "output_type": "stream",
     "text": [
      "100%|██████████| 313/313 [00:01<00:00, 196.83it/s]\n"
     ]
    },
    {
     "name": "stdout",
     "output_type": "stream",
     "text": [
      "Epoch 1, Loss=0.3822\n"
     ]
    },
    {
     "name": "stderr",
     "output_type": "stream",
     "text": [
      "100%|██████████| 313/313 [00:01<00:00, 208.92it/s]\n"
     ]
    },
    {
     "name": "stdout",
     "output_type": "stream",
     "text": [
      "Epoch 2, Loss=0.2782\n",
      "Accuracy on Task 1: 0.734\n",
      "Accuracy on Task 2: 0.700\n",
      "Accuracy on Task 3: 0.882\n",
      "\n",
      "=== Training Task 4 ===\n"
     ]
    },
    {
     "name": "stderr",
     "output_type": "stream",
     "text": [
      "100%|██████████| 313/313 [00:01<00:00, 198.13it/s]\n"
     ]
    },
    {
     "name": "stdout",
     "output_type": "stream",
     "text": [
      "Epoch 1, Loss=0.2448\n"
     ]
    },
    {
     "name": "stderr",
     "output_type": "stream",
     "text": [
      "100%|██████████| 313/313 [00:01<00:00, 242.90it/s]\n"
     ]
    },
    {
     "name": "stdout",
     "output_type": "stream",
     "text": [
      "Epoch 2, Loss=0.1074\n",
      "Accuracy on Task 1: 0.491\n",
      "Accuracy on Task 2: 0.532\n",
      "Accuracy on Task 3: 0.643\n",
      "Accuracy on Task 4: 0.959\n",
      "\n",
      "=== Training Task 5 ===\n"
     ]
    },
    {
     "name": "stderr",
     "output_type": "stream",
     "text": [
      "100%|██████████| 313/313 [00:01<00:00, 189.82it/s]\n"
     ]
    },
    {
     "name": "stdout",
     "output_type": "stream",
     "text": [
      "Epoch 1, Loss=0.2641\n"
     ]
    },
    {
     "name": "stderr",
     "output_type": "stream",
     "text": [
      "100%|██████████| 313/313 [00:01<00:00, 200.72it/s]\n"
     ]
    },
    {
     "name": "stdout",
     "output_type": "stream",
     "text": [
      "Epoch 2, Loss=0.1635\n",
      "Accuracy on Task 1: 0.793\n",
      "Accuracy on Task 2: 0.580\n",
      "Accuracy on Task 3: 0.516\n",
      "Accuracy on Task 4: 0.580\n",
      "Accuracy on Task 5: 0.930\n",
      "=== Metrics (Split CIFAR-10 CNN OGD) ===\n",
      "ACC=0.6800, F=0.2851, BWT=-0.2851, FWT=0.0000, Mem=20.38MB, PSM=0.3574\n"
     ]
    },
    {
     "data": {
      "image/png": "[encoded data removed]",
      "text/plain": [
       "<Figure size 600x500 with 2 Axes>"
      ]
     },
     "metadata": {},
     "output_type": "display_data"
    }
   ],
   "source": [
    "# === Cell: prepare CIFAR-10 tasks for OGD (split) with CNN ===\n",
    "import torch\n",
    "import torch.nn as nn\n",
    "import torch.nn.functional as F\n",
    "import torch.optim as optim\n",
    "from torch.utils.data import DataLoader, TensorDataset\n",
    "import numpy as np\n",
    "from torchvision import datasets, transforms\n",
    "import matplotlib.pyplot as plt\n",
    "from tqdm import tqdm\n",
    "import random\n",
    "\n",
    "device = torch.device(\"cuda\" if torch.cuda.is_available() else \"cpu\")\n",
    "\n",
    "# === Hyperparameters ===\n",
    "root = './data'\n",
    "num_tasks = 5            \n",
    "num_classes = 10         \n",
    "classes_per_task = num_classes // num_tasks   # = 2\n",
    "batch_size = 32\n",
    "download = True\n",
    "num_epochs = 2\n",
    "learning_rate = 0.001\n",
    "mem_size = 200   # how many gradient directions to store per task\n",
    "\n",
    "# CIFAR-10 mean/std for normalization\n",
    "mean = torch.tensor([0.4914, 0.4822, 0.4465]).view(3, 1, 1)\n",
    "std = torch.tensor([0.2023, 0.1994, 0.2010]).view(3, 1, 1)\n",
    "\n",
    "# === Transforms ===\n",
    "train_transform = transforms.ToTensor()\n",
    "test_transform = transforms.ToTensor()\n",
    "\n",
    "# === Load datasets ===\n",
    "train_ds = datasets.CIFAR10(root=root, train=True, download=download, transform=train_transform)\n",
    "test_ds = datasets.CIFAR10(root=root, train=False, download=download, transform=test_transform)\n",
    "\n",
    "# === Helper: extract subset tensors for a given set of class IDs ===\n",
    "def extract_subset_tensors(dataset, class_list):\n",
    "    targets = np.array(dataset.targets)\n",
    "    mask = np.isin(targets, class_list)\n",
    "    indices = np.nonzero(mask)[0].tolist()\n",
    "    imgs, labs = [], []\n",
    "    for i in indices:\n",
    "        img, lbl = dataset[i]\n",
    "        imgs.append(img)\n",
    "        labs.append(lbl)\n",
    "    return torch.stack(imgs), torch.tensor(labs, dtype=torch.long)\n",
    "\n",
    "# === Build tasks ===\n",
    "train_tasks, test_tasks = [], []\n",
    "for t in range(num_tasks):\n",
    "    cls_start = t * classes_per_task\n",
    "    cls_end = cls_start + classes_per_task\n",
    "    task_classes = list(range(cls_start, cls_end))\n",
    "\n",
    "    x_train, y_train = extract_subset_tensors(train_ds, task_classes)\n",
    "    x_test, y_test = extract_subset_tensors(test_ds, task_classes)\n",
    "\n",
    "    # Normalize\n",
    "    x_train = (x_train - mean) / std\n",
    "    x_test = (x_test - mean) / std\n",
    "\n",
    "    # Map labels to 0..(classes_per_task-1)\n",
    "    class_map = {orig: i for i, orig in enumerate(task_classes)}\n",
    "    y_train_mapped = torch.tensor([class_map[int(v)] for v in y_train])\n",
    "    y_test_mapped = torch.tensor([class_map[int(v)] for v in y_test])\n",
    "\n",
    "    train_tasks.append(TensorDataset(x_train, y_train_mapped))\n",
    "    test_tasks.append(TensorDataset(x_test, y_test_mapped))\n",
    "\n",
    "    print(f\"Task {t}: classes {task_classes[0]}-{task_classes[-1]}, train={len(x_train)}, test={len(x_test)}\")\n",
    "\n",
    "print(f\"Prepared {len(train_tasks)} tasks (Split CIFAR-10)\")\n",
    "\n",
    "# === CNN model ===\n",
    "class SimpleCNN(nn.Module):\n",
    "    def __init__(self, num_classes=2):   # 2 classes per task\n",
    "        super().__init__()\n",
    "        self.conv1 = nn.Conv2d(3, 32, kernel_size=3, padding=1)\n",
    "        self.conv2 = nn.Conv2d(32, 64, kernel_size=3, padding=1)\n",
    "        self.pool = nn.MaxPool2d(2, 2)\n",
    "        self.fc1 = nn.Linear(64 * 8 * 8, 256)\n",
    "        self.fc2 = nn.Linear(256, num_classes)\n",
    "\n",
    "    def forward(self, x):\n",
    "        x = self.pool(F.relu(self.conv1(x)))  # 32x16x16\n",
    "        x = self.pool(F.relu(self.conv2(x)))  # 64x8x8\n",
    "        x = x.view(x.size(0), -1)\n",
    "        x = F.relu(self.fc1(x))\n",
    "        return self.fc2(x)\n",
    "\n",
    "# === OGD class ===\n",
    "class OGD:\n",
    "    def __init__(self, model, lr=0.001, device=\"cpu\", mem_size=200):\n",
    "        self.model = model.to(device)\n",
    "        self.opt = optim.Adam(self.model.parameters(), lr=lr)\n",
    "        self.device = device\n",
    "        self.S = []  # stored gradient directions\n",
    "        self.mem_size = mem_size\n",
    "\n",
    "    def project(self, grad_vec):\n",
    "        if not self.S:\n",
    "            return grad_vec\n",
    "        proj_grad = grad_vec.clone()\n",
    "        for g in self.S:\n",
    "            proj_grad -= (proj_grad @ g) * g\n",
    "        return proj_grad\n",
    "\n",
    "    def observe(self, x, y):\n",
    "        self.model.train()\n",
    "        x, y = x.to(self.device), y.to(self.device)\n",
    "        self.opt.zero_grad()\n",
    "        loss = F.cross_entropy(self.model(x), y)\n",
    "        loss.backward()\n",
    "\n",
    "        grad_vec = torch.cat([p.grad.view(-1) for p in self.model.parameters()])\n",
    "        grad_proj = self.project(grad_vec)\n",
    "        idx = 0\n",
    "        for p in self.model.parameters():\n",
    "            numel = p.numel()\n",
    "            p.grad.copy_(grad_proj[idx:idx+numel].view_as(p))\n",
    "            idx += numel\n",
    "\n",
    "        self.opt.step()\n",
    "        return loss.item()\n",
    "\n",
    "    def end_task(self, dataloader):\n",
    "        self.model.eval()\n",
    "        grads = []\n",
    "        for x, y in dataloader:\n",
    "            x, y = x.to(self.device), y.to(self.device)\n",
    "            self.opt.zero_grad()\n",
    "            loss = F.cross_entropy(self.model(x), y)\n",
    "            loss.backward()\n",
    "            g = torch.cat([p.grad.view(-1) for p in self.model.parameters()])\n",
    "            grads.append(g / g.norm())\n",
    "            if len(grads) >= self.mem_size:\n",
    "                break\n",
    "        if grads:\n",
    "            mean_g = torch.stack(grads).mean(0)\n",
    "            mean_g /= mean_g.norm()\n",
    "            self.S.append(mean_g)\n",
    "            if len(self.S) > self.mem_size:\n",
    "                self.S.pop(0)\n",
    "\n",
    "# === Training loop with OGD ===\n",
    "ogd = OGD(SimpleCNN(num_classes=classes_per_task), lr=learning_rate, device=device, mem_size=mem_size)\n",
    "accuracy_matrix = np.zeros((num_tasks, num_tasks))\n",
    "\n",
    "def evaluate_task(model, dataloader):\n",
    "    model.eval()\n",
    "    correct, total = 0, 0\n",
    "    with torch.no_grad():\n",
    "        for x, y in dataloader:\n",
    "            x, y = x.to(device), y.to(device)\n",
    "            preds = model(x).argmax(dim=1)\n",
    "            correct += (preds == y).sum().item()\n",
    "            total += y.size(0)\n",
    "    return correct / total\n",
    "\n",
    "for task_id, train_dataset in enumerate(train_tasks):\n",
    "    print(f\"\\n=== Training Task {task_id+1} ===\")\n",
    "    train_loader = DataLoader(train_dataset, batch_size=batch_size, shuffle=True)\n",
    "\n",
    "    for epoch in range(num_epochs):\n",
    "        epoch_loss = 0.0\n",
    "        for x, y in tqdm(train_loader):\n",
    "            epoch_loss += ogd.observe(x, y)\n",
    "        print(f\"Epoch {epoch+1}, Loss={epoch_loss/len(train_loader):.4f}\")\n",
    "\n",
    "    # Evaluate on all seen tasks\n",
    "    for eval_id in range(task_id+1):\n",
    "        test_loader = DataLoader(test_tasks[eval_id], batch_size=batch_size, shuffle=False)\n",
    "        acc = evaluate_task(ogd.model, test_loader)\n",
    "        accuracy_matrix[task_id, eval_id] = acc\n",
    "        print(f\"Accuracy on Task {eval_id+1}: {acc:.3f}\")\n",
    "\n",
    "    ogd.end_task(train_loader)\n",
    "\n",
    "# === Metrics ===\n",
    "ACC = accuracy_matrix[-1].mean()\n",
    "F = np.mean([np.max(accuracy_matrix[:num_tasks-1, j]) - accuracy_matrix[-1, j] for j in range(num_tasks-1)]) if num_tasks>1 else 0.0\n",
    "BWT = np.mean([accuracy_matrix[-1, j] - accuracy_matrix[j, j] for j in range(num_tasks-1)]) if num_tasks>1 else 0.0\n",
    "FWT = np.mean([accuracy_matrix[i, i+1] for i in range(num_tasks-1)]) if num_tasks>1 else 0.0\n",
    "num_params = sum(p.numel() for p in ogd.model.parameters())\n",
    "mem_usage = len(ogd.S) * num_params * 4 / (1024**2)\n",
    "PSM = 0.5*(1-F) + 0.5*max(FWT,0)\n",
    "\n",
    "print(\"=== Metrics (Split CIFAR-10 CNN OGD) ===\")\n",
    "print(f\"ACC={ACC:.4f}, F={F:.4f}, BWT={BWT:.4f}, FWT={FWT:.4f}, Mem={mem_usage:.2f}MB, PSM={PSM:.4f}\")\n",
    "\n",
    "plt.figure(figsize=(6,5))\n",
    "plt.imshow(accuracy_matrix, cmap='viridis', interpolation='nearest')\n",
    "plt.colorbar(label='Accuracy')\n",
    "plt.xlabel('Evaluation Task')\n",
    "plt.ylabel('Training Task')\n",
    "plt.title('OGD Accuracy Matrix (Split CIFAR-10 CNN)')\n",
    "plt.show()"
   ]
  },
  {
   "cell_type": "code",
   "execution_count": null,
   "id": "5214691b-5abc-4000-9768-b8ce6b616906",
   "metadata": {},
   "outputs": [],
   "source": []
  }
 ],
 "metadata": {
  "kernelspec": {
   "display_name": "Python 3 (ipykernel)",
   "language": "python",
   "name": "python3"
  },
  "language_info": {
   "codemirror_mode": {
    "name": "ipython",
    "version": 3
   },
   "file_extension": ".py",
   "mimetype": "text/x-python",
   "name": "python",
   "nbconvert_exporter": "python",
   "pygments_lexer": "ipython3",
   "version": "3.10.12"
  }
 },
 "nbformat": 4,
 "nbformat_minor": 5
}
