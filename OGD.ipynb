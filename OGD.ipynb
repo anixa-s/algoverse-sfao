{
 "cells": [
  {
   "cell_type": "code",
   "execution_count": 2,
   "id": "2edd4313-83ff-4a79-b14a-324c01fb0480",
   "metadata": {},
   "outputs": [
    {
     "name": "stdout",
     "output_type": "stream",
     "text": [
      "Collecting matplotlib\n",
      "  Downloading matplotlib-3.10.5-cp310-cp310-manylinux2014_x86_64.manylinux_2_17_x86_64.whl.metadata (11 kB)\n",
      "Requirement already satisfied: numpy in /usr/local/lib/python3.10/dist-packages (1.24.1)\n",
      "Requirement already satisfied: torchvision in /usr/local/lib/python3.10/dist-packages (0.16.0+cu118)\n",
      "Collecting tqdm\n",
      "  Downloading tqdm-4.67.1-py3-none-any.whl.metadata (57 kB)\n",
      "\u001b[2K     \u001b[90m━━━━━━━━━━━━━━━━━━━━━━━━━━━━━━━━━━━━━━━━\u001b[0m \u001b[32m57.7/57.7 kB\u001b[0m \u001b[31m2.6 MB/s\u001b[0m eta \u001b[36m0:00:00\u001b[0m\n",
      "\u001b[?25hCollecting contourpy>=1.0.1 (from matplotlib)\n",
      "  Downloading contourpy-1.3.2-cp310-cp310-manylinux_2_17_x86_64.manylinux2014_x86_64.whl.metadata (5.5 kB)\n",
      "Collecting cycler>=0.10 (from matplotlib)\n",
      "  Downloading cycler-0.12.1-py3-none-any.whl.metadata (3.8 kB)\n",
      "Collecting fonttools>=4.22.0 (from matplotlib)\n",
      "  Downloading fonttools-4.59.0-cp310-cp310-manylinux2014_x86_64.manylinux_2_17_x86_64.whl.metadata (107 kB)\n",
      "\u001b[2K     \u001b[90m━━━━━━━━━━━━━━━━━━━━━━━━━━━━━━━━━━━━━━\u001b[0m \u001b[32m107.9/107.9 kB\u001b[0m \u001b[31m14.6 MB/s\u001b[0m eta \u001b[36m0:00:00\u001b[0m\n",
      "\u001b[?25hCollecting kiwisolver>=1.3.1 (from matplotlib)\n",
      "  Downloading kiwisolver-1.4.9-cp310-cp310-manylinux_2_12_x86_64.manylinux2010_x86_64.whl.metadata (6.3 kB)\n",
      "Requirement already satisfied: packaging>=20.0 in /usr/local/lib/python3.10/dist-packages (from matplotlib) (23.2)\n",
      "Requirement already satisfied: pillow>=8 in /usr/local/lib/python3.10/dist-packages (from matplotlib) (9.3.0)\n",
      "Requirement already satisfied: pyparsing>=2.3.1 in /usr/lib/python3/dist-packages (from matplotlib) (2.4.7)\n",
      "Requirement already satisfied: python-dateutil>=2.7 in /usr/local/lib/python3.10/dist-packages (from matplotlib) (2.8.2)\n",
      "Requirement already satisfied: requests in /usr/local/lib/python3.10/dist-packages (from torchvision) (2.31.0)\n",
      "Requirement already satisfied: torch==2.1.0 in /usr/local/lib/python3.10/dist-packages (from torchvision) (2.1.0+cu118)\n",
      "Requirement already satisfied: filelock in /usr/local/lib/python3.10/dist-packages (from torch==2.1.0->torchvision) (3.9.0)\n",
      "Requirement already satisfied: typing-extensions in /usr/local/lib/python3.10/dist-packages (from torch==2.1.0->torchvision) (4.4.0)\n",
      "Requirement already satisfied: sympy in /usr/local/lib/python3.10/dist-packages (from torch==2.1.0->torchvision) (1.12)\n",
      "Requirement already satisfied: networkx in /usr/local/lib/python3.10/dist-packages (from torch==2.1.0->torchvision) (3.0)\n",
      "Requirement already satisfied: jinja2 in /usr/local/lib/python3.10/dist-packages (from torch==2.1.0->torchvision) (3.1.2)\n",
      "Requirement already satisfied: fsspec in /usr/local/lib/python3.10/dist-packages (from torch==2.1.0->torchvision) (2023.4.0)\n",
      "Requirement already satisfied: triton==2.1.0 in /usr/local/lib/python3.10/dist-packages (from torch==2.1.0->torchvision) (2.1.0)\n",
      "Requirement already satisfied: six>=1.5 in /usr/lib/python3/dist-packages (from python-dateutil>=2.7->matplotlib) (1.16.0)\n",
      "Requirement already satisfied: charset-normalizer<4,>=2 in /usr/local/lib/python3.10/dist-packages (from requests->torchvision) (2.1.1)\n",
      "Requirement already satisfied: idna<4,>=2.5 in /usr/local/lib/python3.10/dist-packages (from requests->torchvision) (3.4)\n",
      "Requirement already satisfied: urllib3<3,>=1.21.1 in /usr/local/lib/python3.10/dist-packages (from requests->torchvision) (1.26.13)\n",
      "Requirement already satisfied: certifi>=2017.4.17 in /usr/local/lib/python3.10/dist-packages (from requests->torchvision) (2022.12.7)\n",
      "Requirement already satisfied: MarkupSafe>=2.0 in /usr/local/lib/python3.10/dist-packages (from jinja2->torch==2.1.0->torchvision) (2.1.2)\n",
      "Requirement already satisfied: mpmath>=0.19 in /usr/local/lib/python3.10/dist-packages (from sympy->torch==2.1.0->torchvision) (1.3.0)\n",
      "Downloading matplotlib-3.10.5-cp310-cp310-manylinux2014_x86_64.manylinux_2_17_x86_64.whl (8.7 MB)\n",
      "\u001b[2K   \u001b[90m━━━━━━━━━━━━━━━━━━━━━━━━━━━━━━━━━━━━━━━━\u001b[0m \u001b[32m8.7/8.7 MB\u001b[0m \u001b[31m244.8 MB/s\u001b[0m eta \u001b[36m0:00:00\u001b[0m00:01\u001b[0m\n",
      "\u001b[?25hDownloading tqdm-4.67.1-py3-none-any.whl (78 kB)\n",
      "\u001b[2K   \u001b[90m━━━━━━━━━━━━━━━━━━━━━━━━━━━━━━━━━━━━━━━━\u001b[0m \u001b[32m78.5/78.5 kB\u001b[0m \u001b[31m37.9 MB/s\u001b[0m eta \u001b[36m0:00:00\u001b[0m\n",
      "\u001b[?25hDownloading contourpy-1.3.2-cp310-cp310-manylinux_2_17_x86_64.manylinux2014_x86_64.whl (325 kB)\n",
      "\u001b[2K   \u001b[90m━━━━━━━━━━━━━━━━━━━━━━━━━━━━━━━━━━━━━━━\u001b[0m \u001b[32m325.0/325.0 kB\u001b[0m \u001b[31m146.6 MB/s\u001b[0m eta \u001b[36m0:00:00\u001b[0m\n",
      "\u001b[?25hDownloading cycler-0.12.1-py3-none-any.whl (8.3 kB)\n",
      "Downloading fonttools-4.59.0-cp310-cp310-manylinux2014_x86_64.manylinux_2_17_x86_64.whl (4.8 MB)\n",
      "\u001b[2K   \u001b[90m━━━━━━━━━━━━━━━━━━━━━━━━━━━━━━━━━━━━━━━━\u001b[0m \u001b[32m4.8/4.8 MB\u001b[0m \u001b[31m266.7 MB/s\u001b[0m eta \u001b[36m0:00:00\u001b[0m\n",
      "\u001b[?25hDownloading kiwisolver-1.4.9-cp310-cp310-manylinux_2_12_x86_64.manylinux2010_x86_64.whl (1.6 MB)\n",
      "\u001b[2K   \u001b[90m━━━━━━━━━━━━━━━━━━━━━━━━━━━━━━━━━━━━━━━━\u001b[0m \u001b[32m1.6/1.6 MB\u001b[0m \u001b[31m268.6 MB/s\u001b[0m eta \u001b[36m0:00:00\u001b[0m\n",
      "\u001b[?25hInstalling collected packages: tqdm, kiwisolver, fonttools, cycler, contourpy, matplotlib\n",
      "Successfully installed contourpy-1.3.2 cycler-0.12.1 fonttools-4.59.0 kiwisolver-1.4.9 matplotlib-3.10.5 tqdm-4.67.1\n",
      "\u001b[33mWARNING: Running pip as the 'root' user can result in broken permissions and conflicting behaviour with the system package manager. It is recommended to use a virtual environment instead: https://pip.pypa.io/warnings/venv\u001b[0m\u001b[33m\n",
      "\u001b[0m\n",
      "\u001b[1m[\u001b[0m\u001b[34;49mnotice\u001b[0m\u001b[1;39;49m]\u001b[0m\u001b[39;49m A new release of pip is available: \u001b[0m\u001b[31;49m23.3.1\u001b[0m\u001b[39;49m -> \u001b[0m\u001b[32;49m25.2\u001b[0m\n",
      "\u001b[1m[\u001b[0m\u001b[34;49mnotice\u001b[0m\u001b[1;39;49m]\u001b[0m\u001b[39;49m To update, run: \u001b[0m\u001b[32;49mpython -m pip install --upgrade pip\u001b[0m\n"
     ]
    }
   ],
   "source": [
    "!pip install matplotlib numpy torchvision tqdm"
   ]
  },
  {
   "cell_type": "code",
   "execution_count": 3,
   "id": "cd6539a6-ec82-4033-896d-f679b30a39ca",
   "metadata": {},
   "outputs": [
    {
     "name": "stdout",
     "output_type": "stream",
     "text": [
      "\n",
      "=== Training Task 1 ===\n"
     ]
    },
    {
     "name": "stderr",
     "output_type": "stream",
     "text": [
      "100%|██████████| 198/198 [00:00<00:00, 532.99it/s]\n"
     ]
    },
    {
     "name": "stdout",
     "output_type": "stream",
     "text": [
      "Epoch 1, Loss: 0.2242\n"
     ]
    },
    {
     "name": "stderr",
     "output_type": "stream",
     "text": [
      "100%|██████████| 198/198 [00:00<00:00, 484.05it/s]\n"
     ]
    },
    {
     "name": "stdout",
     "output_type": "stream",
     "text": [
      "Epoch 2, Loss: 0.0367\n",
      "Accuracy on Task 1: 0.999\n",
      "\n",
      "=== Training Task 2 ===\n"
     ]
    },
    {
     "name": "stderr",
     "output_type": "stream",
     "text": [
      "100%|██████████| 189/189 [00:01<00:00, 97.04it/s]\n"
     ]
    },
    {
     "name": "stdout",
     "output_type": "stream",
     "text": [
      "Epoch 1, Loss: 0.6550\n"
     ]
    },
    {
     "name": "stderr",
     "output_type": "stream",
     "text": [
      "100%|██████████| 189/189 [00:02<00:00, 93.32it/s]\n"
     ]
    },
    {
     "name": "stdout",
     "output_type": "stream",
     "text": [
      "Epoch 2, Loss: 0.2439\n",
      "Accuracy on Task 1: 0.985\n",
      "Accuracy on Task 2: 0.947\n",
      "\n",
      "=== Training Task 3 ===\n"
     ]
    },
    {
     "name": "stderr",
     "output_type": "stream",
     "text": [
      "100%|██████████| 176/176 [00:03<00:00, 52.19it/s]\n"
     ]
    },
    {
     "name": "stdout",
     "output_type": "stream",
     "text": [
      "Epoch 1, Loss: 0.5101\n"
     ]
    },
    {
     "name": "stderr",
     "output_type": "stream",
     "text": [
      "100%|██████████| 176/176 [00:02<00:00, 59.51it/s]\n"
     ]
    },
    {
     "name": "stdout",
     "output_type": "stream",
     "text": [
      "Epoch 2, Loss: 0.2820\n",
      "Accuracy on Task 1: 0.896\n",
      "Accuracy on Task 2: 0.921\n",
      "Accuracy on Task 3: 0.928\n",
      "\n",
      "=== Training Task 4 ===\n"
     ]
    },
    {
     "name": "stderr",
     "output_type": "stream",
     "text": [
      "100%|██████████| 191/191 [00:04<00:00, 45.34it/s]\n"
     ]
    },
    {
     "name": "stdout",
     "output_type": "stream",
     "text": [
      "Epoch 1, Loss: 0.3658\n"
     ]
    },
    {
     "name": "stderr",
     "output_type": "stream",
     "text": [
      "100%|██████████| 191/191 [00:04<00:00, 42.45it/s]\n"
     ]
    },
    {
     "name": "stdout",
     "output_type": "stream",
     "text": [
      "Epoch 2, Loss: 0.1067\n",
      "Accuracy on Task 1: 0.885\n",
      "Accuracy on Task 2: 0.897\n",
      "Accuracy on Task 3: 0.858\n",
      "Accuracy on Task 4: 0.987\n",
      "\n",
      "=== Training Task 5 ===\n"
     ]
    },
    {
     "name": "stderr",
     "output_type": "stream",
     "text": [
      "100%|██████████| 185/185 [00:05<00:00, 35.82it/s]\n"
     ]
    },
    {
     "name": "stdout",
     "output_type": "stream",
     "text": [
      "Epoch 1, Loss: 0.6079\n"
     ]
    },
    {
     "name": "stderr",
     "output_type": "stream",
     "text": [
      "100%|██████████| 185/185 [00:05<00:00, 35.09it/s]\n"
     ]
    },
    {
     "name": "stdout",
     "output_type": "stream",
     "text": [
      "Epoch 2, Loss: 0.2387\n",
      "Accuracy on Task 1: 0.711\n",
      "Accuracy on Task 2: 0.684\n",
      "Accuracy on Task 3: 0.419\n",
      "Accuracy on Task 4: 0.982\n",
      "Accuracy on Task 5: 0.951\n",
      "=== Continual Learning Metrics ===\n",
      "Average Accuracy (ACC):       0.7493\n",
      "Forgetting (F):              0.2664\n",
      "Backward Transfer (BWT):     -0.2664\n",
      "Forward Transfer (FWT):      0.0000\n",
      "Memory Usage:                721.68 MB\n",
      "Computation Cost:            939 projections/batch\n",
      "Plasticity-Stability Measure (PSM): 0.3668 (0-1 normalized)\n",
      "=== Metrics (Split MNIST) ===\n",
      "ACC=0.7493, F=0.2664, BWT=-0.2664, FWT=0.0000, Mem=721.68MB, PSM=0.3668\n"
     ]
    },
    {
     "data": {
      "image/png": "[encoded data removed]",
      "text/plain": [
       "<Figure size 600x500 with 2 Axes>"
      ]
     },
     "metadata": {},
     "output_type": "display_data"
    }
   ],
   "source": [
    "# Orthogonal Gradient Descent (OGD) for Continual Learning\n",
    "import torch\n",
    "import torch.nn as nn\n",
    "import torch.optim as optim\n",
    "from torch.utils.data import DataLoader, TensorDataset\n",
    "import numpy as np\n",
    "from torchvision import datasets, transforms\n",
    "import matplotlib.pyplot as plt\n",
    "from tqdm import tqdm\n",
    "\n",
    "device = 'cuda' if torch.cuda.is_available() else 'cpu'\n",
    "\n",
    "# Simple MLP model\n",
    "class SimpleMLP(nn.Module):\n",
    "    def __init__(self, input_size=784, hidden_size=256, output_size=2):\n",
    "        super(SimpleMLP, self).__init__()\n",
    "        self.net = nn.Sequential(\n",
    "            nn.Linear(input_size, hidden_size),\n",
    "            nn.ReLU(),\n",
    "            nn.Linear(hidden_size, output_size)\n",
    "        )\n",
    "\n",
    "    def forward(self, x):\n",
    "        return self.net(x.view(x.size(0), -1))\n",
    "\n",
    "\n",
    "# OGD Implementation\n",
    "class OGD:\n",
    "    def __init__(self, model, lr=0.01, device='cuda'):\n",
    "        self.model = model.to(device)\n",
    "        self.lr = lr\n",
    "        self.device = device\n",
    "        self.optimizer = optim.SGD(self.model.parameters(), lr=lr)\n",
    "        self.S = []  # Memory of gradient directions from previous tasks\n",
    "\n",
    "    def _flatten_grad(self):\n",
    "        return torch.cat([p.grad.view(-1) for p in self.model.parameters() if p.grad is not None])\n",
    "\n",
    "    def _assign_grad(self, flat_grad):\n",
    "        idx = 0\n",
    "        for p in self.model.parameters():\n",
    "            if p.grad is not None:\n",
    "                numel = p.numel()\n",
    "                p.grad.copy_(flat_grad[idx: idx+numel].view_as(p))\n",
    "                idx += numel\n",
    "\n",
    "    def _project_grad(self, g):\n",
    "        if len(self.S) == 0:\n",
    "            return g\n",
    "        g_proj = g.clone()\n",
    "        for v in self.S:\n",
    "            proj = (torch.dot(g_proj, v) / torch.dot(v, v)) * v\n",
    "            g_proj -= proj\n",
    "        return g_proj\n",
    "\n",
    "    def observe(self, x, y, criterion=nn.CrossEntropyLoss()):\n",
    "        self.model.train()\n",
    "        x, y = x.to(self.device), y.to(self.device)\n",
    "        self.optimizer.zero_grad()\n",
    "        out = self.model(x)\n",
    "        loss = criterion(out, y)\n",
    "        loss.backward()\n",
    "\n",
    "        g = self._flatten_grad()\n",
    "        g_orth = self._project_grad(g)\n",
    "        self._assign_grad(g_orth)\n",
    "        self.optimizer.step()\n",
    "        return loss.item()\n",
    "\n",
    "    def end_task(self, dataloader, criterion=nn.CrossEntropyLoss()):\n",
    "        self.model.eval()\n",
    "        for x, y in dataloader:\n",
    "            x, y = x.to(self.device), y.to(self.device)\n",
    "            self.model.zero_grad()\n",
    "            out = self.model(x)\n",
    "            loss = criterion(out, y)\n",
    "            loss.backward()\n",
    "\n",
    "            u = self._flatten_grad()\n",
    "            u_proj = self._project_grad(u)\n",
    "            norm_u_proj = u_proj / (u_proj.norm() + 1e-10)\n",
    "            self.S.append(norm_u_proj.detach().clone())\n",
    "\n",
    "\n",
    "# Prepare Split MNIST (5 tasks, 2 classes each)\n",
    "transform = transforms.Compose([transforms.ToTensor()])\n",
    "mnist_train = datasets.MNIST(root='./data', train=True, download=True, transform=transform)\n",
    "mnist_test = datasets.MNIST(root='./data', train=False, download=True, transform=transform)\n",
    "\n",
    "def split_dataset(dataset, classes):\n",
    "    idx = np.isin(dataset.targets.numpy(), classes)\n",
    "    data = dataset.data[idx].float()/255.0\n",
    "    targets = dataset.targets[idx]\n",
    "    mapping = {cls:i for i,cls in enumerate(classes)}\n",
    "    targets = torch.tensor([mapping[t.item()] for t in targets])\n",
    "    return TensorDataset(data.view(-1, 28*28), targets)\n",
    "\n",
    "task_classes = [[0,1],[2,3],[4,5],[6,7],[8,9]]\n",
    "train_tasks = [split_dataset(mnist_train, c) for c in task_classes]\n",
    "test_tasks = [split_dataset(mnist_test, c) for c in task_classes]\n",
    "\n",
    "# Training with Metrics\n",
    "num_tasks = len(train_tasks)\n",
    "num_epochs = 2\n",
    "batch_size = 64\n",
    "\n",
    "model = SimpleMLP(input_size=784, hidden_size=256, output_size=2)\n",
    "ogd = OGD(model, lr=0.01, device=device)\n",
    "\n",
    "accuracy_matrix = np.zeros((num_tasks, num_tasks))\n",
    "\n",
    "def evaluate_task(model, dataloader):\n",
    "    model.eval()\n",
    "    correct, total = 0, 0\n",
    "    with torch.no_grad():\n",
    "        for x, y in dataloader:\n",
    "            x, y = x.to(device), y.to(device)\n",
    "            out = model(x)\n",
    "            preds = out.argmax(dim=1)\n",
    "            correct += (preds == y).sum().item()\n",
    "            total += y.size(0)\n",
    "    return correct / total\n",
    "\n",
    "for task_id, train_dataset in enumerate(train_tasks):\n",
    "    print(f\"\\n=== Training Task {task_id+1} ===\")\n",
    "    train_loader = DataLoader(train_dataset, batch_size=batch_size, shuffle=True)\n",
    "\n",
    "    # Train\n",
    "    for epoch in range(num_epochs):\n",
    "        epoch_loss = 0.0\n",
    "        for x, y in tqdm(train_loader):\n",
    "            loss = ogd.observe(x, y)\n",
    "            epoch_loss += loss\n",
    "        print(f\"Epoch {epoch+1}, Loss: {epoch_loss/len(train_loader):.4f}\")\n",
    "\n",
    "    # Evaluate on all tasks seen so far\n",
    "    for eval_id in range(task_id+1):\n",
    "        test_loader = DataLoader(test_tasks[eval_id], batch_size=batch_size, shuffle=False)\n",
    "        acc = evaluate_task(ogd.model, test_loader)\n",
    "        accuracy_matrix[task_id, eval_id] = acc\n",
    "        print(f\"Accuracy on Task {eval_id+1}: {acc:.3f}\")\n",
    "\n",
    "    # End of task: store gradient directions\n",
    "    ogd.end_task(train_loader)\n",
    "\n",
    "\n",
    "# Compute Continual Learning Metrics\n",
    "# Average Accuracy (ACC)\n",
    "ACC = accuracy_matrix[-1].mean()  # Final row averaged across tasks\n",
    "\n",
    "# Average Forgetting (F)\n",
    "F = np.mean([\n",
    "    np.max(accuracy_matrix[:num_tasks-1, j]) - accuracy_matrix[-1, j]\n",
    "    for j in range(num_tasks-1)\n",
    "])\n",
    "\n",
    "# Backward Transfer (BWT)\n",
    "BWT = np.mean([\n",
    "    accuracy_matrix[-1, j] - accuracy_matrix[j, j]\n",
    "    for j in range(num_tasks-1)\n",
    "])\n",
    "\n",
    "# Forward Transfer (FWT)\n",
    "# Measures how much previous tasks helped the next task before it was trained\n",
    "FWT = np.mean([\n",
    "    accuracy_matrix[i, i+1]\n",
    "    for i in range(num_tasks-1)\n",
    "])\n",
    "\n",
    "# Memory Usage (in MB)\n",
    "num_params = sum(p.numel() for p in ogd.model.parameters())\n",
    "mem_usage = len(ogd.S) * num_params * 4 / (1024**2)  # 4 bytes per float32\n",
    "\n",
    "# 6. Computation Cost (Number of gradient projections per batch)\n",
    "comp_cost = len(ogd.S)\n",
    "\n",
    "# Plasticity-Stability Measure (PSM) - Normalized 0 to 1\n",
    "\n",
    "# Define components\n",
    "stability = 1 - F                 # High if forgetting is low\n",
    "plasticity = max(FWT, 0)          # High if positive forward transfer\n",
    "\n",
    "alpha = 0.5                       # Balance between stability and plasticity\n",
    "PSM = alpha * stability + (1 - alpha) * plasticity\n",
    "\n",
    "# Print Metrics\n",
    "print(\"=== Continual Learning Metrics ===\")\n",
    "print(f\"Average Accuracy (ACC):       {ACC:.4f}\")\n",
    "print(f\"Forgetting (F):              {F:.4f}\")\n",
    "print(f\"Backward Transfer (BWT):     {BWT:.4f}\")\n",
    "print(f\"Forward Transfer (FWT):      {FWT:.4f}\")\n",
    "print(f\"Memory Usage:                {mem_usage:.2f} MB\")\n",
    "print(f\"Computation Cost:            {comp_cost} projections/batch\")\n",
    "print(f\"Plasticity-Stability Measure (PSM): {PSM:.4f} (0-1 normalized)\")\n",
    "\n",
    "print(\"=== Metrics (Split MNIST) ===\")\n",
    "print(f\"ACC={ACC:.4f}, F={F:.4f}, BWT={BWT:.4f}, FWT={FWT:.4f}, Mem={mem_usage:.2f}MB, PSM={PSM:.4f}\")\n",
    "\n",
    "plt.figure(figsize=(6,5))\n",
    "plt.imshow(accuracy_matrix, cmap='viridis', interpolation='nearest')\n",
    "plt.colorbar(label='Accuracy')\n",
    "plt.xlabel('Evaluation Task')\n",
    "plt.ylabel('Training Task')\n",
    "plt.title('OGD Accuracy Matrix (Split MNIST)')\n",
    "plt.show()"
   ]
  },
  {
   "cell_type": "code",
   "execution_count": 4,
   "id": "230ad48e-431f-4d77-8a9c-783e8a891dc0",
   "metadata": {},
   "outputs": [
    {
     "name": "stdout",
     "output_type": "stream",
     "text": [
      "\n",
      "=== Training Task 1 ===\n"
     ]
    },
    {
     "name": "stderr",
     "output_type": "stream",
     "text": [
      "100%|██████████| 938/938 [00:02<00:00, 450.24it/s]\n"
     ]
    },
    {
     "name": "stdout",
     "output_type": "stream",
     "text": [
      "Epoch 1, Loss: 1.2260\n"
     ]
    },
    {
     "name": "stderr",
     "output_type": "stream",
     "text": [
      "100%|██████████| 938/938 [00:01<00:00, 498.59it/s]\n"
     ]
    },
    {
     "name": "stdout",
     "output_type": "stream",
     "text": [
      "Epoch 2, Loss: 0.4874\n",
      "Accuracy on Task 1: 0.894\n",
      "\n",
      "=== Training Task 2 ===\n"
     ]
    },
    {
     "name": "stderr",
     "output_type": "stream",
     "text": [
      "100%|██████████| 938/938 [00:33<00:00, 28.04it/s]\n"
     ]
    },
    {
     "name": "stdout",
     "output_type": "stream",
     "text": [
      "Epoch 1, Loss: 0.7786\n"
     ]
    },
    {
     "name": "stderr",
     "output_type": "stream",
     "text": [
      "100%|██████████| 938/938 [00:33<00:00, 28.14it/s]\n"
     ]
    },
    {
     "name": "stdout",
     "output_type": "stream",
     "text": [
      "Epoch 2, Loss: 0.4279\n",
      "Accuracy on Task 1: 0.891\n",
      "Accuracy on Task 2: 0.901\n",
      "\n",
      "=== Training Task 3 ===\n"
     ]
    },
    {
     "name": "stderr",
     "output_type": "stream",
     "text": [
      "100%|██████████| 938/938 [01:04<00:00, 14.46it/s]\n"
     ]
    },
    {
     "name": "stdout",
     "output_type": "stream",
     "text": [
      "Epoch 1, Loss: 0.7596\n"
     ]
    },
    {
     "name": "stderr",
     "output_type": "stream",
     "text": [
      "100%|██████████| 938/938 [01:02<00:00, 14.92it/s]\n"
     ]
    },
    {
     "name": "stdout",
     "output_type": "stream",
     "text": [
      "Epoch 2, Loss: 0.4200\n",
      "Accuracy on Task 1: 0.882\n",
      "Accuracy on Task 2: 0.897\n",
      "Accuracy on Task 3: 0.900\n",
      "=== Metrics (Permuted MNIST) ===\n",
      "ACC=0.8929, F=0.0082, BWT=-0.0082, FWT=0.0000, Mem=2184.80MB, PSM=0.4959\n"
     ]
    },
    {
     "data": {
      "image/png": "[encoded data removed]",
      "text/plain": [
       "<Figure size 600x500 with 2 Axes>"
      ]
     },
     "metadata": {},
     "output_type": "display_data"
    }
   ],
   "source": [
    "# =======================\n",
    "# OGD on Permuted MNIST\n",
    "# =======================\n",
    "\n",
    "import torch\n",
    "import torch.nn as nn\n",
    "import torch.optim as optim\n",
    "from torch.utils.data import DataLoader, TensorDataset\n",
    "import numpy as np\n",
    "from torchvision import datasets, transforms\n",
    "import matplotlib.pyplot as plt\n",
    "from tqdm import tqdm\n",
    "\n",
    "device = 'cuda' if torch.cuda.is_available() else 'cpu'\n",
    "\n",
    "# Simple MLP model\n",
    "class SimpleMLP(nn.Module):\n",
    "    def __init__(self, input_size=784, hidden_size=256, output_size=10):\n",
    "        super(SimpleMLP, self).__init__()\n",
    "        self.net = nn.Sequential(\n",
    "            nn.Linear(input_size, hidden_size),\n",
    "            nn.ReLU(),\n",
    "            nn.Linear(hidden_size, output_size)\n",
    "        )\n",
    "    def forward(self, x):\n",
    "        return self.net(x.view(x.size(0), -1))\n",
    "\n",
    "# OGD Implementation\n",
    "class OGD:\n",
    "    def __init__(self, model, lr=0.01, device='cuda'):\n",
    "        self.model = model.to(device)\n",
    "        self.optimizer = optim.SGD(self.model.parameters(), lr=lr)\n",
    "        self.device = device\n",
    "        self.S = []  # Memory of gradient directions\n",
    "\n",
    "    def _flatten_grad(self):\n",
    "        return torch.cat([p.grad.view(-1) for p in self.model.parameters() if p.grad is not None])\n",
    "\n",
    "    def _assign_grad(self, flat_grad):\n",
    "        idx = 0\n",
    "        for p in self.model.parameters():\n",
    "            if p.grad is not None:\n",
    "                numel = p.numel()\n",
    "                p.grad.copy_(flat_grad[idx: idx+numel].view_as(p))\n",
    "                idx += numel\n",
    "\n",
    "    def _project_grad(self, g):\n",
    "        if len(self.S) == 0: return g\n",
    "        g_proj = g.clone()\n",
    "        for v in self.S:\n",
    "            proj = (torch.dot(g_proj, v) / torch.dot(v, v)) * v\n",
    "            g_proj -= proj\n",
    "        return g_proj\n",
    "\n",
    "    def observe(self, x, y, criterion=nn.CrossEntropyLoss()):\n",
    "        self.model.train()\n",
    "        x, y = x.to(self.device), y.to(self.device)\n",
    "        self.optimizer.zero_grad()\n",
    "        loss = criterion(self.model(x), y)\n",
    "        loss.backward()\n",
    "\n",
    "        g = self._flatten_grad()\n",
    "        g_orth = self._project_grad(g)\n",
    "        self._assign_grad(g_orth)\n",
    "        self.optimizer.step()\n",
    "        return loss.item()\n",
    "\n",
    "    def end_task(self, dataloader, criterion=nn.CrossEntropyLoss()):\n",
    "        self.model.eval()\n",
    "        for x, y in dataloader:\n",
    "            x, y = x.to(self.device), y.to(self.device)\n",
    "            self.model.zero_grad()\n",
    "            loss = criterion(self.model(x), y)\n",
    "            loss.backward()\n",
    "\n",
    "            u = self._flatten_grad()\n",
    "            u_proj = self._project_grad(u)\n",
    "            norm_u_proj = u_proj / (u_proj.norm() + 1e-10)\n",
    "            self.S.append(norm_u_proj.detach().clone())\n",
    "\n",
    "# === Prepare 3 permuted MNIST tasks ===\n",
    "num_tasks = 3\n",
    "transform = transforms.Compose([transforms.ToTensor()])\n",
    "mnist_train = datasets.MNIST(root='./data', train=True, download=True, transform=transform)\n",
    "mnist_test = datasets.MNIST(root='./data', train=False, download=True, transform=transform)\n",
    "\n",
    "train_x = mnist_train.data.view(-1, 28*28).float()/255.0\n",
    "test_x = mnist_test.data.view(-1, 28*28).float()/255.0\n",
    "train_y = mnist_train.targets\n",
    "test_y = mnist_test.targets\n",
    "\n",
    "train_tasks, test_tasks = [], []\n",
    "for _ in range(num_tasks):\n",
    "    perm = torch.randperm(28*28)\n",
    "    train_tasks.append(TensorDataset(train_x[:, perm], train_y))\n",
    "    test_tasks.append(TensorDataset(test_x[:, perm], test_y))\n",
    "\n",
    "\n",
    "# Training loop\n",
    "num_epochs = 2\n",
    "batch_size = 64\n",
    "model = SimpleMLP()\n",
    "ogd = OGD(model, lr=0.01, device=device)\n",
    "accuracy_matrix = np.zeros((num_tasks, num_tasks))\n",
    "\n",
    "def evaluate_task(model, dataloader):\n",
    "    model.eval()\n",
    "    correct, total = 0, 0\n",
    "    with torch.no_grad():\n",
    "        for x, y in dataloader:\n",
    "            x, y = x.to(device), y.to(device)\n",
    "            preds = model(x).argmax(dim=1)\n",
    "            correct += (preds == y).sum().item()\n",
    "            total += y.size(0)\n",
    "    return correct / total\n",
    "\n",
    "for task_id, train_dataset in enumerate(train_tasks):\n",
    "    print(f\"\\n=== Training Task {task_id+1} ===\")\n",
    "    train_loader = DataLoader(train_dataset, batch_size=batch_size, shuffle=True)\n",
    "\n",
    "    for epoch in range(num_epochs):\n",
    "        epoch_loss = 0.0\n",
    "        for x, y in tqdm(train_loader):\n",
    "            epoch_loss += ogd.observe(x, y)\n",
    "        print(f\"Epoch {epoch+1}, Loss: {epoch_loss/len(train_loader):.4f}\")\n",
    "\n",
    "    # Evaluate on all seen tasks\n",
    "    for eval_id in range(task_id+1):\n",
    "        test_loader = DataLoader(test_tasks[eval_id], batch_size=batch_size, shuffle=False)\n",
    "        acc = evaluate_task(ogd.model, test_loader)\n",
    "        accuracy_matrix[task_id, eval_id] = acc\n",
    "        print(f\"Accuracy on Task {eval_id+1}: {acc:.3f}\")\n",
    "\n",
    "    ogd.end_task(train_loader)\n",
    "\n",
    "# === Metrics ===\n",
    "ACC = accuracy_matrix[-1].mean()\n",
    "F = np.mean([np.max(accuracy_matrix[:num_tasks-1, j]) - accuracy_matrix[-1, j] for j in range(num_tasks-1)]) if num_tasks>1 else 0.0\n",
    "BWT = np.mean([accuracy_matrix[-1, j] - accuracy_matrix[j, j] for j in range(num_tasks-1)]) if num_tasks>1 else 0.0\n",
    "FWT = np.mean([accuracy_matrix[i, i+1] for i in range(num_tasks-1)]) if num_tasks>1 else 0.0\n",
    "\n",
    "num_params = sum(p.numel() for p in ogd.model.parameters())\n",
    "mem_usage = len(ogd.S) * num_params * 4 / (1024**2)\n",
    "comp_cost = len(ogd.S)\n",
    "PSM = 0.5*(1-F) + 0.5*max(FWT,0)\n",
    "\n",
    "print(\"=== Metrics (Permuted MNIST) ===\")\n",
    "print(f\"ACC={ACC:.4f}, F={F:.4f}, BWT={BWT:.4f}, FWT={FWT:.4f}, Mem={mem_usage:.2f}MB, PSM={PSM:.4f}\")\n",
    "\n",
    "plt.figure(figsize=(6,5))\n",
    "plt.imshow(accuracy_matrix, cmap='viridis', interpolation='nearest')\n",
    "plt.colorbar(label='Accuracy')\n",
    "plt.xlabel('Evaluation Task')\n",
    "plt.ylabel('Training Task')\n",
    "plt.title('OGD Accuracy Matrix (Permuted MNIST)')\n",
    "plt.show()"
   ]
  },
  {
   "cell_type": "code",
   "execution_count": 15,
   "id": "f896aa36-c014-44b9-9734-0568e2929546",
   "metadata": {},
   "outputs": [
    {
     "name": "stdout",
     "output_type": "stream",
     "text": [
      "Device: cuda\n",
      "Files already downloaded and verified\n",
      "Files already downloaded and verified\n",
      "Task 0: classes 0..9 | train 5000, test 1000\n",
      "Task 1: classes 10..19 | train 5000, test 1000\n",
      "Task 2: classes 20..29 | train 5000, test 1000\n",
      "Task 3: classes 30..39 | train 5000, test 1000\n",
      "Task 4: classes 40..49 | train 5000, test 1000\n",
      "Task 5: classes 50..59 | train 5000, test 1000\n",
      "Task 6: classes 60..69 | train 5000, test 1000\n",
      "Task 7: classes 70..79 | train 5000, test 1000\n",
      "Task 8: classes 80..89 | train 5000, test 1000\n",
      "Task 9: classes 90..99 | train 5000, test 1000\n",
      "\n",
      "=== Task 1/10 | classes 0..9 ===\n"
     ]
    },
    {
     "name": "stderr",
     "output_type": "stream",
     "text": [
      "Task 1 Epoch 1: 100%|██████████| 40/40 [00:00<00:00, 43.98it/s]\n"
     ]
    },
    {
     "name": "stdout",
     "output_type": "stream",
     "text": [
      "Epoch 1: loss=1.8425\n"
     ]
    },
    {
     "name": "stderr",
     "output_type": "stream",
     "text": [
      "Task 1 Epoch 2: 100%|██████████| 40/40 [00:00<00:00, 40.48it/s]"
     ]
    },
    {
     "name": "stdout",
     "output_type": "stream",
     "text": [
      "Epoch 2: loss=1.5343\n"
     ]
    },
    {
     "name": "stderr",
     "output_type": "stream",
     "text": [
      "\n"
     ]
    },
    {
     "name": "stdout",
     "output_type": "stream",
     "text": [
      "Accuracy on Task 1: 0.411\n",
      "[OGD] Harvested 30 dirs (seen 30 batches). Memory size: 30\n",
      "\n",
      "=== Task 2/10 | classes 10..19 ===\n"
     ]
    },
    {
     "name": "stderr",
     "output_type": "stream",
     "text": [
      "Task 2 Epoch 1: 100%|██████████| 40/40 [00:00<00:00, 42.75it/s]\n"
     ]
    },
    {
     "name": "stdout",
     "output_type": "stream",
     "text": [
      "Epoch 1: loss=2.2337\n"
     ]
    },
    {
     "name": "stderr",
     "output_type": "stream",
     "text": [
      "Task 2 Epoch 2: 100%|██████████| 40/40 [00:00<00:00, 42.45it/s]"
     ]
    },
    {
     "name": "stdout",
     "output_type": "stream",
     "text": [
      "Epoch 2: loss=1.8415\n"
     ]
    },
    {
     "name": "stderr",
     "output_type": "stream",
     "text": [
      "\n"
     ]
    },
    {
     "name": "stdout",
     "output_type": "stream",
     "text": [
      "Accuracy on Task 1: 0.086\n",
      "Accuracy on Task 2: 0.345\n",
      "[OGD] Harvested 30 dirs (seen 30 batches). Memory size: 60\n",
      "\n",
      "=== Task 3/10 | classes 20..29 ===\n"
     ]
    },
    {
     "name": "stderr",
     "output_type": "stream",
     "text": [
      "Task 3 Epoch 1: 100%|██████████| 40/40 [00:00<00:00, 42.32it/s]\n"
     ]
    },
    {
     "name": "stdout",
     "output_type": "stream",
     "text": [
      "Epoch 1: loss=2.1406\n"
     ]
    },
    {
     "name": "stderr",
     "output_type": "stream",
     "text": [
      "Task 3 Epoch 2: 100%|██████████| 40/40 [00:00<00:00, 42.99it/s]"
     ]
    },
    {
     "name": "stdout",
     "output_type": "stream",
     "text": [
      "Epoch 2: loss=1.7829\n"
     ]
    },
    {
     "name": "stderr",
     "output_type": "stream",
     "text": [
      "\n"
     ]
    },
    {
     "name": "stdout",
     "output_type": "stream",
     "text": [
      "Accuracy on Task 1: 0.126\n",
      "Accuracy on Task 2: 0.115\n",
      "Accuracy on Task 3: 0.403\n",
      "[OGD] Harvested 30 dirs (seen 30 batches). Memory size: 90\n",
      "\n",
      "=== Task 4/10 | classes 30..39 ===\n"
     ]
    },
    {
     "name": "stderr",
     "output_type": "stream",
     "text": [
      "Task 4 Epoch 1: 100%|██████████| 40/40 [00:00<00:00, 41.28it/s]\n"
     ]
    },
    {
     "name": "stdout",
     "output_type": "stream",
     "text": [
      "Epoch 1: loss=2.1401\n"
     ]
    },
    {
     "name": "stderr",
     "output_type": "stream",
     "text": [
      "Task 4 Epoch 2: 100%|██████████| 40/40 [00:00<00:00, 41.44it/s]"
     ]
    },
    {
     "name": "stdout",
     "output_type": "stream",
     "text": [
      "Epoch 2: loss=1.7457\n"
     ]
    },
    {
     "name": "stderr",
     "output_type": "stream",
     "text": [
      "\n"
     ]
    },
    {
     "name": "stdout",
     "output_type": "stream",
     "text": [
      "Accuracy on Task 1: 0.097\n",
      "Accuracy on Task 2: 0.146\n",
      "Accuracy on Task 3: 0.106\n",
      "Accuracy on Task 4: 0.363\n",
      "[OGD] Harvested 30 dirs (seen 30 batches). Memory size: 120\n",
      "\n",
      "=== Task 5/10 | classes 40..49 ===\n"
     ]
    },
    {
     "name": "stderr",
     "output_type": "stream",
     "text": [
      "Task 5 Epoch 1: 100%|██████████| 40/40 [00:00<00:00, 41.43it/s]\n"
     ]
    },
    {
     "name": "stdout",
     "output_type": "stream",
     "text": [
      "Epoch 1: loss=2.1206\n"
     ]
    },
    {
     "name": "stderr",
     "output_type": "stream",
     "text": [
      "Task 5 Epoch 2: 100%|██████████| 40/40 [00:00<00:00, 42.23it/s]"
     ]
    },
    {
     "name": "stdout",
     "output_type": "stream",
     "text": [
      "Epoch 2: loss=1.7178\n"
     ]
    },
    {
     "name": "stderr",
     "output_type": "stream",
     "text": [
      "\n"
     ]
    },
    {
     "name": "stdout",
     "output_type": "stream",
     "text": [
      "Accuracy on Task 1: 0.096\n",
      "Accuracy on Task 2: 0.096\n",
      "Accuracy on Task 3: 0.089\n",
      "Accuracy on Task 4: 0.146\n",
      "Accuracy on Task 5: 0.424\n",
      "[OGD] Harvested 30 dirs (seen 30 batches). Memory size: 150\n",
      "\n",
      "=== Task 6/10 | classes 50..59 ===\n"
     ]
    },
    {
     "name": "stderr",
     "output_type": "stream",
     "text": [
      "Task 6 Epoch 1: 100%|██████████| 40/40 [00:00<00:00, 42.61it/s]\n"
     ]
    },
    {
     "name": "stdout",
     "output_type": "stream",
     "text": [
      "Epoch 1: loss=1.9489\n"
     ]
    },
    {
     "name": "stderr",
     "output_type": "stream",
     "text": [
      "Task 6 Epoch 2: 100%|██████████| 40/40 [00:00<00:00, 41.91it/s]"
     ]
    },
    {
     "name": "stdout",
     "output_type": "stream",
     "text": [
      "Epoch 2: loss=1.4554\n"
     ]
    },
    {
     "name": "stderr",
     "output_type": "stream",
     "text": [
      "\n"
     ]
    },
    {
     "name": "stdout",
     "output_type": "stream",
     "text": [
      "Accuracy on Task 1: 0.083\n",
      "Accuracy on Task 2: 0.080\n",
      "Accuracy on Task 3: 0.073\n",
      "Accuracy on Task 4: 0.044\n",
      "Accuracy on Task 5: 0.196\n",
      "Accuracy on Task 6: 0.484\n",
      "[OGD] Harvested 30 dirs (seen 30 batches). Memory size: 180\n",
      "\n",
      "=== Task 7/10 | classes 60..69 ===\n"
     ]
    },
    {
     "name": "stderr",
     "output_type": "stream",
     "text": [
      "Task 7 Epoch 1: 100%|██████████| 40/40 [00:00<00:00, 41.90it/s]\n"
     ]
    },
    {
     "name": "stdout",
     "output_type": "stream",
     "text": [
      "Epoch 1: loss=2.3056\n"
     ]
    },
    {
     "name": "stderr",
     "output_type": "stream",
     "text": [
      "Task 7 Epoch 2: 100%|██████████| 40/40 [00:00<00:00, 42.20it/s]"
     ]
    },
    {
     "name": "stdout",
     "output_type": "stream",
     "text": [
      "Epoch 2: loss=1.6508\n"
     ]
    },
    {
     "name": "stderr",
     "output_type": "stream",
     "text": [
      "\n"
     ]
    },
    {
     "name": "stdout",
     "output_type": "stream",
     "text": [
      "Accuracy on Task 1: 0.115\n",
      "Accuracy on Task 2: 0.093\n",
      "Accuracy on Task 3: 0.083\n",
      "Accuracy on Task 4: 0.097\n",
      "Accuracy on Task 5: 0.115\n",
      "Accuracy on Task 6: 0.063\n",
      "Accuracy on Task 7: 0.433\n",
      "[OGD] Harvested 30 dirs (seen 30 batches). Memory size: 210\n",
      "\n",
      "=== Task 8/10 | classes 70..79 ===\n"
     ]
    },
    {
     "name": "stderr",
     "output_type": "stream",
     "text": [
      "Task 8 Epoch 1: 100%|██████████| 40/40 [00:00<00:00, 42.04it/s]\n"
     ]
    },
    {
     "name": "stdout",
     "output_type": "stream",
     "text": [
      "Epoch 1: loss=2.1727\n"
     ]
    },
    {
     "name": "stderr",
     "output_type": "stream",
     "text": [
      "Task 8 Epoch 2: 100%|██████████| 40/40 [00:00<00:00, 42.05it/s]"
     ]
    },
    {
     "name": "stdout",
     "output_type": "stream",
     "text": [
      "Epoch 2: loss=1.7017\n"
     ]
    },
    {
     "name": "stderr",
     "output_type": "stream",
     "text": [
      "\n"
     ]
    },
    {
     "name": "stdout",
     "output_type": "stream",
     "text": [
      "Accuracy on Task 1: 0.180\n",
      "Accuracy on Task 2: 0.103\n",
      "Accuracy on Task 3: 0.103\n",
      "Accuracy on Task 4: 0.091\n",
      "Accuracy on Task 5: 0.074\n",
      "Accuracy on Task 6: 0.076\n",
      "Accuracy on Task 7: 0.080\n",
      "Accuracy on Task 8: 0.407\n",
      "[OGD] Harvested 30 dirs (seen 30 batches). Memory size: 240\n",
      "\n",
      "=== Task 9/10 | classes 80..89 ===\n"
     ]
    },
    {
     "name": "stderr",
     "output_type": "stream",
     "text": [
      "Task 9 Epoch 1: 100%|██████████| 40/40 [00:00<00:00, 41.70it/s]\n"
     ]
    },
    {
     "name": "stdout",
     "output_type": "stream",
     "text": [
      "Epoch 1: loss=2.0978\n"
     ]
    },
    {
     "name": "stderr",
     "output_type": "stream",
     "text": [
      "Task 9 Epoch 2: 100%|██████████| 40/40 [00:00<00:00, 41.41it/s]"
     ]
    },
    {
     "name": "stdout",
     "output_type": "stream",
     "text": [
      "Epoch 2: loss=1.6362\n"
     ]
    },
    {
     "name": "stderr",
     "output_type": "stream",
     "text": [
      "\n"
     ]
    },
    {
     "name": "stdout",
     "output_type": "stream",
     "text": [
      "Accuracy on Task 1: 0.053\n",
      "Accuracy on Task 2: 0.096\n",
      "Accuracy on Task 3: 0.086\n",
      "Accuracy on Task 4: 0.095\n",
      "Accuracy on Task 5: 0.140\n",
      "Accuracy on Task 6: 0.105\n",
      "Accuracy on Task 7: 0.093\n",
      "Accuracy on Task 8: 0.077\n",
      "Accuracy on Task 9: 0.440\n",
      "[OGD] Harvested 30 dirs (seen 30 batches). Memory size: 270\n",
      "\n",
      "=== Task 10/10 | classes 90..99 ===\n"
     ]
    },
    {
     "name": "stderr",
     "output_type": "stream",
     "text": [
      "Task 10 Epoch 1: 100%|██████████| 40/40 [00:00<00:00, 42.18it/s]\n"
     ]
    },
    {
     "name": "stdout",
     "output_type": "stream",
     "text": [
      "Epoch 1: loss=2.2371\n"
     ]
    },
    {
     "name": "stderr",
     "output_type": "stream",
     "text": [
      "Task 10 Epoch 2: 100%|██████████| 40/40 [00:00<00:00, 42.68it/s]"
     ]
    },
    {
     "name": "stdout",
     "output_type": "stream",
     "text": [
      "Epoch 2: loss=1.6540\n"
     ]
    },
    {
     "name": "stderr",
     "output_type": "stream",
     "text": [
      "\n"
     ]
    },
    {
     "name": "stdout",
     "output_type": "stream",
     "text": [
      "Accuracy on Task 1: 0.077\n",
      "Accuracy on Task 2: 0.038\n",
      "Accuracy on Task 3: 0.128\n",
      "Accuracy on Task 4: 0.073\n",
      "Accuracy on Task 5: 0.057\n",
      "Accuracy on Task 6: 0.079\n",
      "Accuracy on Task 7: 0.184\n",
      "Accuracy on Task 8: 0.118\n",
      "Accuracy on Task 9: 0.127\n",
      "Accuracy on Task 10: 0.462\n",
      "[OGD] Harvested 30 dirs (seen 30 batches). Memory size: 300\n",
      "\n",
      "=== Metrics (Split CIFAR-100, CNN, OGD) ===\n",
      "ACC=0.1343, F=0.3143, BWT=-0.3143, FWT=0.0000, Mem=710.46 MB, PSM=0.3428\n"
     ]
    },
    {
     "data": {
      "image/png": "[encoded data removed]",
      "text/plain": [
       "<Figure size 600x500 with 2 Axes>"
      ]
     },
     "metadata": {},
     "output_type": "display_data"
    }
   ],
   "source": [
    "# ================================================\n",
    "# OGD on Split CIFAR-100 (10 tasks × 10 classes)\n",
    "# ================================================\n",
    "# - Memory-efficient task construction\n",
    "# - OGD with orthonormal gradient memory\n",
    "# - Stores optimizer/criterion in OGD (Option 2)\n",
    "# - Accuracy matrix + CL metrics + plot\n",
    "# ================================================\n",
    "\n",
    "import os\n",
    "import math\n",
    "import random\n",
    "import numpy as np\n",
    "import torch\n",
    "import torch.nn as nn\n",
    "import torch.nn.functional as F\n",
    "from torch.utils.data import DataLoader, Dataset\n",
    "from torchvision import datasets, transforms\n",
    "from tqdm import tqdm\n",
    "import matplotlib.pyplot as plt\n",
    "\n",
    "# -----------------\n",
    "# Repro & Device\n",
    "# -----------------\n",
    "seed = 42\n",
    "random.seed(seed)\n",
    "np.random.seed(seed)\n",
    "torch.manual_seed(seed)\n",
    "torch.cuda.manual_seed_all(seed)\n",
    "torch.backends.cudnn.benchmark = True\n",
    "\n",
    "device = torch.device(\"cuda\" if torch.cuda.is_available() else \"cpu\")\n",
    "print(\"Device:\", device)\n",
    "\n",
    "# -----------------\n",
    "# Hyperparameters\n",
    "# -----------------\n",
    "root = \"./data\"\n",
    "num_tasks = 10\n",
    "num_classes = 100\n",
    "classes_per_task = num_classes // num_tasks  # 10\n",
    "batch_size = 128\n",
    "num_epochs = 2\n",
    "download = True\n",
    "\n",
    "# Optimizer/loss\n",
    "learning_rate = 0.05\n",
    "weight_decay = 5e-4\n",
    "momentum = 0.9\n",
    "\n",
    "# OGD memory\n",
    "max_mem_dirs = 1000   # cap on number of stored gradient directions (global)\n",
    "dirs_per_task = 120   # target number of new directions to add per task\n",
    "harvest_batches = 30  # batches to sample for memory after each task\n",
    "grad_eps = 1e-6       # min norm to accept a direction\n",
    "\n",
    "# -----------------\n",
    "# Transforms\n",
    "# -----------------\n",
    "normalize = transforms.Normalize(mean=(0.5071, 0.4867, 0.4408),\n",
    "                                 std=(0.2675, 0.2565, 0.2761))\n",
    "train_transform = transforms.Compose([\n",
    "    transforms.RandomCrop(32, padding=4),\n",
    "    transforms.RandomHorizontalFlip(),\n",
    "    transforms.ToTensor(),\n",
    "    normalize\n",
    "])\n",
    "test_transform = transforms.Compose([\n",
    "    transforms.ToTensor(),\n",
    "    normalize\n",
    "])\n",
    "\n",
    "# -----------------\n",
    "# Datasets\n",
    "# -----------------\n",
    "train_full = datasets.CIFAR100(root=root, train=True,  download=download, transform=train_transform)\n",
    "test_full  = datasets.CIFAR100(root=root, train=False, download=download, transform=test_transform)\n",
    "\n",
    "train_targets = np.array(train_full.targets)\n",
    "test_targets  = np.array(test_full.targets)\n",
    "\n",
    "# -----------------\n",
    "# Task splits (indices & class lists)\n",
    "# -----------------\n",
    "task_class_lists = []\n",
    "train_indices_per_task, test_indices_per_task = [], []\n",
    "\n",
    "for t in range(num_tasks):\n",
    "    cls_start = t * classes_per_task\n",
    "    cls_end = cls_start + classes_per_task\n",
    "    task_classes = list(range(cls_start, cls_end))\n",
    "    task_class_lists.append(task_classes)\n",
    "\n",
    "    train_idx = np.where(np.isin(train_targets, task_classes))[0].tolist()\n",
    "    test_idx  = np.where(np.isin(test_targets,  task_classes))[0].tolist()\n",
    "\n",
    "    train_indices_per_task.append(train_idx)\n",
    "    test_indices_per_task.append(test_idx)\n",
    "\n",
    "    print(f\"Task {t}: classes {task_classes[0]}..{task_classes[-1]} | \"\n",
    "          f\"train {len(train_idx)}, test {len(test_idx)}\")\n",
    "\n",
    "# -----------------\n",
    "# Per-task label mapping dataset\n",
    "# -----------------\n",
    "class MapLabelsDataset(Dataset):\n",
    "    def __init__(self, base_dataset, indices, class_map):\n",
    "        self.base = base_dataset\n",
    "        self.indices = indices\n",
    "        self.class_map = class_map\n",
    "\n",
    "    def __len__(self):\n",
    "        return len(self.indices)\n",
    "\n",
    "    def __getitem__(self, i):\n",
    "        x, y = self.base[self.indices[i]]\n",
    "        return x, self.class_map[int(y)]\n",
    "\n",
    "# -----------------\n",
    "# Model\n",
    "# -----------------\n",
    "class SimpleCNN(nn.Module):\n",
    "    def __init__(self, num_classes=10):\n",
    "        super().__init__()\n",
    "        self.conv1 = nn.Conv2d(3, 32, 3, padding=1)\n",
    "        self.bn1 = nn.BatchNorm2d(32)\n",
    "        self.conv2 = nn.Conv2d(32, 64, 3, padding=1)\n",
    "        self.bn2 = nn.BatchNorm2d(64)\n",
    "        self.conv3 = nn.Conv2d(64, 128, 3, padding=1)\n",
    "        self.bn3 = nn.BatchNorm2d(128)\n",
    "        self.pool = nn.MaxPool2d(2, 2)\n",
    "        self.fc1 = nn.Linear(128 * 4 * 4, 256)\n",
    "        self.fc2 = nn.Linear(256, num_classes)\n",
    "\n",
    "    def forward(self, x):\n",
    "        x = self.pool(F.relu(self.bn1(self.conv1(x))))   # 32x16x16\n",
    "        x = self.pool(F.relu(self.bn2(self.conv2(x))))   # 64x8x8\n",
    "        x = self.pool(F.relu(self.bn3(self.conv3(x))))   # 128x4x4\n",
    "        x = x.view(x.size(0), -1)\n",
    "        x = F.relu(self.fc1(x))\n",
    "        return self.fc2(x)\n",
    "\n",
    "# -----------------\n",
    "# Utils to flatten/assign grads\n",
    "# -----------------\n",
    "def flatten_grads(model):\n",
    "    parts = []\n",
    "    for p in model.parameters():\n",
    "        if p.requires_grad and p.grad is not None:\n",
    "            parts.append(p.grad.view(-1))\n",
    "    return torch.cat(parts) if parts else torch.tensor([], device=next(model.parameters()).device)\n",
    "\n",
    "def assign_grads_from_vector(model, grad_vec):\n",
    "    offset = 0\n",
    "    for p in model.parameters():\n",
    "        if not p.requires_grad:\n",
    "            continue\n",
    "        n = p.numel()\n",
    "        if p.grad is None:\n",
    "            p.grad = torch.zeros_like(p)\n",
    "        p.grad.copy_(grad_vec[offset:offset+n].view_as(p))\n",
    "        offset += n\n",
    "\n",
    "# -----------------\n",
    "# OGD (Option 2: stores optimizer & criterion internally)\n",
    "# -----------------\n",
    "class OGD:\n",
    "    def __init__(self, model, optimizer, criterion, device,\n",
    "                 max_mem_dirs=1000, grad_eps=1e-6):\n",
    "        self.model = model.to(device)\n",
    "        self.optimizer = optimizer\n",
    "        self.criterion = criterion\n",
    "        self.device = device\n",
    "\n",
    "        self.P = sum(p.numel() for p in self.model.parameters() if p.requires_grad)\n",
    "        self.memory = None   # [k, P], orthonormal rows (unit-norm)\n",
    "        self.max_mem_dirs = max_mem_dirs\n",
    "        self.grad_eps = grad_eps\n",
    "\n",
    "    @torch.no_grad()\n",
    "    def _project_onto_complement(self, g):\n",
    "        # g: [P]\n",
    "        if self.memory is None or self.memory.size(0) == 0:\n",
    "            return g\n",
    "        # Memory rows are orthonormal ⇒ projection is g_perp = g - M^T (M g)\n",
    "        Mg = torch.mv(self.memory, g)            # [k]\n",
    "        g_perp = g - torch.mv(self.memory.t(), Mg)\n",
    "        return g_perp\n",
    "\n",
    "    @torch.no_grad()\n",
    "    def _add_dir_to_memory(self, g):\n",
    "        # Gram-Schmidt orth against existing memory; if large enough, normalize & append\n",
    "        if self.memory is not None and self.memory.size(0) > 0:\n",
    "            Mg = torch.mv(self.memory, g)\n",
    "            g = g - torch.mv(self.memory.t(), Mg)\n",
    "        norm = torch.linalg.norm(g)\n",
    "        if norm > self.grad_eps:\n",
    "            g = g / norm\n",
    "            if self.memory is None:\n",
    "                self.memory = g.unsqueeze(0)\n",
    "            else:\n",
    "                if self.memory.size(0) < self.max_mem_dirs:\n",
    "                    self.memory = torch.vstack([self.memory, g])\n",
    "                else:\n",
    "                    # Replace a random row to maintain diversity (FIFO/random policy)\n",
    "                    idx = torch.randint(0, self.memory.size(0), (1,)).item()\n",
    "                    self.memory[idx] = g\n",
    "\n",
    "    def observe(self, x, y):\n",
    "        \"\"\"One OGD training step on a batch.\"\"\"\n",
    "        self.model.train()\n",
    "        x, y = x.to(self.device), y.to(self.device)\n",
    "\n",
    "        self.optimizer.zero_grad(set_to_none=True)\n",
    "        logits = self.model(x)\n",
    "        loss = self.criterion(logits, y)\n",
    "        loss.backward()\n",
    "\n",
    "        # Flatten grads → project → assign → step\n",
    "        g = flatten_grads(self.model).detach()\n",
    "        g_perp = self._project_onto_complement(g)\n",
    "        assign_grads_from_vector(self.model, g_perp)\n",
    "        self.optimizer.step()\n",
    "        return loss.item()\n",
    "\n",
    "    def end_task(self, dataloader, dirs_to_add=100, harvest_batches=30):\n",
    "        \"\"\"Harvest gradient directions (from current task) to expand memory.\"\"\"\n",
    "        self.model.train()\n",
    "        for p in self.model.parameters():\n",
    "            p.requires_grad_(True)\n",
    "        torch.set_grad_enabled(True)\n",
    "\n",
    "        added, seen = 0, 0\n",
    "        for xb, yb in dataloader:\n",
    "            if seen >= harvest_batches or added >= dirs_to_add:\n",
    "                break\n",
    "            seen += 1\n",
    "\n",
    "            xb, yb = xb.to(self.device), yb.to(self.device)\n",
    "            self.model.zero_grad(set_to_none=True)\n",
    "            logits = self.model(xb)\n",
    "            loss = self.criterion(logits, yb)\n",
    "            loss.backward()\n",
    "\n",
    "            g = flatten_grads(self.model).detach()\n",
    "            self._add_dir_to_memory(g)\n",
    "            added += 1\n",
    "\n",
    "        print(f\"[OGD] Harvested {added} dirs (seen {seen} batches). \"\n",
    "              f\"Memory size: {0 if self.memory is None else self.memory.size(0)}\")\n",
    "\n",
    "# -----------------\n",
    "# Eval\n",
    "# -----------------\n",
    "@torch.no_grad()\n",
    "def evaluate(model, dataloader, device):\n",
    "    model.eval()\n",
    "    correct, total = 0, 0\n",
    "    for xb, yb in dataloader:\n",
    "        xb, yb = xb.to(device), yb.to(device)\n",
    "        preds = model(xb).argmax(1)\n",
    "        correct += (preds == yb).sum().item()\n",
    "        total += yb.size(0)\n",
    "    return correct / max(1, total)\n",
    "\n",
    "# -----------------\n",
    "# Init model/optimizer/criterion/OGD\n",
    "# -----------------\n",
    "model = SimpleCNN(num_classes=classes_per_task).to(device)\n",
    "optimizer = torch.optim.SGD(model.parameters(), lr=learning_rate, momentum=momentum, weight_decay=weight_decay)\n",
    "criterion = nn.CrossEntropyLoss()\n",
    "\n",
    "ogd = OGD(model, optimizer, criterion, device,\n",
    "          max_mem_dirs=max_mem_dirs, grad_eps=grad_eps)\n",
    "\n",
    "# -----------------\n",
    "# Train across tasks\n",
    "# -----------------\n",
    "accuracy_matrix = np.zeros((num_tasks, num_tasks), dtype=np.float32)\n",
    "\n",
    "loader_kwargs = dict(num_workers=2, pin_memory=True) if device.type == \"cuda\" else dict(num_workers=0)\n",
    "\n",
    "for t in range(num_tasks):\n",
    "    # Datasets & loaders for task t (labels remapped to 0..9)\n",
    "    class_map = {orig: i for i, orig in enumerate(task_class_lists[t])}\n",
    "    train_ds_t = MapLabelsDataset(train_full, train_indices_per_task[t], class_map)\n",
    "    test_ds_t  = MapLabelsDataset(test_full,  test_indices_per_task[t],  class_map)\n",
    "\n",
    "    train_loader = DataLoader(train_ds_t, batch_size=batch_size, shuffle=True,  **loader_kwargs)\n",
    "    test_loader  = DataLoader(test_ds_t,  batch_size=batch_size, shuffle=False, **loader_kwargs)\n",
    "\n",
    "    print(f\"\\n=== Task {t+1}/{num_tasks} | classes {task_class_lists[t][0]}..{task_class_lists[t][-1]} ===\")\n",
    "    for epoch in range(1, num_epochs + 1):\n",
    "        running = 0.0\n",
    "        for xb, yb in tqdm(train_loader, desc=f\"Task {t+1} Epoch {epoch}\"):\n",
    "            running += ogd.observe(xb, yb)\n",
    "        print(f\"Epoch {epoch}: loss={running/len(train_loader):.4f}\")\n",
    "\n",
    "    # Evaluate on all seen tasks so far\n",
    "    for j in range(t + 1):\n",
    "        class_map_eval = {orig: i for i, orig in enumerate(task_class_lists[j])}\n",
    "        test_ds_eval = MapLabelsDataset(test_full, test_indices_per_task[j], class_map_eval)\n",
    "        test_loader_eval = DataLoader(test_ds_eval, batch_size=batch_size, shuffle=False, **loader_kwargs)\n",
    "        acc = evaluate(ogd.model, test_loader_eval, device)\n",
    "        accuracy_matrix[t, j] = acc\n",
    "        print(f\"Accuracy on Task {j+1}: {acc:.3f}\")\n",
    "\n",
    "    # Grow OGD memory from current task data\n",
    "    ogd.end_task(train_loader, dirs_to_add=dirs_per_task, harvest_batches=harvest_batches)\n",
    "\n",
    "# -----------------\n",
    "# Metrics\n",
    "# -----------------\n",
    "ACC = accuracy_matrix[-1, :].mean()\n",
    "if num_tasks > 1:\n",
    "    F   = np.mean([np.max(accuracy_matrix[:num_tasks-1, j]) - accuracy_matrix[-1, j] for j in range(num_tasks-1)])\n",
    "    BWT = np.mean([accuracy_matrix[-1, j] - accuracy_matrix[j, j] for j in range(num_tasks-1)])\n",
    "    FWT = np.mean([accuracy_matrix[i, i+1] for i in range(num_tasks-1)])\n",
    "else:\n",
    "    F = BWT = FWT = 0.0\n",
    "\n",
    "P = sum(p.numel() for p in ogd.model.parameters() if p.requires_grad)\n",
    "k = 0 if ogd.memory is None else ogd.memory.size(0)\n",
    "mem_usage_mb = (k * P * 4) / (1024**2)  # float32\n",
    "PSM = 0.5 * (1 - F) + 0.5 * max(FWT, 0)\n",
    "\n",
    "print(\"\\n=== Metrics (Split CIFAR-100, CNN, OGD) ===\")\n",
    "print(f\"ACC={ACC:.4f}, F={F:.4f}, BWT={BWT:.4f}, FWT={FWT:.4f}, Mem={mem_usage_mb:.2f} MB, PSM={PSM:.4f}\")\n",
    "\n",
    "# -----------------\n",
    "# Plot accuracy matrix\n",
    "# -----------------\n",
    "plt.figure(figsize=(6,5))\n",
    "plt.imshow(accuracy_matrix, interpolation='nearest')\n",
    "plt.colorbar(label='Accuracy')\n",
    "plt.xlabel('Evaluation Task')\n",
    "plt.ylabel('Training Task')\n",
    "plt.title('OGD Accuracy Matrix (Split CIFAR-100 CNN)')\n",
    "plt.tight_layout()\n",
    "plt.show()"
   ]
  },
  {
   "cell_type": "code",
   "execution_count": 3,
   "id": "fc6d4b46-fa78-46ee-8c0e-8c866e0d5be3",
   "metadata": {},
   "outputs": [
    {
     "name": "stdout",
     "output_type": "stream",
     "text": [
      "Device: cuda\n",
      "\n",
      "=== Task 1/10 (unique pixel permutation) ===\n",
      "Files already downloaded and verified\n",
      "Files already downloaded and verified\n"
     ]
    },
    {
     "name": "stderr",
     "output_type": "stream",
     "text": [
      "Task 1 Epoch 1: 100%|██████████| 391/391 [00:08<00:00, 46.17it/s]\n"
     ]
    },
    {
     "name": "stdout",
     "output_type": "stream",
     "text": [
      "Epoch 1: loss=4.3553\n"
     ]
    },
    {
     "name": "stderr",
     "output_type": "stream",
     "text": [
      "Task 1 Epoch 2: 100%|██████████| 391/391 [00:07<00:00, 51.69it/s]\n"
     ]
    },
    {
     "name": "stdout",
     "output_type": "stream",
     "text": [
      "Epoch 2: loss=4.0520\n",
      "Files already downloaded and verified\n",
      "Accuracy on Task 1: 0.079\n",
      "[OGD] Harvested 30 dirs (seen 30 batches). Memory size: 30\n",
      "\n",
      "=== Task 2/10 (unique pixel permutation) ===\n",
      "Files already downloaded and verified\n",
      "Files already downloaded and verified\n"
     ]
    },
    {
     "name": "stderr",
     "output_type": "stream",
     "text": [
      "Task 2 Epoch 1: 100%|██████████| 391/391 [00:07<00:00, 52.86it/s]\n"
     ]
    },
    {
     "name": "stdout",
     "output_type": "stream",
     "text": [
      "Epoch 1: loss=3.9949\n"
     ]
    },
    {
     "name": "stderr",
     "output_type": "stream",
     "text": [
      "Task 2 Epoch 2: 100%|██████████| 391/391 [00:08<00:00, 47.78it/s]\n"
     ]
    },
    {
     "name": "stdout",
     "output_type": "stream",
     "text": [
      "Epoch 2: loss=3.8563\n",
      "Files already downloaded and verified\n",
      "Accuracy on Task 1: 0.030\n",
      "Files already downloaded and verified\n",
      "Accuracy on Task 2: 0.112\n",
      "[OGD] Harvested 30 dirs (seen 30 batches). Memory size: 60\n",
      "\n",
      "=== Task 3/10 (unique pixel permutation) ===\n",
      "Files already downloaded and verified\n",
      "Files already downloaded and verified\n"
     ]
    },
    {
     "name": "stderr",
     "output_type": "stream",
     "text": [
      "Task 3 Epoch 1: 100%|██████████| 391/391 [00:08<00:00, 47.34it/s]\n"
     ]
    },
    {
     "name": "stdout",
     "output_type": "stream",
     "text": [
      "Epoch 1: loss=3.9428\n"
     ]
    },
    {
     "name": "stderr",
     "output_type": "stream",
     "text": [
      "Task 3 Epoch 2: 100%|██████████| 391/391 [00:08<00:00, 47.24it/s]\n"
     ]
    },
    {
     "name": "stdout",
     "output_type": "stream",
     "text": [
      "Epoch 2: loss=3.7860\n",
      "Files already downloaded and verified\n",
      "Accuracy on Task 1: 0.019\n",
      "Files already downloaded and verified\n",
      "Accuracy on Task 2: 0.027\n",
      "Files already downloaded and verified\n",
      "Accuracy on Task 3: 0.111\n",
      "[OGD] Harvested 30 dirs (seen 30 batches). Memory size: 90\n",
      "\n",
      "=== Task 4/10 (unique pixel permutation) ===\n",
      "Files already downloaded and verified\n",
      "Files already downloaded and verified\n"
     ]
    },
    {
     "name": "stderr",
     "output_type": "stream",
     "text": [
      "Task 4 Epoch 1: 100%|██████████| 391/391 [00:08<00:00, 47.36it/s]\n"
     ]
    },
    {
     "name": "stdout",
     "output_type": "stream",
     "text": [
      "Epoch 1: loss=3.8826\n"
     ]
    },
    {
     "name": "stderr",
     "output_type": "stream",
     "text": [
      "Task 4 Epoch 2: 100%|██████████| 391/391 [00:07<00:00, 48.96it/s]\n"
     ]
    },
    {
     "name": "stdout",
     "output_type": "stream",
     "text": [
      "Epoch 2: loss=3.7314\n",
      "Files already downloaded and verified\n",
      "Accuracy on Task 1: 0.021\n",
      "Files already downloaded and verified\n",
      "Accuracy on Task 2: 0.021\n",
      "Files already downloaded and verified\n",
      "Accuracy on Task 3: 0.051\n",
      "Files already downloaded and verified\n",
      "Accuracy on Task 4: 0.133\n",
      "[OGD] Harvested 30 dirs (seen 30 batches). Memory size: 120\n",
      "\n",
      "=== Task 5/10 (unique pixel permutation) ===\n",
      "Files already downloaded and verified\n",
      "Files already downloaded and verified\n"
     ]
    },
    {
     "name": "stderr",
     "output_type": "stream",
     "text": [
      "Task 5 Epoch 1: 100%|██████████| 391/391 [00:07<00:00, 50.22it/s]\n"
     ]
    },
    {
     "name": "stdout",
     "output_type": "stream",
     "text": [
      "Epoch 1: loss=3.8511\n"
     ]
    },
    {
     "name": "stderr",
     "output_type": "stream",
     "text": [
      "Task 5 Epoch 2: 100%|██████████| 391/391 [00:07<00:00, 49.22it/s]\n"
     ]
    },
    {
     "name": "stdout",
     "output_type": "stream",
     "text": [
      "Epoch 2: loss=3.6942\n",
      "Files already downloaded and verified\n",
      "Accuracy on Task 1: 0.025\n",
      "Files already downloaded and verified\n",
      "Accuracy on Task 2: 0.025\n",
      "Files already downloaded and verified\n",
      "Accuracy on Task 3: 0.034\n",
      "Files already downloaded and verified\n",
      "Accuracy on Task 4: 0.053\n",
      "Files already downloaded and verified\n",
      "Accuracy on Task 5: 0.138\n",
      "[OGD] Harvested 30 dirs (seen 30 batches). Memory size: 150\n",
      "\n",
      "=== Task 6/10 (unique pixel permutation) ===\n",
      "Files already downloaded and verified\n",
      "Files already downloaded and verified\n"
     ]
    },
    {
     "name": "stderr",
     "output_type": "stream",
     "text": [
      "Task 6 Epoch 1: 100%|██████████| 391/391 [00:08<00:00, 48.74it/s]\n"
     ]
    },
    {
     "name": "stdout",
     "output_type": "stream",
     "text": [
      "Epoch 1: loss=3.8738\n"
     ]
    },
    {
     "name": "stderr",
     "output_type": "stream",
     "text": [
      "Task 6 Epoch 2: 100%|██████████| 391/391 [00:08<00:00, 46.93it/s]\n"
     ]
    },
    {
     "name": "stdout",
     "output_type": "stream",
     "text": [
      "Epoch 2: loss=3.6944\n",
      "Files already downloaded and verified\n",
      "Accuracy on Task 1: 0.024\n",
      "Files already downloaded and verified\n",
      "Accuracy on Task 2: 0.028\n",
      "Files already downloaded and verified\n",
      "Accuracy on Task 3: 0.024\n",
      "Files already downloaded and verified\n",
      "Accuracy on Task 4: 0.027\n",
      "Files already downloaded and verified\n",
      "Accuracy on Task 5: 0.044\n",
      "Files already downloaded and verified\n",
      "Accuracy on Task 6: 0.143\n",
      "[OGD] Harvested 30 dirs (seen 30 batches). Memory size: 180\n",
      "\n",
      "=== Task 7/10 (unique pixel permutation) ===\n",
      "Files already downloaded and verified\n",
      "Files already downloaded and verified\n"
     ]
    },
    {
     "name": "stderr",
     "output_type": "stream",
     "text": [
      "Task 7 Epoch 1: 100%|██████████| 391/391 [00:08<00:00, 46.56it/s]\n"
     ]
    },
    {
     "name": "stdout",
     "output_type": "stream",
     "text": [
      "Epoch 1: loss=3.8539\n"
     ]
    },
    {
     "name": "stderr",
     "output_type": "stream",
     "text": [
      "Task 7 Epoch 2: 100%|██████████| 391/391 [00:07<00:00, 53.01it/s]\n"
     ]
    },
    {
     "name": "stdout",
     "output_type": "stream",
     "text": [
      "Epoch 2: loss=3.6714\n",
      "Files already downloaded and verified\n",
      "Accuracy on Task 1: 0.027\n",
      "Files already downloaded and verified\n",
      "Accuracy on Task 2: 0.025\n",
      "Files already downloaded and verified\n",
      "Accuracy on Task 3: 0.026\n",
      "Files already downloaded and verified\n",
      "Accuracy on Task 4: 0.028\n",
      "Files already downloaded and verified\n",
      "Accuracy on Task 5: 0.025\n",
      "Files already downloaded and verified\n",
      "Accuracy on Task 6: 0.048\n",
      "Files already downloaded and verified\n",
      "Accuracy on Task 7: 0.139\n",
      "[OGD] Harvested 30 dirs (seen 30 batches). Memory size: 210\n",
      "\n",
      "=== Task 8/10 (unique pixel permutation) ===\n",
      "Files already downloaded and verified\n",
      "Files already downloaded and verified\n"
     ]
    },
    {
     "name": "stderr",
     "output_type": "stream",
     "text": [
      "Task 8 Epoch 1: 100%|██████████| 391/391 [00:07<00:00, 49.35it/s]\n"
     ]
    },
    {
     "name": "stdout",
     "output_type": "stream",
     "text": [
      "Epoch 1: loss=3.8363\n"
     ]
    },
    {
     "name": "stderr",
     "output_type": "stream",
     "text": [
      "Task 8 Epoch 2: 100%|██████████| 391/391 [00:07<00:00, 49.23it/s]\n"
     ]
    },
    {
     "name": "stdout",
     "output_type": "stream",
     "text": [
      "Epoch 2: loss=3.6677\n",
      "Files already downloaded and verified\n",
      "Accuracy on Task 1: 0.022\n",
      "Files already downloaded and verified\n",
      "Accuracy on Task 2: 0.022\n",
      "Files already downloaded and verified\n",
      "Accuracy on Task 3: 0.023\n",
      "Files already downloaded and verified\n",
      "Accuracy on Task 4: 0.024\n",
      "Files already downloaded and verified\n",
      "Accuracy on Task 5: 0.034\n",
      "Files already downloaded and verified\n",
      "Accuracy on Task 6: 0.028\n",
      "Files already downloaded and verified\n",
      "Accuracy on Task 7: 0.049\n",
      "Files already downloaded and verified\n",
      "Accuracy on Task 8: 0.147\n",
      "[OGD] Harvested 30 dirs (seen 30 batches). Memory size: 240\n",
      "\n",
      "=== Task 9/10 (unique pixel permutation) ===\n",
      "Files already downloaded and verified\n",
      "Files already downloaded and verified\n"
     ]
    },
    {
     "name": "stderr",
     "output_type": "stream",
     "text": [
      "Task 9 Epoch 1: 100%|██████████| 391/391 [00:07<00:00, 52.77it/s]\n"
     ]
    },
    {
     "name": "stdout",
     "output_type": "stream",
     "text": [
      "Epoch 1: loss=3.8193\n"
     ]
    },
    {
     "name": "stderr",
     "output_type": "stream",
     "text": [
      "Task 9 Epoch 2: 100%|██████████| 391/391 [00:07<00:00, 50.71it/s]\n"
     ]
    },
    {
     "name": "stdout",
     "output_type": "stream",
     "text": [
      "Epoch 2: loss=3.6572\n",
      "Files already downloaded and verified\n",
      "Accuracy on Task 1: 0.026\n",
      "Files already downloaded and verified\n",
      "Accuracy on Task 2: 0.027\n",
      "Files already downloaded and verified\n",
      "Accuracy on Task 3: 0.029\n",
      "Files already downloaded and verified\n",
      "Accuracy on Task 4: 0.028\n",
      "Files already downloaded and verified\n",
      "Accuracy on Task 5: 0.030\n",
      "Files already downloaded and verified\n",
      "Accuracy on Task 6: 0.026\n",
      "Files already downloaded and verified\n",
      "Accuracy on Task 7: 0.032\n",
      "Files already downloaded and verified\n",
      "Accuracy on Task 8: 0.060\n",
      "Files already downloaded and verified\n",
      "Accuracy on Task 9: 0.154\n",
      "[OGD] Harvested 30 dirs (seen 30 batches). Memory size: 270\n",
      "\n",
      "=== Task 10/10 (unique pixel permutation) ===\n",
      "Files already downloaded and verified\n",
      "Files already downloaded and verified\n"
     ]
    },
    {
     "name": "stderr",
     "output_type": "stream",
     "text": [
      "Task 10 Epoch 1: 100%|██████████| 391/391 [00:08<00:00, 47.22it/s]\n"
     ]
    },
    {
     "name": "stdout",
     "output_type": "stream",
     "text": [
      "Epoch 1: loss=3.8005\n"
     ]
    },
    {
     "name": "stderr",
     "output_type": "stream",
     "text": [
      "Task 10 Epoch 2: 100%|██████████| 391/391 [00:08<00:00, 47.88it/s]\n"
     ]
    },
    {
     "name": "stdout",
     "output_type": "stream",
     "text": [
      "Epoch 2: loss=3.6356\n",
      "Files already downloaded and verified\n",
      "Accuracy on Task 1: 0.027\n",
      "Files already downloaded and verified\n",
      "Accuracy on Task 2: 0.027\n",
      "Files already downloaded and verified\n",
      "Accuracy on Task 3: 0.028\n",
      "Files already downloaded and verified\n",
      "Accuracy on Task 4: 0.025\n",
      "Files already downloaded and verified\n",
      "Accuracy on Task 5: 0.028\n",
      "Files already downloaded and verified\n",
      "Accuracy on Task 6: 0.025\n",
      "Files already downloaded and verified\n",
      "Accuracy on Task 7: 0.031\n",
      "Files already downloaded and verified\n",
      "Accuracy on Task 8: 0.035\n",
      "Files already downloaded and verified\n",
      "Accuracy on Task 9: 0.058\n",
      "Files already downloaded and verified\n",
      "Accuracy on Task 10: 0.150\n",
      "[OGD] Harvested 30 dirs (seen 30 batches). Memory size: 300\n",
      "\n",
      "=== Metrics (Permuted CIFAR-100, CNN, OGD) ===\n",
      "ACC=0.0434, F=0.0967, BWT=-0.0967, FWT=0.0000, Mem=736.93 MB, PSM=0.4517\n"
     ]
    },
    {
     "data": {
      "image/png": "[encoded data removed]",
      "text/plain": [
       "<Figure size 600x500 with 2 Axes>"
      ]
     },
     "metadata": {},
     "output_type": "display_data"
    }
   ],
   "source": [
    "# ====================================================\n",
    "# OGD on Permuted CIFAR-100 (num_tasks × 100 classes)\n",
    "# ====================================================\n",
    "# - Same CNN & OGD implementation as Split CIFAR-100\n",
    "# - Each task has a unique, fixed pixel permutation\n",
    "# - Full label space per task (0..99)\n",
    "# ====================================================\n",
    "\n",
    "import os\n",
    "import math\n",
    "import random\n",
    "import numpy as np\n",
    "import torch\n",
    "import torch.nn as nn\n",
    "import torch.nn.functional as F\n",
    "from torch.utils.data import DataLoader\n",
    "from torchvision import datasets, transforms\n",
    "from tqdm import tqdm\n",
    "import matplotlib.pyplot as plt\n",
    "\n",
    "# -----------------\n",
    "# Repro & Device\n",
    "# -----------------\n",
    "seed = 42\n",
    "random.seed(seed)\n",
    "np.random.seed(seed)\n",
    "torch.manual_seed(seed)\n",
    "torch.cuda.manual_seed_all(seed)\n",
    "torch.backends.cudnn.benchmark = True\n",
    "\n",
    "device = torch.device(\"cuda\" if torch.cuda.is_available() else \"cpu\")\n",
    "print(\"Device:\", device)\n",
    "\n",
    "# -----------------\n",
    "# Hyperparameters\n",
    "# -----------------\n",
    "root = \"./data\"\n",
    "num_tasks = 10\n",
    "num_classes = 100\n",
    "batch_size = 128\n",
    "num_epochs = 2\n",
    "download = True\n",
    "\n",
    "# Optimizer/loss\n",
    "learning_rate = 0.05\n",
    "weight_decay = 5e-4\n",
    "momentum = 0.9\n",
    "\n",
    "# OGD memory\n",
    "max_mem_dirs = 1000\n",
    "dirs_per_task = 120\n",
    "harvest_batches = 30\n",
    "grad_eps = 1e-6\n",
    "\n",
    "# -----------------\n",
    "# Base normalization\n",
    "# -----------------\n",
    "normalize = transforms.Normalize(mean=(0.5071, 0.4867, 0.4408),\n",
    "                                 std=(0.2675, 0.2565, 0.2761))\n",
    "\n",
    "# -----------------\n",
    "# Generate pixel permutations for each task\n",
    "# -----------------\n",
    "img_size = 32\n",
    "num_pixels = img_size * img_size * 3\n",
    "permutations = [torch.randperm(num_pixels) for _ in range(num_tasks)]\n",
    "\n",
    "class PermutePixels:\n",
    "    \"\"\"Transform to permute pixels using a fixed order.\"\"\"\n",
    "    def __init__(self, perm):\n",
    "        self.perm = perm\n",
    "\n",
    "    def __call__(self, img):\n",
    "        # img: Tensor [C,H,W]\n",
    "        c, h, w = img.size()\n",
    "        flat = img.view(-1)\n",
    "        permuted = flat[self.perm]\n",
    "        return permuted.view(c, h, w)\n",
    "\n",
    "# -----------------\n",
    "# Model\n",
    "# -----------------\n",
    "class SimpleCNN(nn.Module):\n",
    "    def __init__(self, num_classes=100):\n",
    "        super().__init__()\n",
    "        self.conv1 = nn.Conv2d(3, 32, 3, padding=1)\n",
    "        self.bn1 = nn.BatchNorm2d(32)\n",
    "        self.conv2 = nn.Conv2d(32, 64, 3, padding=1)\n",
    "        self.bn2 = nn.BatchNorm2d(64)\n",
    "        self.conv3 = nn.Conv2d(64, 128, 3, padding=1)\n",
    "        self.bn3 = nn.BatchNorm2d(128)\n",
    "        self.pool = nn.MaxPool2d(2, 2)\n",
    "        self.fc1 = nn.Linear(128 * 4 * 4, 256)\n",
    "        self.fc2 = nn.Linear(256, num_classes)\n",
    "\n",
    "    def forward(self, x):\n",
    "        x = self.pool(F.relu(self.bn1(self.conv1(x))))\n",
    "        x = self.pool(F.relu(self.bn2(self.conv2(x))))\n",
    "        x = self.pool(F.relu(self.bn3(self.conv3(x))))\n",
    "        x = x.view(x.size(0), -1)\n",
    "        x = F.relu(self.fc1(x))\n",
    "        return self.fc2(x)\n",
    "\n",
    "# -----------------\n",
    "# Utils for grads\n",
    "# -----------------\n",
    "def flatten_grads(model):\n",
    "    parts = []\n",
    "    for p in model.parameters():\n",
    "        if p.requires_grad and p.grad is not None:\n",
    "            parts.append(p.grad.view(-1))\n",
    "    return torch.cat(parts) if parts else torch.tensor([], device=next(model.parameters()).device)\n",
    "\n",
    "def assign_grads_from_vector(model, grad_vec):\n",
    "    offset = 0\n",
    "    for p in model.parameters():\n",
    "        if not p.requires_grad:\n",
    "            continue\n",
    "        n = p.numel()\n",
    "        if p.grad is None:\n",
    "            p.grad = torch.zeros_like(p)\n",
    "        p.grad.copy_(grad_vec[offset:offset+n].view_as(p))\n",
    "        offset += n\n",
    "\n",
    "# -----------------\n",
    "# OGD (same as before)\n",
    "# -----------------\n",
    "class OGD:\n",
    "    def __init__(self, model, optimizer, criterion, device,\n",
    "                 max_mem_dirs=1000, grad_eps=1e-6):\n",
    "        self.model = model.to(device)\n",
    "        self.optimizer = optimizer\n",
    "        self.criterion = criterion\n",
    "        self.device = device\n",
    "\n",
    "        self.P = sum(p.numel() for p in self.model.parameters() if p.requires_grad)\n",
    "        self.memory = None\n",
    "        self.max_mem_dirs = max_mem_dirs\n",
    "        self.grad_eps = grad_eps\n",
    "\n",
    "    @torch.no_grad()\n",
    "    def _project_onto_complement(self, g):\n",
    "        if self.memory is None or self.memory.size(0) == 0:\n",
    "            return g\n",
    "        Mg = torch.mv(self.memory, g)\n",
    "        g_perp = g - torch.mv(self.memory.t(), Mg)\n",
    "        return g_perp\n",
    "\n",
    "    @torch.no_grad()\n",
    "    def _add_dir_to_memory(self, g):\n",
    "        if self.memory is not None and self.memory.size(0) > 0:\n",
    "            Mg = torch.mv(self.memory, g)\n",
    "            g = g - torch.mv(self.memory.t(), Mg)\n",
    "        norm = torch.linalg.norm(g)\n",
    "        if norm > self.grad_eps:\n",
    "            g = g / norm\n",
    "            if self.memory is None:\n",
    "                self.memory = g.unsqueeze(0)\n",
    "            else:\n",
    "                if self.memory.size(0) < self.max_mem_dirs:\n",
    "                    self.memory = torch.vstack([self.memory, g])\n",
    "                else:\n",
    "                    idx = torch.randint(0, self.memory.size(0), (1,)).item()\n",
    "                    self.memory[idx] = g\n",
    "\n",
    "    def observe(self, x, y):\n",
    "        self.model.train()\n",
    "        x, y = x.to(self.device), y.to(self.device)\n",
    "\n",
    "        self.optimizer.zero_grad(set_to_none=True)\n",
    "        logits = self.model(x)\n",
    "        loss = self.criterion(logits, y)\n",
    "        loss.backward()\n",
    "\n",
    "        g = flatten_grads(self.model).detach()\n",
    "        g_perp = self._project_onto_complement(g)\n",
    "        assign_grads_from_vector(self.model, g_perp)\n",
    "        self.optimizer.step()\n",
    "        return loss.item()\n",
    "\n",
    "    def end_task(self, dataloader, dirs_to_add=100, harvest_batches=30):\n",
    "        self.model.train()\n",
    "        for p in self.model.parameters():\n",
    "            p.requires_grad_(True)\n",
    "        torch.set_grad_enabled(True)\n",
    "\n",
    "        added, seen = 0, 0\n",
    "        for xb, yb in dataloader:\n",
    "            if seen >= harvest_batches or added >= dirs_to_add:\n",
    "                break\n",
    "            seen += 1\n",
    "\n",
    "            xb, yb = xb.to(self.device), yb.to(self.device)\n",
    "            self.model.zero_grad(set_to_none=True)\n",
    "            logits = self.model(xb)\n",
    "            loss = self.criterion(logits, yb)\n",
    "            loss.backward()\n",
    "\n",
    "            g = flatten_grads(self.model).detach()\n",
    "            self._add_dir_to_memory(g)\n",
    "            added += 1\n",
    "\n",
    "        print(f\"[OGD] Harvested {added} dirs (seen {seen} batches). \"\n",
    "              f\"Memory size: {0 if self.memory is None else self.memory.size(0)}\")\n",
    "\n",
    "# -----------------\n",
    "# Eval\n",
    "# -----------------\n",
    "@torch.no_grad()\n",
    "def evaluate(model, dataloader, device):\n",
    "    model.eval()\n",
    "    correct, total = 0, 0\n",
    "    for xb, yb in dataloader:\n",
    "        xb, yb = xb.to(device), yb.to(device)\n",
    "        preds = model(xb).argmax(1)\n",
    "        correct += (preds == yb).sum().item()\n",
    "        total += yb.size(0)\n",
    "    return correct / max(1, total)\n",
    "\n",
    "# -----------------\n",
    "# Init\n",
    "# -----------------\n",
    "model = SimpleCNN(num_classes=num_classes).to(device)\n",
    "optimizer = torch.optim.SGD(model.parameters(), lr=learning_rate, momentum=momentum, weight_decay=weight_decay)\n",
    "criterion = nn.CrossEntropyLoss()\n",
    "ogd = OGD(model, optimizer, criterion, device,\n",
    "          max_mem_dirs=max_mem_dirs, grad_eps=grad_eps)\n",
    "\n",
    "accuracy_matrix = np.zeros((num_tasks, num_tasks), dtype=np.float32)\n",
    "loader_kwargs = dict(num_workers=2, pin_memory=True) if device.type == \"cuda\" else dict(num_workers=0)\n",
    "\n",
    "# -----------------\n",
    "# Train across permuted tasks\n",
    "# -----------------\n",
    "for t in range(num_tasks):\n",
    "    print(f\"\\n=== Task {t+1}/{num_tasks} (unique pixel permutation) ===\")\n",
    "    \n",
    "    train_transform = transforms.Compose([\n",
    "        transforms.RandomCrop(32, padding=4),\n",
    "        transforms.RandomHorizontalFlip(),\n",
    "        transforms.ToTensor(),\n",
    "        PermutePixels(permutations[t]),\n",
    "        normalize\n",
    "    ])\n",
    "    test_transform = transforms.Compose([\n",
    "        transforms.ToTensor(),\n",
    "        PermutePixels(permutations[t]),\n",
    "        normalize\n",
    "    ])\n",
    "\n",
    "    train_ds_t = datasets.CIFAR100(root=root, train=True, download=download, transform=train_transform)\n",
    "    test_ds_t  = datasets.CIFAR100(root=root, train=False, download=download, transform=test_transform)\n",
    "\n",
    "    train_loader = DataLoader(train_ds_t, batch_size=batch_size, shuffle=True, **loader_kwargs)\n",
    "    test_loader  = DataLoader(test_ds_t, batch_size=batch_size, shuffle=False, **loader_kwargs)\n",
    "\n",
    "    for epoch in range(1, num_epochs + 1):\n",
    "        running = 0.0\n",
    "        for xb, yb in tqdm(train_loader, desc=f\"Task {t+1} Epoch {epoch}\"):\n",
    "            running += ogd.observe(xb, yb)\n",
    "        print(f\"Epoch {epoch}: loss={running/len(train_loader):.4f}\")\n",
    "\n",
    "    # Evaluate on all seen tasks\n",
    "    for j in range(t + 1):\n",
    "        eval_transform = transforms.Compose([\n",
    "            transforms.ToTensor(),\n",
    "            PermutePixels(permutations[j]),\n",
    "            normalize\n",
    "        ])\n",
    "        eval_ds = datasets.CIFAR100(root=root, train=False, download=download, transform=eval_transform)\n",
    "        eval_loader = DataLoader(eval_ds, batch_size=batch_size, shuffle=False, **loader_kwargs)\n",
    "        acc = evaluate(ogd.model, eval_loader, device)\n",
    "        accuracy_matrix[t, j] = acc\n",
    "        print(f\"Accuracy on Task {j+1}: {acc:.3f}\")\n",
    "\n",
    "    ogd.end_task(train_loader, dirs_to_add=dirs_per_task, harvest_batches=harvest_batches)\n",
    "\n",
    "# -----------------\n",
    "# Metrics\n",
    "# -----------------\n",
    "ACC = accuracy_matrix[-1, :].mean()\n",
    "if num_tasks > 1:\n",
    "    F   = np.mean([np.max(accuracy_matrix[:num_tasks-1, j]) - accuracy_matrix[-1, j] for j in range(num_tasks-1)])\n",
    "    BWT = np.mean([accuracy_matrix[-1, j] - accuracy_matrix[j, j] for j in range(num_tasks-1)])\n",
    "    FWT = np.mean([accuracy_matrix[i, i+1] for i in range(num_tasks-1)])\n",
    "else:\n",
    "    F = BWT = FWT = 0.0\n",
    "\n",
    "P = sum(p.numel() for p in ogd.model.parameters() if p.requires_grad)\n",
    "k = 0 if ogd.memory is None else ogd.memory.size(0)\n",
    "mem_usage_mb = (k * P * 4) / (1024**2)\n",
    "PSM = 0.5 * (1 - F) + 0.5 * max(FWT, 0)\n",
    "\n",
    "print(\"\\n=== Metrics (Permuted CIFAR-100, CNN, OGD) ===\")\n",
    "print(f\"ACC={ACC:.4f}, F={F:.4f}, BWT={BWT:.4f}, FWT={FWT:.4f}, Mem={mem_usage_mb:.2f} MB, PSM={PSM:.4f}\")\n",
    "\n",
    "# -----------------\n",
    "# Plot\n",
    "# -----------------\n",
    "plt.figure(figsize=(6,5))\n",
    "plt.imshow(accuracy_matrix, interpolation='nearest')\n",
    "plt.colorbar(label='Accuracy')\n",
    "plt.xlabel('Evaluation Task')\n",
    "plt.ylabel('Training Task')\n",
    "plt.title('OGD Accuracy Matrix (Permuted CIFAR-100 CNN)')\n",
    "plt.tight_layout()\n",
    "plt.show()"
   ]
  },
  {
   "cell_type": "code",
   "execution_count": null,
   "id": "50ae98ec-64aa-4964-8221-8a5a561be5b0",
   "metadata": {},
   "outputs": [],
   "source": []
  }
 ],
 "metadata": {
  "kernelspec": {
   "display_name": "Python 3 (ipykernel)",
   "language": "python",
   "name": "python3"
  },
  "language_info": {
   "codemirror_mode": {
    "name": "ipython",
    "version": 3
   },
   "file_extension": ".py",
   "mimetype": "text/x-python",
   "name": "python",
   "nbconvert_exporter": "python",
   "pygments_lexer": "ipython3",
   "version": "3.10.12"
  }
 },
 "nbformat": 4,
 "nbformat_minor": 5
}
