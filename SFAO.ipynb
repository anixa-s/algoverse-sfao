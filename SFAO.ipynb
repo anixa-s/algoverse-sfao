{
 "cells": [
  {
   "cell_type": "code",
   "execution_count": 1,
   "id": "2effee79-ec23-43a5-b01e-3ef67dcdf8ec",
   "metadata": {},
   "outputs": [
    {
     "name": "stdout",
     "output_type": "stream",
     "text": [
      "Requirement already satisfied: matplotlib in /usr/local/lib/python3.10/dist-packages (3.10.5)\n",
      "Requirement already satisfied: numpy in /usr/local/lib/python3.10/dist-packages (1.26.1)\n",
      "Requirement already satisfied: torchvision in /usr/local/lib/python3.10/dist-packages (0.16.2+cu118)\n",
      "Requirement already satisfied: tqdm in /usr/local/lib/python3.10/dist-packages (4.67.1)\n",
      "Requirement already satisfied: contourpy>=1.0.1 in /usr/local/lib/python3.10/dist-packages (from matplotlib) (1.3.2)\n",
      "Requirement already satisfied: cycler>=0.10 in /usr/local/lib/python3.10/dist-packages (from matplotlib) (0.12.1)\n",
      "Requirement already satisfied: fonttools>=4.22.0 in /usr/local/lib/python3.10/dist-packages (from matplotlib) (4.59.1)\n",
      "Requirement already satisfied: kiwisolver>=1.3.1 in /usr/local/lib/python3.10/dist-packages (from matplotlib) (1.4.9)\n",
      "Requirement already satisfied: packaging>=20.0 in /usr/local/lib/python3.10/dist-packages (from matplotlib) (25.0)\n",
      "Requirement already satisfied: pillow>=8 in /usr/local/lib/python3.10/dist-packages (from matplotlib) (9.3.0)\n",
      "Requirement already satisfied: pyparsing>=2.3.1 in /usr/lib/python3/dist-packages (from matplotlib) (2.4.7)\n",
      "Requirement already satisfied: python-dateutil>=2.7 in /usr/local/lib/python3.10/dist-packages (from matplotlib) (2.8.2)\n",
      "Requirement already satisfied: requests in /usr/local/lib/python3.10/dist-packages (from torchvision) (2.31.0)\n",
      "Requirement already satisfied: torch==2.1.2 in /usr/local/lib/python3.10/dist-packages (from torchvision) (2.1.2+cu118)\n",
      "Requirement already satisfied: filelock in /usr/local/lib/python3.10/dist-packages (from torch==2.1.2->torchvision) (3.9.0)\n",
      "Requirement already satisfied: typing-extensions in /usr/local/lib/python3.10/dist-packages (from torch==2.1.2->torchvision) (4.14.1)\n",
      "Requirement already satisfied: sympy in /usr/local/lib/python3.10/dist-packages (from torch==2.1.2->torchvision) (1.12)\n",
      "Requirement already satisfied: networkx in /usr/local/lib/python3.10/dist-packages (from torch==2.1.2->torchvision) (3.0)\n",
      "Requirement already satisfied: jinja2 in /usr/local/lib/python3.10/dist-packages (from torch==2.1.2->torchvision) (3.1.2)\n",
      "Requirement already satisfied: fsspec in /usr/local/lib/python3.10/dist-packages (from torch==2.1.2->torchvision) (2023.4.0)\n",
      "Requirement already satisfied: triton==2.1.0 in /usr/local/lib/python3.10/dist-packages (from torch==2.1.2->torchvision) (2.1.0)\n",
      "Requirement already satisfied: six>=1.5 in /usr/lib/python3/dist-packages (from python-dateutil>=2.7->matplotlib) (1.16.0)\n",
      "Requirement already satisfied: MarkupSafe>=2.0 in /usr/local/lib/python3.10/dist-packages (from jinja2->torch==2.1.2->torchvision) (2.1.2)\n",
      "Requirement already satisfied: charset-normalizer<4,>=2 in /usr/local/lib/python3.10/dist-packages (from requests->torchvision) (2.1.1)\n",
      "Requirement already satisfied: idna<4,>=2.5 in /usr/local/lib/python3.10/dist-packages (from requests->torchvision) (3.4)\n",
      "Requirement already satisfied: urllib3<3,>=1.21.1 in /usr/local/lib/python3.10/dist-packages (from requests->torchvision) (1.26.13)\n",
      "Requirement already satisfied: certifi>=2017.4.17 in /usr/local/lib/python3.10/dist-packages (from requests->torchvision) (2022.12.7)\n",
      "Requirement already satisfied: mpmath>=0.19 in /usr/local/lib/python3.10/dist-packages (from sympy->torch==2.1.2->torchvision) (1.3.0)\n",
      "\u001b[33mWARNING: Running pip as the 'root' user can result in broken permissions and conflicting behaviour with the system package manager, possibly rendering your system unusable. It is recommended to use a virtual environment instead: https://pip.pypa.io/warnings/venv. Use the --root-user-action option if you know what you are doing and want to suppress this warning.\u001b[0m\u001b[33m\n",
      "\u001b[0m"
     ]
    }
   ],
   "source": [
    "!pip install matplotlib numpy torchvision tqdm"
   ]
  },
  {
   "cell_type": "code",
   "execution_count": 4,
   "id": "1f44795a-8bed-4d88-b9b7-72f151a9514b",
   "metadata": {},
   "outputs": [
    {
     "name": "stdout",
     "output_type": "stream",
     "text": [
      "\n",
      "=== Training Task 1 ===\n"
     ]
    },
    {
     "name": "stderr",
     "output_type": "stream",
     "text": [
      "100%|██████████| 396/396 [00:00<00:00, 577.28it/s]\n"
     ]
    },
    {
     "name": "stdout",
     "output_type": "stream",
     "text": [
      "Epoch 1, Loss: 0.4965\n"
     ]
    },
    {
     "name": "stderr",
     "output_type": "stream",
     "text": [
      "100%|██████████| 396/396 [00:00<00:00, 488.50it/s]\n"
     ]
    },
    {
     "name": "stdout",
     "output_type": "stream",
     "text": [
      "Epoch 2, Loss: 0.2465\n",
      "Accuracy on Task 1: 0.998\n",
      "\n",
      "=== Training Task 2 ===\n"
     ]
    },
    {
     "name": "stderr",
     "output_type": "stream",
     "text": [
      "100%|██████████| 378/378 [00:09<00:00, 40.27it/s]\n"
     ]
    },
    {
     "name": "stdout",
     "output_type": "stream",
     "text": [
      "Epoch 1, Loss: 0.6049\n"
     ]
    },
    {
     "name": "stderr",
     "output_type": "stream",
     "text": [
      "100%|██████████| 378/378 [00:08<00:00, 45.07it/s]\n"
     ]
    },
    {
     "name": "stdout",
     "output_type": "stream",
     "text": [
      "Epoch 2, Loss: 0.4103\n",
      "Accuracy on Task 1: 0.996\n",
      "Accuracy on Task 2: 0.873\n",
      "\n",
      "=== Training Task 3 ===\n"
     ]
    },
    {
     "name": "stderr",
     "output_type": "stream",
     "text": [
      "100%|██████████| 352/352 [00:07<00:00, 45.41it/s]\n"
     ]
    },
    {
     "name": "stdout",
     "output_type": "stream",
     "text": [
      "Epoch 1, Loss: 0.5626\n"
     ]
    },
    {
     "name": "stderr",
     "output_type": "stream",
     "text": [
      "100%|██████████| 352/352 [00:07<00:00, 45.14it/s]\n"
     ]
    },
    {
     "name": "stdout",
     "output_type": "stream",
     "text": [
      "Epoch 2, Loss: 0.4746\n",
      "Accuracy on Task 1: 0.992\n",
      "Accuracy on Task 2: 0.862\n",
      "Accuracy on Task 3: 0.819\n",
      "\n",
      "=== Training Task 4 ===\n"
     ]
    },
    {
     "name": "stderr",
     "output_type": "stream",
     "text": [
      "100%|██████████| 381/381 [00:08<00:00, 45.42it/s]\n"
     ]
    },
    {
     "name": "stdout",
     "output_type": "stream",
     "text": [
      "Epoch 1, Loss: 0.4968\n"
     ]
    },
    {
     "name": "stderr",
     "output_type": "stream",
     "text": [
      "100%|██████████| 381/381 [00:08<00:00, 45.23it/s]\n"
     ]
    },
    {
     "name": "stdout",
     "output_type": "stream",
     "text": [
      "Epoch 2, Loss: 0.3122\n",
      "Accuracy on Task 1: 0.982\n",
      "Accuracy on Task 2: 0.850\n",
      "Accuracy on Task 3: 0.812\n",
      "Accuracy on Task 4: 0.964\n",
      "\n",
      "=== Training Task 5 ===\n"
     ]
    },
    {
     "name": "stderr",
     "output_type": "stream",
     "text": [
      "100%|██████████| 369/369 [00:08<00:00, 44.97it/s]\n"
     ]
    },
    {
     "name": "stdout",
     "output_type": "stream",
     "text": [
      "Epoch 1, Loss: 0.7446\n"
     ]
    },
    {
     "name": "stderr",
     "output_type": "stream",
     "text": [
      "100%|██████████| 369/369 [00:08<00:00, 45.37it/s]\n"
     ]
    },
    {
     "name": "stdout",
     "output_type": "stream",
     "text": [
      "Epoch 2, Loss: 0.5025\n",
      "Accuracy on Task 1: 0.944\n",
      "Accuracy on Task 2: 0.770\n",
      "Accuracy on Task 3: 0.462\n",
      "Accuracy on Task 4: 0.957\n",
      "Accuracy on Task 5: 0.834\n",
      "=== Continual Learning Metrics ===\n",
      "Average Accuracy (ACC):       0.7935\n",
      "Forgetting (F):              0.1301\n",
      "Backward Transfer (BWT):     -0.1301\n",
      "Forward Transfer (FWT):      0.0000\n",
      "Memory Usage:                153.71 MB\n",
      "Computation Cost:            200 projections/batch\n",
      "Plasticity-Stability Measure (PSM): 0.4350 (0-1 normalized)\n",
      "=== Metrics (Split MNIST) ===\n",
      "ACC=0.7935, F=0.1301, BWT=-0.1301, FWT=0.0000, Mem=153.71MB, PSM=0.4350\n"
     ]
    },
    {
     "data": {
      "image/png": "[encoded data removed]",
      "text/plain": [
       "<Figure size 600x500 with 2 Axes>"
      ]
     },
     "metadata": {},
     "output_type": "display_data"
    }
   ],
   "source": [
    "# Selective Forgetting-Aware Optimization (SFAO) on Split MNIST\n",
    "import torch\n",
    "import torch.nn as nn\n",
    "import torch.optim as optim\n",
    "from torch.utils.data import DataLoader, TensorDataset\n",
    "import numpy as np\n",
    "from torchvision import datasets, transforms\n",
    "import matplotlib.pyplot as plt\n",
    "from tqdm import tqdm\n",
    "import random  # for monte carlo sampling\n",
    "\n",
    "device = 'cuda' if torch.cuda.is_available() else 'cpu'\n",
    "\n",
    "# Simple MLP model\n",
    "class SimpleMLP(nn.Module):\n",
    "    def __init__(self, input_size=784, hidden_size=256, output_size=2):\n",
    "        super(SimpleMLP, self).__init__()\n",
    "        self.net = nn.Sequential(\n",
    "            nn.Linear(input_size, hidden_size),\n",
    "            nn.ReLU(),\n",
    "            nn.Linear(hidden_size, output_size)\n",
    "        )\n",
    "\n",
    "    def forward(self, x):\n",
    "        return self.net(x.view(x.size(0), -1))\n",
    "\n",
    "\n",
    "# SFAO Implementation (Updated Methods Only)\n",
    "class SFAO:\n",
    "    def __init__(self, model, lr=0.001, device='cuda',\n",
    "                 max_memory=200, cosine_threshold=0.80, discard_threshold=-1e-4, sample_size=750):\n",
    "        self.model = model.to(device)\n",
    "        self.lr = lr\n",
    "        self.device = device\n",
    "        self.optimizer = optim.SGD(self.model.parameters(), lr=lr)\n",
    "        self.S = []  # stored gradient vectors\n",
    "        self.max_memory = max_memory\n",
    "        self.cosine_threshold = cosine_threshold\n",
    "        self.discard_threshold = discard_threshold\n",
    "        self.sample_size = sample_size\n",
    "\n",
    "    # flatten gradient\n",
    "    def _flatten_grad(self):\n",
    "        return torch.cat([p.grad.view(-1) for p in self.model.parameters() if p.grad is not None])\n",
    "\n",
    "    # assign gradient\n",
    "    def _assign_grad(self, flat_grad):\n",
    "        idx = 0\n",
    "        for p in self.model.parameters():\n",
    "            if p.grad is not None:\n",
    "                numel = p.numel()\n",
    "                p.grad.copy_(flat_grad[idx:idx+numel].view_as(p))\n",
    "                idx += numel\n",
    "\n",
    "    # project new gradient against memory\n",
    "    def _project_grad(self, g):\n",
    "        if len(self.S) == 0: return g\n",
    "        # sample some stored gradients\n",
    "        sampled = self.S if len(self.S)<=self.sample_size else [self.S[i] for i in torch.randperm(len(self.S))[:self.sample_size]]\n",
    "        max_cos = 0.0\n",
    "        for v in sampled:\n",
    "            cos_sim = torch.dot(g, v)/(torch.norm(g)*torch.norm(v)+1e-12)\n",
    "            max_cos = max(max_cos, abs(cos_sim.item()))\n",
    "           #max_cos = max(max_cos, cos_sim.item())\n",
    "        if max_cos > self.cosine_threshold:\n",
    "            return g  # do not project\n",
    "        if max_cos < self.discard_threshold:\n",
    "            return None\n",
    "        g_proj = g.clone()\n",
    "        for v in sampled:\n",
    "            proj = (torch.dot(g_proj, v)/torch.dot(v,v))*v\n",
    "            g_proj -= proj\n",
    "        # discard tiny projected gradients\n",
    "        if torch.norm(g_proj) < self.discard_threshold:\n",
    "            return None\n",
    "        return g_proj\n",
    "\n",
    "    # one training step\n",
    "    def observe(self, x, y, criterion=nn.CrossEntropyLoss()):\n",
    "        self.model.train()\n",
    "        x, y = x.to(self.device), y.to(self.device)\n",
    "        self.optimizer.zero_grad()\n",
    "        loss = criterion(self.model(x), y)\n",
    "        loss.backward()\n",
    "\n",
    "        g = self._flatten_grad()\n",
    "        g_proj = self._project_grad(g)\n",
    "        if g_proj is not None:\n",
    "            self._assign_grad(g_proj)\n",
    "            self.optimizer.step()\n",
    "        return loss.item()\n",
    "\n",
    "    # store task gradients\n",
    "    def end_task(self, dataloader, criterion=nn.CrossEntropyLoss()):\n",
    "        self.model.eval()\n",
    "        for x, y in dataloader:\n",
    "            x, y = x.to(self.device), y.to(self.device)\n",
    "            self.model.zero_grad()\n",
    "            loss = criterion(self.model(x), y)\n",
    "            loss.backward()\n",
    "            g = self._flatten_grad()\n",
    "            norm_g = g / (torch.norm(g)+1e-10)\n",
    "            if len(self.S) >= self.max_memory:\n",
    "                self.S.pop(0)\n",
    "            self.S.append(norm_g.detach().clone())\n",
    "\n",
    "\n",
    "# Prepare Split MNIST (5 tasks, 2 classes each)\n",
    "transform = transforms.Compose([transforms.ToTensor()])\n",
    "mnist_train = datasets.MNIST(root='./data', train=True, download=True, transform=transform)\n",
    "mnist_test = datasets.MNIST(root='./data', train=False, download=True, transform=transform)\n",
    "\n",
    "def split_dataset(dataset, classes):\n",
    "    idx = np.isin(dataset.targets.numpy(), classes)\n",
    "    data = dataset.data[idx].float()/255.0\n",
    "    targets = dataset.targets[idx]\n",
    "    mapping = {cls:i for i,cls in enumerate(classes)}\n",
    "    targets = torch.tensor([mapping[t.item()] for t in targets])\n",
    "    return TensorDataset(data.view(-1, 28*28), targets)\n",
    "\n",
    "task_classes = [[0,1],[2,3],[4,5],[6,7],[8,9]]\n",
    "train_tasks = [split_dataset(mnist_train, c) for c in task_classes]\n",
    "test_tasks = [split_dataset(mnist_test, c) for c in task_classes]\n",
    "\n",
    "# Training with Metrics\n",
    "num_tasks = len(train_tasks)\n",
    "num_epochs = 2\n",
    "batch_size = 32\n",
    "\n",
    "model = SimpleMLP(input_size=784, hidden_size=256, output_size=2)\n",
    "sfao = SFAO(model, lr=0.001, device=device)  \n",
    "\n",
    "accuracy_matrix = np.zeros((num_tasks, num_tasks))\n",
    "\n",
    "def evaluate_task(model, dataloader):\n",
    "    model.eval()\n",
    "    correct, total = 0, 0\n",
    "    with torch.no_grad():\n",
    "        for x, y in dataloader:\n",
    "            x, y = x.to(device), y.to(device)\n",
    "            out = model(x)\n",
    "            preds = out.argmax(dim=1)\n",
    "            correct += (preds == y).sum().item()\n",
    "            total += y.size(0)\n",
    "    return correct / total\n",
    "\n",
    "for task_id, train_dataset in enumerate(train_tasks):\n",
    "    print(f\"\\n=== Training Task {task_id+1} ===\")\n",
    "    train_loader = DataLoader(train_dataset, batch_size=batch_size, shuffle=True)\n",
    "\n",
    "    # Train\n",
    "    for epoch in range(num_epochs):\n",
    "        epoch_loss = 0.0\n",
    "        for x, y in tqdm(train_loader):\n",
    "            loss = sfao.observe(x, y)  # Changed from ogd.observe\n",
    "            epoch_loss += loss\n",
    "        print(f\"Epoch {epoch+1}, Loss: {epoch_loss/len(train_loader):.4f}\")\n",
    "\n",
    "    # Evaluate on all tasks seen so far\n",
    "    for eval_id in range(task_id+1):\n",
    "        test_loader = DataLoader(test_tasks[eval_id], batch_size=batch_size, shuffle=False)\n",
    "        acc = evaluate_task(sfao.model, test_loader)  # Changed from ogd.model\n",
    "        accuracy_matrix[task_id, eval_id] = acc\n",
    "        print(f\"Accuracy on Task {eval_id+1}: {acc:.3f}\")\n",
    "\n",
    "    # End of task: store gradient directions\n",
    "    sfao.end_task(train_loader)  # Changed from ogd.end_task\n",
    "\n",
    "\n",
    "# Compute Continual Learning Metrics\n",
    "# Average Accuracy (ACC)\n",
    "ACC = accuracy_matrix[-1].mean()  # Final row averaged across tasks\n",
    "\n",
    "# Average Forgetting (F)\n",
    "F = np.mean([\n",
    "    np.max(accuracy_matrix[:num_tasks-1, j]) - accuracy_matrix[-1, j]\n",
    "    for j in range(num_tasks-1)\n",
    "])\n",
    "\n",
    "# Backward Transfer (BWT)\n",
    "BWT = np.mean([\n",
    "    accuracy_matrix[-1, j] - accuracy_matrix[j, j]\n",
    "    for j in range(num_tasks-1)\n",
    "])\n",
    "\n",
    "# Forward Transfer (FWT)\n",
    "# Measures how much previous tasks helped the next task before it was trained\n",
    "FWT = np.mean([\n",
    "    accuracy_matrix[i, i+1]\n",
    "    for i in range(num_tasks-1)\n",
    "])\n",
    "\n",
    "# Memory Usage (in MB)\n",
    "num_params = sum(p.numel() for p in sfao.model.parameters())\n",
    "mem_usage = len(sfao.S) * num_params * 4 / (1024**2)  # 4 bytes per float32\n",
    "\n",
    "# 6. Computation Cost (Number of gradient projections per batch)\n",
    "comp_cost = len(sfao.S)\n",
    "\n",
    "# Plasticity-Stability Measure (PSM) - Normalized 0 to 1\n",
    "\n",
    "# Define components\n",
    "stability = 1 - F                 # High if forgetting is low\n",
    "plasticity = max(FWT, 0)          # High if positive forward transfer\n",
    "\n",
    "alpha = 0.5                       # Balance between stability and plasticity\n",
    "PSM = alpha * stability + (1 - alpha) * plasticity\n",
    "\n",
    "# Print Metrics\n",
    "print(\"=== Continual Learning Metrics ===\")\n",
    "print(f\"Average Accuracy (ACC):       {ACC:.4f}\")\n",
    "print(f\"Forgetting (F):              {F:.4f}\")\n",
    "print(f\"Backward Transfer (BWT):     {BWT:.4f}\")\n",
    "print(f\"Forward Transfer (FWT):      {FWT:.4f}\")\n",
    "print(f\"Memory Usage:                {mem_usage:.2f} MB\")\n",
    "print(f\"Computation Cost:            {comp_cost} projections/batch\")\n",
    "print(f\"Plasticity-Stability Measure (PSM): {PSM:.4f} (0-1 normalized)\")\n",
    "\n",
    "print(\"=== Metrics (Split MNIST) ===\")\n",
    "print(f\"ACC={ACC:.4f}, F={F:.4f}, BWT={BWT:.4f}, FWT={FWT:.4f}, Mem={mem_usage:.2f}MB, PSM={PSM:.4f}\")\n",
    "\n",
    "plt.figure(figsize=(6,5))\n",
    "plt.imshow(accuracy_matrix, cmap='viridis', interpolation='nearest')\n",
    "plt.colorbar(label='Accuracy')\n",
    "plt.xlabel('Evaluation Task')\n",
    "plt.ylabel('Training Task')\n",
    "plt.title('SFAO Accuracy Matrix (Split MNIST)')\n",
    "plt.show()"
   ]
  },
  {
   "cell_type": "code",
   "execution_count": 8,
   "id": "24852802-aec3-49b2-a842-6476344a5c49",
   "metadata": {},
   "outputs": [
    {
     "name": "stdout",
     "output_type": "stream",
     "text": [
      "\n",
      "=== Training Task 1 ===\n"
     ]
    },
    {
     "name": "stderr",
     "output_type": "stream",
     "text": [
      "100%|██████████| 1875/1875 [00:03<00:00, 514.40it/s]\n"
     ]
    },
    {
     "name": "stdout",
     "output_type": "stream",
     "text": [
      "Epoch 1, Loss: 2.1141\n"
     ]
    },
    {
     "name": "stderr",
     "output_type": "stream",
     "text": [
      "100%|██████████| 1875/1875 [00:03<00:00, 511.66it/s]\n"
     ]
    },
    {
     "name": "stdout",
     "output_type": "stream",
     "text": [
      "Epoch 2, Loss: 1.5748\n",
      "Accuracy on Task 1: 0.782\n",
      "\n",
      "=== Training Task 2 ===\n"
     ]
    },
    {
     "name": "stderr",
     "output_type": "stream",
     "text": [
      "100%|██████████| 1875/1875 [00:43<00:00, 43.59it/s]\n"
     ]
    },
    {
     "name": "stdout",
     "output_type": "stream",
     "text": [
      "Epoch 1, Loss: 1.8241\n"
     ]
    },
    {
     "name": "stderr",
     "output_type": "stream",
     "text": [
      "100%|██████████| 1875/1875 [01:57<00:00, 16.02it/s]\n"
     ]
    },
    {
     "name": "stdout",
     "output_type": "stream",
     "text": [
      "Epoch 2, Loss: 1.1764\n",
      "Accuracy on Task 1: 0.774\n",
      "Accuracy on Task 2: 0.819\n",
      "\n",
      "=== Training Task 3 ===\n"
     ]
    },
    {
     "name": "stderr",
     "output_type": "stream",
     "text": [
      "100%|██████████| 1875/1875 [02:53<00:00, 10.82it/s]\n"
     ]
    },
    {
     "name": "stdout",
     "output_type": "stream",
     "text": [
      "Epoch 1, Loss: 1.6471\n"
     ]
    },
    {
     "name": "stderr",
     "output_type": "stream",
     "text": [
      "100%|██████████| 1875/1875 [02:51<00:00, 10.92it/s]\n"
     ]
    },
    {
     "name": "stdout",
     "output_type": "stream",
     "text": [
      "Epoch 2, Loss: 1.0038\n",
      "Accuracy on Task 1: 0.719\n",
      "Accuracy on Task 2: 0.798\n",
      "Accuracy on Task 3: 0.827\n",
      "=== Metrics (Permuted MNIST) ===\n",
      "ACC=0.7815, F=0.0417, BWT=-0.0417, FWT=0.0000, Mem=155.28MB, PSM=0.4791\n"
     ]
    },
    {
     "data": {
      "image/png": "[encoded data removed]",
      "text/plain": [
       "<Figure size 600x500 with 2 Axes>"
      ]
     },
     "metadata": {},
     "output_type": "display_data"
    }
   ],
   "source": [
    "# =======================\n",
    "# SFAO on Permuted  MNIST\n",
    "# =======================\n",
    "\n",
    "import torch\n",
    "import torch.nn as nn\n",
    "import torch.optim as optim\n",
    "from torch.utils.data import DataLoader, TensorDataset\n",
    "import numpy as np\n",
    "from torchvision import datasets, transforms\n",
    "import matplotlib.pyplot as plt\n",
    "from tqdm import tqdm\n",
    "import random\n",
    "\n",
    "\n",
    "device = 'cuda' if torch.cuda.is_available() else 'cpu'\n",
    "\n",
    "# Simple MLP model\n",
    "class SimpleMLP(nn.Module):\n",
    "    def __init__(self, input_size=784, hidden_size=256, output_size=10):\n",
    "        super(SimpleMLP, self).__init__()\n",
    "        self.net = nn.Sequential(\n",
    "            nn.Linear(input_size, hidden_size),\n",
    "            nn.ReLU(),\n",
    "            nn.Linear(hidden_size, output_size)\n",
    "        )\n",
    "    def forward(self, x):\n",
    "        return self.net(x.view(x.size(0), -1))\n",
    "\n",
    "# SFAO Implementation (Updated Methods Only)\n",
    "class SFAO:\n",
    "    def __init__(self, model, lr=0.001, device='cuda',\n",
    "                 max_memory=200, cosine_threshold=0.80, discard_threshold=-1e-4, sample_size=750):\n",
    "        self.model = model.to(device)\n",
    "        self.lr = lr\n",
    "        self.device = device\n",
    "        self.optimizer = optim.SGD(self.model.parameters(), lr=lr)\n",
    "        self.S = []  # stored gradient vectors\n",
    "        self.max_memory = max_memory\n",
    "        self.cosine_threshold = cosine_threshold\n",
    "        self.discard_threshold = discard_threshold\n",
    "        self.sample_size = sample_size\n",
    "\n",
    "    # flatten gradient\n",
    "    def _flatten_grad(self):\n",
    "        return torch.cat([p.grad.view(-1) for p in self.model.parameters() if p.grad is not None])\n",
    "\n",
    "    # assign gradient\n",
    "    def _assign_grad(self, flat_grad):\n",
    "        idx = 0\n",
    "        for p in self.model.parameters():\n",
    "            if p.grad is not None:\n",
    "                numel = p.numel()\n",
    "                p.grad.copy_(flat_grad[idx:idx+numel].view_as(p))\n",
    "                idx += numel\n",
    "\n",
    "    # project new gradient against memory\n",
    "    def _project_grad(self, g):\n",
    "        if len(self.S) == 0: return g\n",
    "        # sample some stored gradients\n",
    "        sampled = self.S if len(self.S)<=self.sample_size else [self.S[i] for i in torch.randperm(len(self.S))[:self.sample_size]]\n",
    "        max_cos = 0.0\n",
    "        for v in sampled:\n",
    "            cos_sim = torch.dot(g, v)/(torch.norm(g)*torch.norm(v)+1e-12)\n",
    "            max_cos = max(max_cos, abs(cos_sim.item()))\n",
    "           #max_cos = max(max_cos, cos_sim.item())\n",
    "        if max_cos > self.cosine_threshold:\n",
    "            return g  # do not project\n",
    "        if max_cos < self.discard_threshold:\n",
    "            return None\n",
    "        g_proj = g.clone()\n",
    "        for v in sampled:\n",
    "            proj = (torch.dot(g_proj, v)/torch.dot(v,v))*v\n",
    "            g_proj -= proj\n",
    "        # discard tiny projected gradients\n",
    "        if torch.norm(g_proj) < self.discard_threshold:\n",
    "            return None\n",
    "        return g_proj\n",
    "\n",
    "    # one training step\n",
    "    def observe(self, x, y, criterion=nn.CrossEntropyLoss()):\n",
    "        self.model.train()\n",
    "        x, y = x.to(self.device), y.to(self.device)\n",
    "        self.optimizer.zero_grad()\n",
    "        loss = criterion(self.model(x), y)\n",
    "        loss.backward()\n",
    "\n",
    "        g = self._flatten_grad()\n",
    "        g_proj = self._project_grad(g)\n",
    "        if g_proj is not None:\n",
    "            self._assign_grad(g_proj)\n",
    "            self.optimizer.step()\n",
    "        return loss.item()\n",
    "\n",
    "    # store task gradients\n",
    "    def end_task(self, dataloader, criterion=nn.CrossEntropyLoss()):\n",
    "        self.model.eval()\n",
    "        for x, y in dataloader:\n",
    "            x, y = x.to(self.device), y.to(self.device)\n",
    "            self.model.zero_grad()\n",
    "            loss = criterion(self.model(x), y)\n",
    "            loss.backward()\n",
    "            g = self._flatten_grad()\n",
    "            norm_g = g / (torch.norm(g)+1e-10)\n",
    "            if len(self.S) >= self.max_memory:\n",
    "                self.S.pop(0)\n",
    "            self.S.append(norm_g.detach().clone())\n",
    "\n",
    "# === Prepare 3 permuted MNIST tasks ===\n",
    "num_tasks = 3\n",
    "transform = transforms.Compose([transforms.ToTensor()])\n",
    "mnist_train = datasets.MNIST(root='./data', train=True, download=True, transform=transform)\n",
    "mnist_test = datasets.MNIST(root='./data', train=False, download=True, transform=transform)\n",
    "\n",
    "train_x = mnist_train.data.view(-1, 28*28).float()/255.0\n",
    "test_x = mnist_test.data.view(-1, 28*28).float()/255.0\n",
    "train_y = mnist_train.targets\n",
    "test_y = mnist_test.targets\n",
    "\n",
    "train_tasks, test_tasks = [], []\n",
    "for _ in range(num_tasks):\n",
    "    perm = torch.randperm(28*28)\n",
    "    train_tasks.append(TensorDataset(train_x[:, perm], train_y))\n",
    "    test_tasks.append(TensorDataset(test_x[:, perm], test_y))\n",
    "\n",
    "\n",
    "# Training loop\n",
    "num_epochs = 2\n",
    "batch_size = 32\n",
    "model = SimpleMLP()\n",
    "sfao = SFAO(model, lr=0.001, device=device)\n",
    "accuracy_matrix = np.zeros((num_tasks, num_tasks))\n",
    "\n",
    "def evaluate_task(model, dataloader):\n",
    "    model.eval()\n",
    "    correct, total = 0, 0\n",
    "    with torch.no_grad():\n",
    "        for x, y in dataloader:\n",
    "            x, y = x.to(device), y.to(device)\n",
    "            preds = model(x).argmax(dim=1)\n",
    "            correct += (preds == y).sum().item()\n",
    "            total += y.size(0)\n",
    "    return correct / total\n",
    "\n",
    "for task_id, train_dataset in enumerate(train_tasks):\n",
    "    print(f\"\\n=== Training Task {task_id+1} ===\")\n",
    "    train_loader = DataLoader(train_dataset, batch_size=batch_size, shuffle=True)\n",
    "\n",
    "    for epoch in range(num_epochs):\n",
    "        epoch_loss = 0.0\n",
    "        for x, y in tqdm(train_loader):\n",
    "            epoch_loss += sfao.observe(x, y)\n",
    "        print(f\"Epoch {epoch+1}, Loss: {epoch_loss/len(train_loader):.4f}\")\n",
    "\n",
    "    # Evaluate on all seen tasks\n",
    "    for eval_id in range(task_id+1):\n",
    "        test_loader = DataLoader(test_tasks[eval_id], batch_size=batch_size, shuffle=False)\n",
    "        acc = evaluate_task(sfao.model, test_loader)\n",
    "        accuracy_matrix[task_id, eval_id] = acc\n",
    "        print(f\"Accuracy on Task {eval_id+1}: {acc:.3f}\")\n",
    "\n",
    "    sfao.end_task(train_loader)\n",
    "\n",
    "# === Metrics ===\n",
    "ACC = accuracy_matrix[-1].mean()\n",
    "F = np.mean([np.max(accuracy_matrix[:num_tasks-1, j]) - accuracy_matrix[-1, j] for j in range(num_tasks-1)]) if num_tasks>1 else 0.0\n",
    "BWT = np.mean([accuracy_matrix[-1, j] - accuracy_matrix[j, j] for j in range(num_tasks-1)]) if num_tasks>1 else 0.0\n",
    "FWT = np.mean([accuracy_matrix[i, i+1] for i in range(num_tasks-1)]) if num_tasks>1 else 0.0\n",
    "\n",
    "num_params = sum(p.numel() for p in sfao.model.parameters())\n",
    "mem_usage = len(sfao.S) * num_params * 4 / (1024**2)\n",
    "comp_cost = len(sfao.S)\n",
    "PSM = 0.5*(1-F) + 0.5*max(FWT,0)\n",
    "\n",
    "print(\"=== Metrics (Permuted MNIST) ===\")\n",
    "print(f\"ACC={ACC:.4f}, F={F:.4f}, BWT={BWT:.4f}, FWT={FWT:.4f}, Mem={mem_usage:.2f}MB, PSM={PSM:.4f}\")\n",
    "\n",
    "plt.figure(figsize=(6,5))\n",
    "plt.imshow(accuracy_matrix, cmap='viridis', interpolation='nearest')\n",
    "plt.colorbar(label='Accuracy')\n",
    "plt.xlabel('Evaluation Task')\n",
    "plt.ylabel('Training Task')\n",
    "plt.title('SFAO Accuracy Matrix (Permuted MNIST)')\n",
    "plt.show()"
   ]
  },
  {
   "cell_type": "code",
   "execution_count": 11,
   "id": "0aa4997a-e66b-4c73-9fda-04fb7ce51fef",
   "metadata": {},
   "outputs": [
    {
     "name": "stdout",
     "output_type": "stream",
     "text": [
      "Files already downloaded and verified\n",
      "Files already downloaded and verified\n",
      "Task 0: classes 0-9, train=5000, test=1000\n",
      "Task 1: classes 10-19, train=5000, test=1000\n",
      "Task 2: classes 20-29, train=5000, test=1000\n",
      "Task 3: classes 30-39, train=5000, test=1000\n",
      "Task 4: classes 40-49, train=5000, test=1000\n",
      "Task 5: classes 50-59, train=5000, test=1000\n",
      "Task 6: classes 60-69, train=5000, test=1000\n",
      "Task 7: classes 70-79, train=5000, test=1000\n",
      "Task 8: classes 80-89, train=5000, test=1000\n",
      "Task 9: classes 90-99, train=5000, test=1000\n",
      "Prepared 10 tasks (mode=split)\n",
      "\n",
      "=== Training Task 1 ===\n"
     ]
    },
    {
     "name": "stderr",
     "output_type": "stream",
     "text": [
      "100%|██████████| 209/209 [00:00<00:00, 273.63it/s]\n"
     ]
    },
    {
     "name": "stdout",
     "output_type": "stream",
     "text": [
      "Epoch 1, Loss=2.2914\n"
     ]
    },
    {
     "name": "stderr",
     "output_type": "stream",
     "text": [
      "100%|██████████| 209/209 [00:00<00:00, 232.88it/s]\n"
     ]
    },
    {
     "name": "stdout",
     "output_type": "stream",
     "text": [
      "Epoch 2, Loss=2.2649\n",
      "Accuracy on Task 1: 0.239\n",
      "\n",
      "=== Training Task 2 ===\n"
     ]
    },
    {
     "name": "stderr",
     "output_type": "stream",
     "text": [
      "100%|██████████| 209/209 [00:06<00:00, 34.08it/s]\n"
     ]
    },
    {
     "name": "stdout",
     "output_type": "stream",
     "text": [
      "Epoch 1, Loss=2.2943\n"
     ]
    },
    {
     "name": "stderr",
     "output_type": "stream",
     "text": [
      "100%|██████████| 209/209 [00:06<00:00, 34.33it/s]\n"
     ]
    },
    {
     "name": "stdout",
     "output_type": "stream",
     "text": [
      "Epoch 2, Loss=2.2800\n",
      "Accuracy on Task 1: 0.232\n",
      "Accuracy on Task 2: 0.169\n",
      "\n",
      "=== Training Task 3 ===\n"
     ]
    },
    {
     "name": "stderr",
     "output_type": "stream",
     "text": [
      "100%|██████████| 209/209 [00:06<00:00, 34.15it/s]\n"
     ]
    },
    {
     "name": "stdout",
     "output_type": "stream",
     "text": [
      "Epoch 1, Loss=2.2827\n"
     ]
    },
    {
     "name": "stderr",
     "output_type": "stream",
     "text": [
      "100%|██████████| 209/209 [00:06<00:00, 32.59it/s]\n"
     ]
    },
    {
     "name": "stdout",
     "output_type": "stream",
     "text": [
      "Epoch 2, Loss=2.2482\n",
      "Accuracy on Task 1: 0.185\n",
      "Accuracy on Task 2: 0.166\n",
      "Accuracy on Task 3: 0.176\n",
      "\n",
      "=== Training Task 4 ===\n"
     ]
    },
    {
     "name": "stderr",
     "output_type": "stream",
     "text": [
      "100%|██████████| 209/209 [00:06<00:00, 34.15it/s]\n"
     ]
    },
    {
     "name": "stdout",
     "output_type": "stream",
     "text": [
      "Epoch 1, Loss=2.2972\n"
     ]
    },
    {
     "name": "stderr",
     "output_type": "stream",
     "text": [
      "100%|██████████| 209/209 [00:06<00:00, 34.60it/s]\n"
     ]
    },
    {
     "name": "stdout",
     "output_type": "stream",
     "text": [
      "Epoch 2, Loss=2.2768\n",
      "Accuracy on Task 1: 0.151\n",
      "Accuracy on Task 2: 0.203\n",
      "Accuracy on Task 3: 0.163\n",
      "Accuracy on Task 4: 0.164\n",
      "\n",
      "=== Training Task 5 ===\n"
     ]
    },
    {
     "name": "stderr",
     "output_type": "stream",
     "text": [
      "100%|██████████| 209/209 [00:06<00:00, 34.16it/s]\n"
     ]
    },
    {
     "name": "stdout",
     "output_type": "stream",
     "text": [
      "Epoch 1, Loss=2.2995\n"
     ]
    },
    {
     "name": "stderr",
     "output_type": "stream",
     "text": [
      "100%|██████████| 209/209 [00:06<00:00, 34.27it/s]\n"
     ]
    },
    {
     "name": "stdout",
     "output_type": "stream",
     "text": [
      "Epoch 2, Loss=2.2633\n",
      "Accuracy on Task 1: 0.147\n",
      "Accuracy on Task 2: 0.175\n",
      "Accuracy on Task 3: 0.148\n",
      "Accuracy on Task 4: 0.131\n",
      "Accuracy on Task 5: 0.197\n",
      "\n",
      "=== Training Task 6 ===\n"
     ]
    },
    {
     "name": "stderr",
     "output_type": "stream",
     "text": [
      "100%|██████████| 209/209 [00:06<00:00, 33.97it/s]\n"
     ]
    },
    {
     "name": "stdout",
     "output_type": "stream",
     "text": [
      "Epoch 1, Loss=2.3052\n"
     ]
    },
    {
     "name": "stderr",
     "output_type": "stream",
     "text": [
      "100%|██████████| 209/209 [00:06<00:00, 34.34it/s]\n"
     ]
    },
    {
     "name": "stdout",
     "output_type": "stream",
     "text": [
      "Epoch 2, Loss=2.2560\n",
      "Accuracy on Task 1: 0.089\n",
      "Accuracy on Task 2: 0.149\n",
      "Accuracy on Task 3: 0.124\n",
      "Accuracy on Task 4: 0.140\n",
      "Accuracy on Task 5: 0.151\n",
      "Accuracy on Task 6: 0.241\n",
      "\n",
      "=== Training Task 7 ===\n"
     ]
    },
    {
     "name": "stderr",
     "output_type": "stream",
     "text": [
      "100%|██████████| 209/209 [00:06<00:00, 33.76it/s]\n"
     ]
    },
    {
     "name": "stdout",
     "output_type": "stream",
     "text": [
      "Epoch 1, Loss=2.2934\n"
     ]
    },
    {
     "name": "stderr",
     "output_type": "stream",
     "text": [
      "100%|██████████| 209/209 [00:06<00:00, 34.18it/s]\n"
     ]
    },
    {
     "name": "stdout",
     "output_type": "stream",
     "text": [
      "Epoch 2, Loss=2.2365\n",
      "Accuracy on Task 1: 0.113\n",
      "Accuracy on Task 2: 0.100\n",
      "Accuracy on Task 3: 0.113\n",
      "Accuracy on Task 4: 0.118\n",
      "Accuracy on Task 5: 0.155\n",
      "Accuracy on Task 6: 0.195\n",
      "Accuracy on Task 7: 0.195\n",
      "\n",
      "=== Training Task 8 ===\n"
     ]
    },
    {
     "name": "stderr",
     "output_type": "stream",
     "text": [
      "100%|██████████| 209/209 [00:06<00:00, 33.84it/s]\n"
     ]
    },
    {
     "name": "stdout",
     "output_type": "stream",
     "text": [
      "Epoch 1, Loss=2.3007\n"
     ]
    },
    {
     "name": "stderr",
     "output_type": "stream",
     "text": [
      "100%|██████████| 209/209 [00:06<00:00, 34.69it/s]\n"
     ]
    },
    {
     "name": "stdout",
     "output_type": "stream",
     "text": [
      "Epoch 2, Loss=2.2591\n",
      "Accuracy on Task 1: 0.119\n",
      "Accuracy on Task 2: 0.134\n",
      "Accuracy on Task 3: 0.115\n",
      "Accuracy on Task 4: 0.108\n",
      "Accuracy on Task 5: 0.134\n",
      "Accuracy on Task 6: 0.179\n",
      "Accuracy on Task 7: 0.188\n",
      "Accuracy on Task 8: 0.189\n",
      "\n",
      "=== Training Task 9 ===\n"
     ]
    },
    {
     "name": "stderr",
     "output_type": "stream",
     "text": [
      "100%|██████████| 209/209 [00:06<00:00, 34.29it/s]\n"
     ]
    },
    {
     "name": "stdout",
     "output_type": "stream",
     "text": [
      "Epoch 1, Loss=2.2897\n"
     ]
    },
    {
     "name": "stderr",
     "output_type": "stream",
     "text": [
      "100%|██████████| 209/209 [00:06<00:00, 34.83it/s]\n"
     ]
    },
    {
     "name": "stdout",
     "output_type": "stream",
     "text": [
      "Epoch 2, Loss=2.2303\n",
      "Accuracy on Task 1: 0.083\n",
      "Accuracy on Task 2: 0.117\n",
      "Accuracy on Task 3: 0.085\n",
      "Accuracy on Task 4: 0.094\n",
      "Accuracy on Task 5: 0.141\n",
      "Accuracy on Task 6: 0.153\n",
      "Accuracy on Task 7: 0.204\n",
      "Accuracy on Task 8: 0.180\n",
      "Accuracy on Task 9: 0.248\n",
      "\n",
      "=== Training Task 10 ===\n"
     ]
    },
    {
     "name": "stderr",
     "output_type": "stream",
     "text": [
      "100%|██████████| 209/209 [00:06<00:00, 34.44it/s]\n"
     ]
    },
    {
     "name": "stdout",
     "output_type": "stream",
     "text": [
      "Epoch 1, Loss=2.2863\n"
     ]
    },
    {
     "name": "stderr",
     "output_type": "stream",
     "text": [
      "100%|██████████| 209/209 [00:06<00:00, 34.29it/s]\n"
     ]
    },
    {
     "name": "stdout",
     "output_type": "stream",
     "text": [
      "Epoch 2, Loss=2.2345\n",
      "Accuracy on Task 1: 0.089\n",
      "Accuracy on Task 2: 0.083\n",
      "Accuracy on Task 3: 0.099\n",
      "Accuracy on Task 4: 0.112\n",
      "Accuracy on Task 5: 0.125\n",
      "Accuracy on Task 6: 0.112\n",
      "Accuracy on Task 7: 0.267\n",
      "Accuracy on Task 8: 0.168\n",
      "Accuracy on Task 9: 0.214\n",
      "Accuracy on Task 10: 0.236\n",
      "=== Metrics (Split CIFAR-100 CNN SFAO) ===\n",
      "ACC=0.1505, F=0.0658, BWT=-0.0610, FWT=0.0000, Mem=816.95MB, PSM=0.4671\n"
     ]
    },
    {
     "data": {
      "image/png": "[encoded data removed]",
      "text/plain": [
       "<Figure size 600x500 with 2 Axes>"
      ]
     },
     "metadata": {},
     "output_type": "display_data"
    }
   ],
   "source": [
    "# === Cell: prepare CIFAR-100 tasks for SFAO (split or permuted) with CNN ===\n",
    "import torch\n",
    "import torch.nn as nn\n",
    "import torch.nn.functional as F\n",
    "import torch.optim as optim\n",
    "from torch.utils.data import DataLoader, TensorDataset\n",
    "import numpy as np\n",
    "from torchvision import datasets, transforms\n",
    "import matplotlib.pyplot as plt\n",
    "from tqdm import tqdm\n",
    "import random\n",
    "\n",
    "device = torch.device(\"cuda\" if torch.cuda.is_available() else \"cpu\")\n",
    "\n",
    "# === Hyperparameters ===\n",
    "root = './data'\n",
    "num_tasks = 10\n",
    "num_classes = 100\n",
    "classes_per_task = num_classes // num_tasks\n",
    "batch_size = 24\n",
    "download = True\n",
    "mode = 'split'   # 'split' or 'permuted'\n",
    "num_epochs = 2\n",
    "learning_rate = 0.001\n",
    "\n",
    "# CIFAR-100 mean/std for normalization\n",
    "mean = torch.tensor([0.5071, 0.4867, 0.4408]).view(3, 1, 1)\n",
    "std = torch.tensor([0.2675, 0.2565, 0.2761]).view(3, 1, 1)\n",
    "\n",
    "# === Transforms ===\n",
    "train_transform = transforms.ToTensor()\n",
    "test_transform = transforms.ToTensor()\n",
    "\n",
    "# === Load datasets ===\n",
    "train_ds = datasets.CIFAR100(root=root, train=True, download=download, transform=train_transform)\n",
    "test_ds = datasets.CIFAR100(root=root, train=False, download=download, transform=test_transform)\n",
    "\n",
    "# === Helper: extract subset tensors for a given set of class IDs ===\n",
    "def extract_subset_tensors(dataset, class_list):\n",
    "    targets = np.array(dataset.targets)\n",
    "    mask = np.isin(targets, class_list)\n",
    "    indices = np.nonzero(mask)[0].tolist()\n",
    "    imgs, labs = [], []\n",
    "    for i in indices:\n",
    "        img, lbl = dataset[i]\n",
    "        imgs.append(img)\n",
    "        labs.append(lbl)\n",
    "    return torch.stack(imgs), torch.tensor(labs, dtype=torch.long)\n",
    "\n",
    "# === Prepare permutations if needed ===\n",
    "permutations = []\n",
    "if mode == 'permuted':\n",
    "    rng = np.random.default_rng(42)\n",
    "    for t in range(num_tasks):\n",
    "        perm = rng.permutation(3 * 32 * 32).astype(np.int64)\n",
    "        permutations.append(torch.tensor(perm, dtype=torch.long))\n",
    "\n",
    "# === Build tasks ===\n",
    "train_tasks, test_tasks = [], []\n",
    "for t in range(num_tasks):\n",
    "    cls_start = t * classes_per_task\n",
    "    cls_end = cls_start + classes_per_task\n",
    "    task_classes = list(range(cls_start, cls_end))\n",
    "\n",
    "    x_train, y_train = extract_subset_tensors(train_ds, task_classes)\n",
    "    x_test, y_test = extract_subset_tensors(test_ds, task_classes)\n",
    "\n",
    "    # Apply permutation if required\n",
    "    if mode == 'permuted':\n",
    "        perm = permutations[t]\n",
    "        N_train = x_train.shape[0]\n",
    "        x_train = x_train.view(N_train, -1)[:, perm].view(N_train, 3, 32, 32)\n",
    "        N_test = x_test.shape[0]\n",
    "        x_test = x_test.view(N_test, -1)[:, perm].view(N_test, 3, 32, 32)\n",
    "\n",
    "    # Normalize\n",
    "    x_train = (x_train - mean) / std\n",
    "    x_test = (x_test - mean) / std\n",
    "\n",
    "    # Map labels to 0..(classes_per_task-1)\n",
    "    class_map = {orig: i for i, orig in enumerate(task_classes)}\n",
    "    y_train_mapped = torch.tensor([class_map[int(v)] for v in y_train])\n",
    "    y_test_mapped = torch.tensor([class_map[int(v)] for v in y_test])\n",
    "\n",
    "    # Store datasets (no flattening — CNN expects 3x32x32)\n",
    "    train_tasks.append(TensorDataset(x_train, y_train_mapped))\n",
    "    test_tasks.append(TensorDataset(x_test, y_test_mapped))\n",
    "\n",
    "    print(f\"Task {t}: classes {task_classes[0]}-{task_classes[-1]}, train={len(x_train)}, test={len(x_test)}\")\n",
    "\n",
    "print(f\"Prepared {len(train_tasks)} tasks (mode={mode})\")\n",
    "\n",
    "# === CNN model ===\n",
    "class SimpleCNN(nn.Module):\n",
    "    def __init__(self, num_classes=10):\n",
    "        super().__init__()\n",
    "        self.conv1 = nn.Conv2d(3, 32, kernel_size=3, padding=1)\n",
    "        self.conv2 = nn.Conv2d(32, 64, kernel_size=3, padding=1)\n",
    "        self.pool = nn.MaxPool2d(2, 2)\n",
    "        self.fc1 = nn.Linear(64 * 8 * 8, 256)\n",
    "        self.fc2 = nn.Linear(256, num_classes)\n",
    "\n",
    "    def forward(self, x):\n",
    "        x = self.pool(F.relu(self.conv1(x)))  # 32x16x16\n",
    "        x = self.pool(F.relu(self.conv2(x)))  # 64x8x8\n",
    "        x = x.view(x.size(0), -1)             # flatten\n",
    "        x = F.relu(self.fc1(x))\n",
    "        return self.fc2(x)\n",
    "        \n",
    "# === SFAO class ===\n",
    "# SFAO Implementation (Updated Methods Only)\n",
    "class SFAO:\n",
    "    def __init__(self, model, lr=0.001, device='cuda',\n",
    "                 max_memory=200, cosine_threshold=0.80, discard_threshold=-1e-4, sample_size=750):\n",
    "        self.model = model.to(device)\n",
    "        self.lr = lr\n",
    "        self.device = device\n",
    "        self.optimizer = optim.SGD(self.model.parameters(), lr=lr)\n",
    "        self.S = []  # stored gradient vectors\n",
    "        self.max_memory = max_memory\n",
    "        self.cosine_threshold = cosine_threshold\n",
    "        self.discard_threshold = discard_threshold\n",
    "        self.sample_size = sample_size\n",
    "\n",
    "    # flatten gradient\n",
    "    def _flatten_grad(self):\n",
    "        return torch.cat([p.grad.view(-1) for p in self.model.parameters() if p.grad is not None])\n",
    "\n",
    "    # assign gradient\n",
    "    def _assign_grad(self, flat_grad):\n",
    "        idx = 0\n",
    "        for p in self.model.parameters():\n",
    "            if p.grad is not None:\n",
    "                numel = p.numel()\n",
    "                p.grad.copy_(flat_grad[idx:idx+numel].view_as(p))\n",
    "                idx += numel\n",
    "\n",
    "    # project new gradient against memory\n",
    "    def _project_grad(self, g):\n",
    "        if len(self.S) == 0: return g\n",
    "        # sample some stored gradients\n",
    "        sampled = self.S if len(self.S)<=self.sample_size else [self.S[i] for i in torch.randperm(len(self.S))[:self.sample_size]]\n",
    "        max_cos = 0.0\n",
    "        for v in sampled:\n",
    "            cos_sim = torch.dot(g, v)/(torch.norm(g)*torch.norm(v)+1e-12)\n",
    "            max_cos = max(max_cos, abs(cos_sim.item()))\n",
    "           #max_cos = max(max_cos, cos_sim.item())\n",
    "        if max_cos > self.cosine_threshold:\n",
    "            return g  # do not project\n",
    "        if max_cos < self.discard_threshold:\n",
    "            return None\n",
    "        g_proj = g.clone()\n",
    "        for v in sampled:\n",
    "            proj = (torch.dot(g_proj, v)/torch.dot(v,v))*v\n",
    "            g_proj -= proj\n",
    "        # discard tiny projected gradients\n",
    "        if torch.norm(g_proj) < self.discard_threshold:\n",
    "            return None\n",
    "        return g_proj\n",
    "\n",
    "    # one training step\n",
    "    def observe(self, x, y, criterion=nn.CrossEntropyLoss()):\n",
    "        self.model.train()\n",
    "        x, y = x.to(self.device), y.to(self.device)\n",
    "        self.optimizer.zero_grad()\n",
    "        loss = criterion(self.model(x), y)\n",
    "        loss.backward()\n",
    "\n",
    "        g = self._flatten_grad()\n",
    "        g_proj = self._project_grad(g)\n",
    "        if g_proj is not None:\n",
    "            self._assign_grad(g_proj)\n",
    "            self.optimizer.step()\n",
    "        return loss.item()\n",
    "\n",
    "    # store task gradients\n",
    "    def end_task(self, dataloader, criterion=nn.CrossEntropyLoss()):\n",
    "        self.model.eval()\n",
    "        for x, y in dataloader:\n",
    "            x, y = x.to(self.device), y.to(self.device)\n",
    "            self.model.zero_grad()\n",
    "            loss = criterion(self.model(x), y)\n",
    "            loss.backward()\n",
    "            g = self._flatten_grad()\n",
    "            norm_g = g / (torch.norm(g)+1e-10)\n",
    "            if len(self.S) >= self.max_memory:\n",
    "                self.S.pop(0)\n",
    "            self.S.append(norm_g.detach().clone())\n",
    "\n",
    "# === Training loop ===\n",
    "sfao = SFAO(SimpleCNN(num_classes=classes_per_task), lr=learning_rate, device=device)\n",
    "accuracy_matrix = np.zeros((num_tasks, num_tasks))\n",
    "\n",
    "def evaluate_task(model, dataloader):\n",
    "    model.eval()\n",
    "    correct, total = 0, 0\n",
    "    with torch.no_grad():\n",
    "        for x, y in dataloader:\n",
    "            x, y = x.to(device), y.to(device)\n",
    "            preds = model(x).argmax(dim=1)\n",
    "            correct += (preds == y).sum().item()\n",
    "            total += y.size(0)\n",
    "    return correct / total\n",
    "\n",
    "for task_id, train_dataset in enumerate(train_tasks):\n",
    "    print(f\"\\n=== Training Task {task_id+1} ===\")\n",
    "    train_loader = DataLoader(train_dataset, batch_size=batch_size, shuffle=True)\n",
    "\n",
    "    for epoch in range(num_epochs):\n",
    "        epoch_loss = 0.0\n",
    "        for x, y in tqdm(train_loader):\n",
    "            epoch_loss += sfao.observe(x, y)\n",
    "        print(f\"Epoch {epoch+1}, Loss={epoch_loss/len(train_loader):.4f}\")\n",
    "\n",
    "    # Evaluate on all seen tasks\n",
    "    for eval_id in range(task_id+1):\n",
    "        test_loader = DataLoader(test_tasks[eval_id], batch_size=batch_size, shuffle=False)\n",
    "        acc = evaluate_task(sfao.model, test_loader)\n",
    "        accuracy_matrix[task_id, eval_id] = acc\n",
    "        print(f\"Accuracy on Task {eval_id+1}: {acc:.3f}\")\n",
    "\n",
    "    sfao.end_task(train_loader)\n",
    "\n",
    "# === Metrics ===\n",
    "ACC = accuracy_matrix[-1].mean()\n",
    "F = np.mean([np.max(accuracy_matrix[:num_tasks-1, j]) - accuracy_matrix[-1, j] for j in range(num_tasks-1)]) if num_tasks>1 else 0.0\n",
    "BWT = np.mean([accuracy_matrix[-1, j] - accuracy_matrix[j, j] for j in range(num_tasks-1)]) if num_tasks>1 else 0.0\n",
    "FWT = np.mean([accuracy_matrix[i, i+1] for i in range(num_tasks-1)]) if num_tasks>1 else 0.0\n",
    "num_params = sum(p.numel() for p in sfao.model.parameters())\n",
    "mem_usage = len(sfao.S) * num_params * 4 / (1024**2)\n",
    "PSM = 0.5*(1-F) + 0.5*max(FWT,0)\n",
    "\n",
    "print(\"=== Metrics (Split CIFAR-100 CNN SFAO) ===\")\n",
    "print(f\"ACC={ACC:.4f}, F={F:.4f}, BWT={BWT:.4f}, FWT={FWT:.4f}, Mem={mem_usage:.2f}MB, PSM={PSM:.4f}\")\n",
    "\n",
    "plt.figure(figsize=(6,5))\n",
    "plt.imshow(accuracy_matrix, cmap='viridis', interpolation='nearest')\n",
    "plt.colorbar(label='Accuracy')\n",
    "plt.xlabel('Evaluation Task')\n",
    "plt.ylabel('Training Task')\n",
    "plt.title('SFAO Accuracy Matrix (Split CIFAR-100 CNN)')\n",
    "plt.show()"
   ]
  },
  {
   "cell_type": "code",
   "execution_count": 5,
   "id": "820cfc85-bc9b-4ccc-8bce-f1743c245d7e",
   "metadata": {},
   "outputs": [
    {
     "name": "stdout",
     "output_type": "stream",
     "text": [
      "Files already downloaded and verified\n",
      "Files already downloaded and verified\n",
      "Task 0: classes 0-1, train=10000, test=2000\n",
      "Task 1: classes 2-3, train=10000, test=2000\n",
      "Task 2: classes 4-5, train=10000, test=2000\n",
      "Task 3: classes 6-7, train=10000, test=2000\n",
      "Task 4: classes 8-9, train=10000, test=2000\n",
      "Prepared 5 tasks (mode=split)\n",
      "\n",
      "=== Training Task 1 ===\n"
     ]
    },
    {
     "name": "stderr",
     "output_type": "stream",
     "text": [
      "100%|██████████| 313/313 [00:00<00:00, 396.95it/s]\n"
     ]
    },
    {
     "name": "stdout",
     "output_type": "stream",
     "text": [
      "Epoch 1, Loss=0.6593\n"
     ]
    },
    {
     "name": "stderr",
     "output_type": "stream",
     "text": [
      "100%|██████████| 313/313 [00:01<00:00, 296.81it/s]\n"
     ]
    },
    {
     "name": "stdout",
     "output_type": "stream",
     "text": [
      "Epoch 2, Loss=0.5862\n",
      "Accuracy on Task 1: 0.767\n",
      "\n",
      "=== Training Task 2 ===\n"
     ]
    },
    {
     "name": "stderr",
     "output_type": "stream",
     "text": [
      "100%|██████████| 313/313 [00:09<00:00, 34.34it/s]\n"
     ]
    },
    {
     "name": "stdout",
     "output_type": "stream",
     "text": [
      "Epoch 1, Loss=0.7074\n"
     ]
    },
    {
     "name": "stderr",
     "output_type": "stream",
     "text": [
      "100%|██████████| 313/313 [00:09<00:00, 33.81it/s]\n"
     ]
    },
    {
     "name": "stdout",
     "output_type": "stream",
     "text": [
      "Epoch 2, Loss=0.6749\n",
      "Accuracy on Task 1: 0.778\n",
      "Accuracy on Task 2: 0.613\n",
      "\n",
      "=== Training Task 3 ===\n"
     ]
    },
    {
     "name": "stderr",
     "output_type": "stream",
     "text": [
      "100%|██████████| 313/313 [00:08<00:00, 36.58it/s]\n"
     ]
    },
    {
     "name": "stdout",
     "output_type": "stream",
     "text": [
      "Epoch 1, Loss=0.6694\n"
     ]
    },
    {
     "name": "stderr",
     "output_type": "stream",
     "text": [
      "100%|██████████| 313/313 [00:08<00:00, 37.30it/s]\n"
     ]
    },
    {
     "name": "stdout",
     "output_type": "stream",
     "text": [
      "Epoch 2, Loss=0.6373\n",
      "Accuracy on Task 1: 0.689\n",
      "Accuracy on Task 2: 0.670\n",
      "Accuracy on Task 3: 0.705\n",
      "\n",
      "=== Training Task 4 ===\n"
     ]
    },
    {
     "name": "stderr",
     "output_type": "stream",
     "text": [
      "100%|██████████| 313/313 [00:08<00:00, 35.43it/s]\n"
     ]
    },
    {
     "name": "stdout",
     "output_type": "stream",
     "text": [
      "Epoch 1, Loss=0.6624\n"
     ]
    },
    {
     "name": "stderr",
     "output_type": "stream",
     "text": [
      "100%|██████████| 313/313 [00:08<00:00, 38.63it/s]\n"
     ]
    },
    {
     "name": "stdout",
     "output_type": "stream",
     "text": [
      "Epoch 2, Loss=0.6159\n",
      "Accuracy on Task 1: 0.455\n",
      "Accuracy on Task 2: 0.566\n",
      "Accuracy on Task 3: 0.675\n",
      "Accuracy on Task 4: 0.724\n",
      "\n",
      "=== Training Task 5 ===\n"
     ]
    },
    {
     "name": "stderr",
     "output_type": "stream",
     "text": [
      "100%|██████████| 313/313 [00:09<00:00, 32.53it/s]\n"
     ]
    },
    {
     "name": "stdout",
     "output_type": "stream",
     "text": [
      "Epoch 1, Loss=0.6500\n"
     ]
    },
    {
     "name": "stderr",
     "output_type": "stream",
     "text": [
      "100%|██████████| 313/313 [00:09<00:00, 34.39it/s]\n"
     ]
    },
    {
     "name": "stdout",
     "output_type": "stream",
     "text": [
      "Epoch 2, Loss=0.5388\n",
      "Accuracy on Task 1: 0.773\n",
      "Accuracy on Task 2: 0.582\n",
      "Accuracy on Task 3: 0.488\n",
      "Accuracy on Task 4: 0.489\n",
      "Accuracy on Task 5: 0.776\n",
      "=== Metrics (Split CIFAR-10 CNN SFAO) ===\n",
      "ACC=0.6219, F=0.1360, BWT=-0.1189, FWT=0.0000, Mem=815.38MB, PSM=0.4320\n"
     ]
    },
    {
     "data": {
      "image/png": "[encoded data removed]",
      "text/plain": [
       "<Figure size 600x500 with 2 Axes>"
      ]
     },
     "metadata": {},
     "output_type": "display_data"
    }
   ],
   "source": [
    "# Split CIFAR-10\n",
    "import torch\n",
    "import torch.nn as nn\n",
    "import torch.nn.functional as F\n",
    "import torch.optim as optim\n",
    "\n",
    "class SFAO:\n",
    "    def __init__(self, model, lr=0.001, device='cuda',\n",
    "                 max_memory=200, cosine_threshold=0.80, discard_threshold=-1e-4, sample_size=750):\n",
    "        self.model = model.to(device)\n",
    "        self.lr = lr\n",
    "        self.device = device\n",
    "        self.optimizer = optim.SGD(self.model.parameters(), lr=lr)\n",
    "        self.S = []  # stored gradient vectors\n",
    "        self.max_memory = max_memory\n",
    "        self.cosine_threshold = cosine_threshold\n",
    "        self.discard_threshold = discard_threshold\n",
    "        self.sample_size = sample_size\n",
    "\n",
    "    # flatten gradient\n",
    "    def _flatten_grad(self):\n",
    "        return torch.cat([p.grad.view(-1) for p in self.model.parameters() if p.grad is not None])\n",
    "\n",
    "    # assign gradient\n",
    "    def _assign_grad(self, flat_grad):\n",
    "        idx = 0\n",
    "        for p in self.model.parameters():\n",
    "            if p.grad is not None:\n",
    "                numel = p.numel()\n",
    "                p.grad.copy_(flat_grad[idx:idx+numel].view_as(p))\n",
    "                idx += numel\n",
    "\n",
    "    # project new gradient against memory\n",
    "    def _project_grad(self, g):\n",
    "        if len(self.S) == 0: return g\n",
    "        # sample some stored gradients\n",
    "        sampled = self.S if len(self.S)<=self.sample_size else [self.S[i] for i in torch.randperm(len(self.S))[:self.sample_size]]\n",
    "        max_cos = 0.0\n",
    "        for v in sampled:\n",
    "            cos_sim = torch.dot(g, v)/(torch.norm(g)*torch.norm(v)+1e-12)\n",
    "            max_cos = max(max_cos, abs(cos_sim.item()))\n",
    "        if max_cos > self.cosine_threshold:\n",
    "            return g  # do not project\n",
    "        if max_cos < self.discard_threshold:\n",
    "            return None\n",
    "        g_proj = g.clone()\n",
    "        for v in sampled:\n",
    "            proj = (torch.dot(g_proj, v)/torch.dot(v,v))*v\n",
    "            g_proj -= proj\n",
    "        # discard tiny projected gradients\n",
    "        if torch.norm(g_proj) < self.discard_threshold:\n",
    "            return None\n",
    "        return g_proj\n",
    "\n",
    "    # one training step\n",
    "    def observe(self, x, y, criterion=nn.CrossEntropyLoss()):\n",
    "        self.model.train()\n",
    "        x, y = x.to(self.device), y.to(self.device)\n",
    "        self.optimizer.zero_grad()\n",
    "        loss = criterion(self.model(x), y)\n",
    "        loss.backward()\n",
    "\n",
    "        g = self._flatten_grad()\n",
    "        g_proj = self._project_grad(g)\n",
    "        if g_proj is not None:\n",
    "            self._assign_grad(g_proj)\n",
    "            self.optimizer.step()\n",
    "        return loss.item()\n",
    "\n",
    "    # store task gradients\n",
    "    def end_task(self, dataloader, criterion=nn.CrossEntropyLoss()):\n",
    "        self.model.eval()\n",
    "        for x, y in dataloader:\n",
    "            x, y = x.to(self.device), y.to(self.device)\n",
    "            self.model.zero_grad()\n",
    "            loss = criterion(self.model(x), y)\n",
    "            loss.backward()\n",
    "            g = self._flatten_grad()\n",
    "            norm_g = g / (torch.norm(g)+1e-10)\n",
    "            if len(self.S) >= self.max_memory:\n",
    "                self.S.pop(0)\n",
    "            self.S.append(norm_g.detach().clone())\n",
    "\n",
    "# === Cell: prepare CIFAR-10 tasks for SFAO (split) with CNN ===\n",
    "import torch\n",
    "import torch.nn as nn\n",
    "import torch.nn.functional as F\n",
    "import torch.optim as optim\n",
    "from torch.utils.data import DataLoader, TensorDataset\n",
    "import numpy as np\n",
    "from torchvision import datasets, transforms\n",
    "import matplotlib.pyplot as plt\n",
    "from tqdm import tqdm\n",
    "import random\n",
    "\n",
    "device = torch.device(\"cuda\" if torch.cuda.is_available() else \"cpu\")\n",
    "\n",
    "# === Hyperparameters ===\n",
    "root = './data'\n",
    "num_tasks = 5            \n",
    "num_classes = 10         \n",
    "classes_per_task = num_classes // num_tasks   # = 2\n",
    "batch_size = 32\n",
    "download = True\n",
    "mode = 'split'           # only \"split\"\n",
    "num_epochs = 2\n",
    "learning_rate = 0.001\n",
    "\n",
    "# CIFAR-10 mean/std for normalization\n",
    "mean = torch.tensor([0.4914, 0.4822, 0.4465]).view(3, 1, 1)\n",
    "std = torch.tensor([0.2023, 0.1994, 0.2010]).view(3, 1, 1)\n",
    "\n",
    "# === Transforms ===\n",
    "train_transform = transforms.ToTensor()\n",
    "test_transform = transforms.ToTensor()\n",
    "\n",
    "# === Load datasets ===\n",
    "train_ds = datasets.CIFAR10(root=root, train=True, download=download, transform=train_transform)\n",
    "test_ds = datasets.CIFAR10(root=root, train=False, download=download, transform=test_transform)\n",
    "\n",
    "# === Helper: extract subset tensors for a given set of class IDs ===\n",
    "def extract_subset_tensors(dataset, class_list):\n",
    "    targets = np.array(dataset.targets)\n",
    "    mask = np.isin(targets, class_list)\n",
    "    indices = np.nonzero(mask)[0].tolist()\n",
    "    imgs, labs = [], []\n",
    "    for i in indices:\n",
    "        img, lbl = dataset[i]\n",
    "        imgs.append(img)\n",
    "        labs.append(lbl)\n",
    "    return torch.stack(imgs), torch.tensor(labs, dtype=torch.long)\n",
    "\n",
    "# === Build tasks ===\n",
    "train_tasks, test_tasks = [], []\n",
    "for t in range(num_tasks):\n",
    "    cls_start = t * classes_per_task\n",
    "    cls_end = cls_start + classes_per_task\n",
    "    task_classes = list(range(cls_start, cls_end))\n",
    "\n",
    "    x_train, y_train = extract_subset_tensors(train_ds, task_classes)\n",
    "    x_test, y_test = extract_subset_tensors(test_ds, task_classes)\n",
    "\n",
    "    # Normalize\n",
    "    x_train = (x_train - mean) / std\n",
    "    x_test = (x_test - mean) / std\n",
    "\n",
    "    # Map labels to 0..(classes_per_task-1)\n",
    "    class_map = {orig: i for i, orig in enumerate(task_classes)}\n",
    "    y_train_mapped = torch.tensor([class_map[int(v)] for v in y_train])\n",
    "    y_test_mapped = torch.tensor([class_map[int(v)] for v in y_test])\n",
    "\n",
    "    # Store datasets (no flattening — CNN expects 3x32x32)\n",
    "    train_tasks.append(TensorDataset(x_train, y_train_mapped))\n",
    "    test_tasks.append(TensorDataset(x_test, y_test_mapped))\n",
    "\n",
    "    print(f\"Task {t}: classes {task_classes[0]}-{task_classes[-1]}, train={len(x_train)}, test={len(x_test)}\")\n",
    "\n",
    "print(f\"Prepared {len(train_tasks)} tasks (mode={mode})\")\n",
    "\n",
    "# === CNN model ===\n",
    "class SimpleCNN(nn.Module):\n",
    "    def __init__(self, num_classes=2):   # 2 classes per task\n",
    "        super().__init__()\n",
    "        self.conv1 = nn.Conv2d(3, 32, kernel_size=3, padding=1)\n",
    "        self.conv2 = nn.Conv2d(32, 64, kernel_size=3, padding=1)\n",
    "        self.pool = nn.MaxPool2d(2, 2)\n",
    "        self.fc1 = nn.Linear(64 * 8 * 8, 256)\n",
    "        self.fc2 = nn.Linear(256, num_classes)\n",
    "\n",
    "    def forward(self, x):\n",
    "        x = self.pool(F.relu(self.conv1(x)))  # 32x16x16\n",
    "        x = self.pool(F.relu(self.conv2(x)))  # 64x8x8\n",
    "        x = x.view(x.size(0), -1)             # flatten\n",
    "        x = F.relu(self.fc1(x))\n",
    "        return self.fc2(x)\n",
    "\n",
    "# === Training loop ===\n",
    "sfao = SFAO(SimpleCNN(num_classes=classes_per_task), lr=learning_rate, device=device)\n",
    "accuracy_matrix = np.zeros((num_tasks, num_tasks))\n",
    "\n",
    "def evaluate_task(model, dataloader):\n",
    "    model.eval()\n",
    "    correct, total = 0, 0\n",
    "    with torch.no_grad():\n",
    "        for x, y in dataloader:\n",
    "            x, y = x.to(device), y.to(device)\n",
    "            preds = model(x).argmax(dim=1)\n",
    "            correct += (preds == y).sum().item()\n",
    "            total += y.size(0)\n",
    "    return correct / total\n",
    "\n",
    "for task_id, train_dataset in enumerate(train_tasks):\n",
    "    print(f\"\\n=== Training Task {task_id+1} ===\")\n",
    "    train_loader = DataLoader(train_dataset, batch_size=batch_size, shuffle=True)\n",
    "\n",
    "    for epoch in range(num_epochs):\n",
    "        epoch_loss = 0.0\n",
    "        for x, y in tqdm(train_loader):\n",
    "            epoch_loss += sfao.observe(x, y)\n",
    "        print(f\"Epoch {epoch+1}, Loss={epoch_loss/len(train_loader):.4f}\")\n",
    "\n",
    "    # Evaluate on all seen tasks\n",
    "    for eval_id in range(task_id+1):\n",
    "        test_loader = DataLoader(test_tasks[eval_id], batch_size=batch_size, shuffle=False)\n",
    "        acc = evaluate_task(sfao.model, test_loader)\n",
    "        accuracy_matrix[task_id, eval_id] = acc\n",
    "        print(f\"Accuracy on Task {eval_id+1}: {acc:.3f}\")\n",
    "\n",
    "    sfao.end_task(train_loader)\n",
    "\n",
    "# === Metrics ===\n",
    "ACC = accuracy_matrix[-1].mean()\n",
    "F = np.mean([np.max(accuracy_matrix[:num_tasks-1, j]) - accuracy_matrix[-1, j] for j in range(num_tasks-1)]) if num_tasks>1 else 0.0\n",
    "BWT = np.mean([accuracy_matrix[-1, j] - accuracy_matrix[j, j] for j in range(num_tasks-1)]) if num_tasks>1 else 0.0\n",
    "FWT = np.mean([accuracy_matrix[i, i+1] for i in range(num_tasks-1)]) if num_tasks>1 else 0.0\n",
    "num_params = sum(p.numel() for p in sfao.model.parameters())\n",
    "mem_usage = len(sfao.S) * num_params * 4 / (1024**2)\n",
    "PSM = 0.5*(1-F) + 0.5*max(FWT,0)\n",
    "\n",
    "print(\"=== Metrics (Split CIFAR-10 CNN SFAO) ===\")\n",
    "print(f\"ACC={ACC:.4f}, F={F:.4f}, BWT={BWT:.4f}, FWT={FWT:.4f}, Mem={mem_usage:.2f}MB, PSM={PSM:.4f}\")\n",
    "\n",
    "plt.figure(figsize=(6,5))\n",
    "plt.imshow(accuracy_matrix, cmap='viridis', interpolation='nearest')\n",
    "plt.colorbar(label='Accuracy')\n",
    "plt.xlabel('Evaluation Task')\n",
    "plt.ylabel('Training Task')\n",
    "plt.title('SFAO Accuracy Matrix (Split CIFAR-10 CNN)')\n",
    "plt.show()"
   ]
  },
  {
   "cell_type": "code",
   "execution_count": 3,
   "id": "67d8b870-1312-4a58-9c59-f62454f23cc4",
   "metadata": {},
   "outputs": [
    {
     "name": "stdout",
     "output_type": "stream",
     "text": [
      "Get:1 http://archive.ubuntu.com/ubuntu jammy InRelease [270 kB]\n",
      "Get:2 http://archive.ubuntu.com/ubuntu jammy-updates InRelease [128 kB]        \n",
      "Get:3 https://developer.download.nvidia.com/compute/cuda/repos/ubuntu2204/x86_64  InRelease [1581 B]\n",
      "Get:4 http://archive.ubuntu.com/ubuntu jammy-backports InRelease [127 kB]      \n",
      "Get:5 http://security.ubuntu.com/ubuntu jammy-security InRelease [129 kB]      \n",
      "Get:6 http://archive.ubuntu.com/ubuntu jammy/restricted amd64 Packages [164 kB]\n",
      "Get:7 http://archive.ubuntu.com/ubuntu jammy/main amd64 Packages [1792 kB]     \n",
      "Get:8 http://archive.ubuntu.com/ubuntu jammy/universe amd64 Packages [17.5 MB] \n",
      "Get:9 https://developer.download.nvidia.com/compute/cuda/repos/ubuntu2204/x86_64  Packages [1929 kB]\n",
      "Get:10 http://archive.ubuntu.com/ubuntu jammy/multiverse amd64 Packages [266 kB]\n",
      "Get:11 http://archive.ubuntu.com/ubuntu jammy-updates/restricted amd64 Packages [5299 kB]\n",
      "Get:12 http://archive.ubuntu.com/ubuntu jammy-updates/universe amd64 Packages [1575 kB]\n",
      "Get:13 http://archive.ubuntu.com/ubuntu jammy-updates/multiverse amd64 Packages [75.9 kB]\n",
      "Get:14 http://archive.ubuntu.com/ubuntu jammy-updates/main amd64 Packages [3520 kB]\n",
      "Get:15 http://archive.ubuntu.com/ubuntu jammy-backports/main amd64 Packages [83.2 kB]\n",
      "Get:16 http://archive.ubuntu.com/ubuntu jammy-backports/universe amd64 Packages [35.2 kB]\n",
      "Get:17 http://security.ubuntu.com/ubuntu jammy-security/restricted amd64 Packages [5111 kB]\n",
      "Get:18 https://ppa.launchpadcontent.net/deadsnakes/ppa/ubuntu jammy InRelease [18.1 kB]\n",
      "Get:19 https://ppa.launchpadcontent.net/deadsnakes/ppa/ubuntu jammy/main amd64 Packages [32.9 kB]\n",
      "Get:20 http://security.ubuntu.com/ubuntu jammy-security/universe amd64 Packages [1270 kB]\n",
      "Get:21 http://security.ubuntu.com/ubuntu jammy-security/main amd64 Packages [3209 kB]\n",
      "Get:22 http://security.ubuntu.com/ubuntu jammy-security/multiverse amd64 Packages [48.5 kB]\n",
      "Fetched 42.6 MB in 2s (21.2 MB/s)                            \n",
      "Reading package lists... Done\n",
      "Reading package lists... Done\n",
      "Building dependency tree... Done\n",
      "Reading state information... Done\n",
      "Suggested packages:\n",
      "  zip\n",
      "The following NEW packages will be installed:\n",
      "  unzip\n",
      "0 upgraded, 1 newly installed, 0 to remove and 143 not upgraded.\n",
      "Need to get 175 kB of archives.\n",
      "After this operation, 386 kB of additional disk space will be used.\n",
      "Get:1 http://archive.ubuntu.com/ubuntu jammy-updates/main amd64 unzip amd64 6.0-26ubuntu3.2 [175 kB]\n",
      "Fetched 175 kB in 0s (2226 kB/s)\n",
      "debconf: delaying package configuration, since apt-utils is not installed\n",
      "Selecting previously unselected package unzip.\n",
      "(Reading database ... 20729 files and directories currently installed.)\n",
      "Preparing to unpack .../unzip_6.0-26ubuntu3.2_amd64.deb ...\n",
      "Unpacking unzip (6.0-26ubuntu3.2) ...\n",
      "Setting up unzip (6.0-26ubuntu3.2) ...\n"
     ]
    }
   ],
   "source": [
    "# To make the unzip command below work \n",
    "!apt-get update && apt-get install -y unzip"
   ]
  },
  {
   "cell_type": "code",
   "execution_count": null,
   "id": "d8ad644d-aedd-4749-94c3-a34e87f9744b",
   "metadata": {},
   "outputs": [],
   "source": [
    "# === Cell: Prepare Split TinyImageNet tasks for SFAO (CNN) ===\n",
    "import os\n",
    "import torch\n",
    "import numpy as np\n",
    "from torchvision import datasets, transforms\n",
    "from torch.utils.data import DataLoader, Subset, TensorDataset\n",
    "import random\n",
    "from tqdm import tqdm\n",
    "\n",
    "!wget http://cs231n.stanford.edu/tiny-imagenet-200.zip\n",
    "!unzip -q /workspace/tiny-imagenet-200.zip -d /workspace/"
   ]
  },
  {
   "cell_type": "code",
   "execution_count": null,
   "id": "97b1b021-a58f-410b-87eb-4aad3c7593b5",
   "metadata": {},
   "outputs": [],
   "source": [
    "import os\n",
    "print(os.listdir('/workspace/tiny-imagenet-200'))\n",
    "print(os.listdir('/workspace/tiny-imagenet-200/train'))"
   ]
  },
  {
   "cell_type": "code",
   "execution_count": 4,
   "id": "c7ce9d5e-fce2-465b-9154-e673dee3471b",
   "metadata": {},
   "outputs": [
    {
     "ename": "NameError",
     "evalue": "name 'os' is not defined",
     "output_type": "error",
     "traceback": [
      "\u001b[0;31m---------------------------------------------------------------------------\u001b[0m",
      "\u001b[0;31mNameError\u001b[0m                                 Traceback (most recent call last)",
      "Cell \u001b[0;32mIn[4], line 28\u001b[0m\n\u001b[1;32m     20\u001b[0m test_transform \u001b[38;5;241m=\u001b[39m transforms\u001b[38;5;241m.\u001b[39mCompose([\n\u001b[1;32m     21\u001b[0m     transforms\u001b[38;5;241m.\u001b[39mResize((\u001b[38;5;241m64\u001b[39m, \u001b[38;5;241m64\u001b[39m)),\n\u001b[1;32m     22\u001b[0m     transforms\u001b[38;5;241m.\u001b[39mToTensor(),\n\u001b[1;32m     23\u001b[0m     transforms\u001b[38;5;241m.\u001b[39mNormalize(mean\u001b[38;5;241m=\u001b[39m[\u001b[38;5;241m0.4802\u001b[39m, \u001b[38;5;241m0.4481\u001b[39m, \u001b[38;5;241m0.3975\u001b[39m],\n\u001b[1;32m     24\u001b[0m                          std\u001b[38;5;241m=\u001b[39m[\u001b[38;5;241m0.2770\u001b[39m, \u001b[38;5;241m0.2691\u001b[39m, \u001b[38;5;241m0.2821\u001b[39m])\n\u001b[1;32m     25\u001b[0m ])\n\u001b[1;32m     27\u001b[0m \u001b[38;5;66;03m# ===== Load datasets =====\u001b[39;00m\n\u001b[0;32m---> 28\u001b[0m train_ds \u001b[38;5;241m=\u001b[39m datasets\u001b[38;5;241m.\u001b[39mImageFolder(\u001b[43mos\u001b[49m\u001b[38;5;241m.\u001b[39mpath\u001b[38;5;241m.\u001b[39mjoin(root, \u001b[38;5;124m'\u001b[39m\u001b[38;5;124mtrain\u001b[39m\u001b[38;5;124m'\u001b[39m), transform\u001b[38;5;241m=\u001b[39mtrain_transform)\n\u001b[1;32m     29\u001b[0m val_ds   \u001b[38;5;241m=\u001b[39m datasets\u001b[38;5;241m.\u001b[39mImageFolder(os\u001b[38;5;241m.\u001b[39mpath\u001b[38;5;241m.\u001b[39mjoin(root, \u001b[38;5;124m'\u001b[39m\u001b[38;5;124mval\u001b[39m\u001b[38;5;124m'\u001b[39m), transform\u001b[38;5;241m=\u001b[39mtest_transform)\n\u001b[1;32m     31\u001b[0m \u001b[38;5;66;03m# Map original class indices to sequential 0..199\u001b[39;00m\n",
      "\u001b[0;31mNameError\u001b[0m: name 'os' is not defined"
     ]
    }
   ],
   "source": [
    "# ===== Settings =====\n",
    "root = '/workspace/tiny-imagenet-200' \n",
    "num_tasks = 10\n",
    "num_classes = 200\n",
    "classes_per_task = num_classes // num_tasks  # 20 per task\n",
    "batch_size = 64\n",
    "num_epochs = 2\n",
    "device = torch.device('cuda' if torch.cuda.is_available() else 'cpu')\n",
    "\n",
    "# ===== Transforms =====\n",
    "train_transform = transforms.Compose([\n",
    "    transforms.Resize((64, 64)),\n",
    "    transforms.RandomCrop(64, padding=4),\n",
    "    transforms.RandomHorizontalFlip(),\n",
    "    transforms.ToTensor(),\n",
    "    transforms.Normalize(mean=[0.4802, 0.4481, 0.3975],\n",
    "                         std=[0.2770, 0.2691, 0.2821])\n",
    "])\n",
    "\n",
    "test_transform = transforms.Compose([\n",
    "    transforms.Resize((64, 64)),\n",
    "    transforms.ToTensor(),\n",
    "    transforms.Normalize(mean=[0.4802, 0.4481, 0.3975],\n",
    "                         std=[0.2770, 0.2691, 0.2821])\n",
    "])\n",
    "\n",
    "# ===== Load datasets =====\n",
    "train_ds = datasets.ImageFolder(os.path.join(root, 'train'), transform=train_transform)\n",
    "val_ds   = datasets.ImageFolder(os.path.join(root, 'val'), transform=test_transform)\n",
    "\n",
    "# Map original class indices to sequential 0..199\n",
    "class_to_idx = train_ds.class_to_idx\n",
    "sorted_classes = sorted(class_to_idx.keys())\n",
    "class_mapping = {class_to_idx[c]: i for i, c in enumerate(sorted_classes)}\n",
    "\n",
    "train_labels = [class_mapping[label] for _, label in train_ds.samples]\n",
    "val_labels   = [class_mapping[label] for _, label in val_ds.samples]\n",
    "\n",
    "# Helper: get subset dataset for a class list\n",
    "def subset_by_classes(dataset, labels, class_list):\n",
    "    idxs = [i for i, lab in enumerate(labels) if lab in class_list]\n",
    "    return Subset(dataset, idxs)\n",
    "\n",
    "# ===== Create tasks =====\n",
    "train_tasks, test_tasks = [], []\n",
    "for t in range(num_tasks):\n",
    "    cls_start = t * classes_per_task\n",
    "    cls_end = cls_start + classes_per_task\n",
    "    task_classes = list(range(cls_start, cls_end))\n",
    "    train_tasks.append(subset_by_classes(train_ds, train_labels, task_classes))\n",
    "    test_tasks.append(subset_by_classes(val_ds, val_labels, task_classes))\n",
    "    print(f\"Task {t}: Classes {cls_start}-{cls_end-1} | Train: {len(train_tasks[-1])}, Test: {len(test_tasks[-1])}\")\n",
    "\n",
    "# ===== Simple CNN for TinyImageNet =====\n",
    "import torch.nn as nn\n",
    "import torch.nn.functional as F\n",
    "\n",
    "class TinyImageNetCNN(nn.Module):\n",
    "    def __init__(self, num_outputs=20):  # default per task\n",
    "        super().__init__()\n",
    "        self.conv1 = nn.Conv2d(3, 64, kernel_size=3, padding=1)\n",
    "        self.conv2 = nn.Conv2d(64, 128, kernel_size=3, padding=1)\n",
    "        self.conv3 = nn.Conv2d(128, 256, kernel_size=3, padding=1)\n",
    "        self.pool = nn.MaxPool2d(2, 2)\n",
    "        self.fc1 = nn.Linear(256 * 8 * 8, 512)\n",
    "        self.fc2 = nn.Linear(512, num_outputs)\n",
    "\n",
    "    def forward(self, x):\n",
    "        x = self.pool(F.relu(self.conv1(x)))  # 64x32x32\n",
    "        x = self.pool(F.relu(self.conv2(x)))  # 128x16x16\n",
    "        x = self.pool(F.relu(self.conv3(x)))  # 256x8x8\n",
    "        x = x.view(x.size(0), -1)\n",
    "        x = F.relu(self.fc1(x))\n",
    "        return self.fc2(x)\n",
    "\n",
    "# ===== SFAO setup =====\n",
    "class SFAO:\n",
    "    def __init__(self, model, lr=0.01, device='cuda'):\n",
    "        self.model = model.to(device)\n",
    "        self.lr = lr\n",
    "        self.device = device\n",
    "        self.optimizer = optim.SGD(self.model.parameters(), lr=lr)\n",
    "        self.S = []  # Memory of gradient directions from previous tasks\n",
    "\n",
    "    def _flatten_grad(self):\n",
    "        return torch.cat([p.grad.view(-1) for p in self.model.parameters() if p.grad is not None])\n",
    "\n",
    "    def _assign_grad(self, flat_grad):\n",
    "        idx = 0\n",
    "        for p in self.model.parameters():\n",
    "            if p.grad is not None:\n",
    "                numel = p.numel()\n",
    "                p.grad.copy_(flat_grad[idx: idx+numel].view_as(p))\n",
    "                idx += numel\n",
    "\n",
    "    def _project_grad(self, g):\n",
    "        if len(self.S) == 0:\n",
    "            return g\n",
    "        g_proj = g.clone()\n",
    "        for v in self.S:\n",
    "            proj = (torch.dot(g_proj, v) / torch.dot(v, v)) * v\n",
    "            g_proj -= proj\n",
    "        return g_proj\n",
    "\n",
    "    # [Added method] Compute max cosine similarity between gradient g and sampled stored gradients\n",
    "    def _cosine_similarity(self, sample, g):\n",
    "        if len(sample) == 0:\n",
    "            return 1.0\n",
    "        max_sim = 0\n",
    "        for v in sample:\n",
    "            sim = torch.dot(g, v) / (torch.norm(g) * torch.norm(v))\n",
    "            if sim > max_sim:\n",
    "                max_sim = sim\n",
    "        return max_sim\n",
    "\n",
    "    # [Added method] Monte Carlo sample k gradients from stored memory without replacement\n",
    "    def _monte_carlo(self, k):\n",
    "        if len(self.S) <= k:\n",
    "            return self.S\n",
    "        else:\n",
    "            return random.sample(self.S, k)\n",
    "\n",
    "    # [Updated method] Selective projection based on cosine similarity threshold\n",
    "    def observe(self, x, y, criterion=nn.CrossEntropyLoss(), threshold=0.80, sample_size=10):\n",
    "        self.model.train()\n",
    "        x, y = x.to(self.device), y.to(self.device)\n",
    "        self.optimizer.zero_grad()\n",
    "        out = self.model(x)\n",
    "        loss = criterion(out, y)\n",
    "        loss.backward()\n",
    "\n",
    "        g = self._flatten_grad()\n",
    "        sample = self._monte_carlo(sample_size)\n",
    "        max_sim = self._cosine_similarity(sample, g)\n",
    "\n",
    "        if max_sim < threshold:\n",
    "            g_orth = self._project_grad(g)\n",
    "            self._assign_grad(g_orth)\n",
    "        else:\n",
    "            self._assign_grad(g)\n",
    "\n",
    "        self.optimizer.step()\n",
    "        return loss.item()\n",
    "\n",
    "    def end_task(self, dataloader, criterion=nn.CrossEntropyLoss()):\n",
    "        self.model.eval()\n",
    "        for x, y in dataloader:\n",
    "            x, y = x.to(self.device), y.to(self.device)\n",
    "            self.model.zero_grad()\n",
    "            out = self.model(x)\n",
    "            loss = criterion(out, y)\n",
    "            loss.backward()\n",
    "\n",
    "            u = self._flatten_grad()\n",
    "            u_proj = self._project_grad(u)\n",
    "            norm_u_proj = u_proj / (u_proj.norm() + 1e-10)\n",
    "            self.S.append(norm_u_proj.detach().clone())\n",
    "            \n",
    "accuracy_matrix = np.zeros((num_tasks, num_tasks))\n",
    "sfao = SFAO(TinyImageNetCNN(classes_per_task), lr=0.01, device=device)\n",
    "\n",
    "def evaluate_task(model, dataloader):\n",
    "    model.eval()\n",
    "    correct, total = 0, 0\n",
    "    with torch.no_grad():\n",
    "        for x, y in dataloader:\n",
    "            x, y = x.to(device), y.to(device)\n",
    "            preds = model(x).argmax(dim=1)\n",
    "            correct += (preds == y).sum().item()\n",
    "            total += y.size(0)\n",
    "    return correct / total\n",
    "\n",
    "# ===== Training loop =====\n",
    "for task_id, train_dataset in enumerate(train_tasks):\n",
    "    print(f\"\\n=== Training Task {task_id+1} ===\")\n",
    "    train_loader = DataLoader(train_dataset, batch_size=batch_size, shuffle=True, num_workers=4)\n",
    "\n",
    "    for epoch in range(num_epochs):\n",
    "        epoch_loss = 0.0\n",
    "        for x, y in tqdm(train_loader):\n",
    "            x, y = x.to(device), y.to(device)\n",
    "            epoch_loss += sfao.observe(x, y)\n",
    "        print(f\"Epoch {epoch+1}, Loss: {epoch_loss/len(train_loader):.4f}\")\n",
    "\n",
    "    # Evaluate on all seen tasks\n",
    "    for eval_id in range(task_id+1):\n",
    "        test_loader = DataLoader(test_tasks[eval_id], batch_size=batch_size, shuffle=False, num_workers=4)\n",
    "        acc = evaluate_task(sfao.model, test_loader)\n",
    "        accuracy_matrix[task_id, eval_id] = acc\n",
    "        print(f\"Accuracy on Task {eval_id+1}: {acc:.3f}\")\n",
    "\n",
    "    sfao.end_task(train_loader)\n",
    "\n",
    "# ===== Metrics =====\n",
    "ACC = accuracy_matrix[-1].mean()\n",
    "F = np.mean([np.max(accuracy_matrix[:num_tasks-1, j]) - accuracy_matrix[-1, j] for j in range(num_tasks-1)]) if num_tasks>1 else 0.0\n",
    "BWT = np.mean([accuracy_matrix[-1, j] - accuracy_matrix[j, j] for j in range(num_tasks-1)]) if num_tasks>1 else 0.0\n",
    "FWT = np.mean([accuracy_matrix[i, i+1] for i in range(num_tasks-1)]) if num_tasks>1 else 0.0\n",
    "\n",
    "num_params = sum(p.numel() for p in sfao.model.parameters())\n",
    "mem_usage = len(sfao.S) * num_params * 4 / (1024**2)\n",
    "PSM = 0.5*(1-F) + 0.5*max(FWT,0)\n",
    "\n",
    "print(\"=== Metrics (Split TinyImageNet) ===\")\n",
    "print(f\"ACC={ACC:.4f}, F={F:.4f}, BWT={BWT:.4f}, FWT={FWT:.4f}, Mem={mem_usage:.2f}MB, PSM={PSM:.4f}\")\n",
    "\n",
    "import matplotlib.pyplot as plt\n",
    "plt.figure(figsize=(6,5))\n",
    "plt.imshow(accuracy_matrix, cmap='viridis', interpolation='nearest')\n",
    "plt.colorbar(label='Accuracy')\n",
    "plt.xlabel('Evaluation Task')\n",
    "plt.ylabel('Training Task')\n",
    "plt.title('SFAO Accuracy Matrix (Split TinyImageNet)')\n",
    "plt.show()"
   ]
  }
 ],
 "metadata": {
  "kernelspec": {
   "display_name": "Python 3 (ipykernel)",
   "language": "python",
   "name": "python3"
  },
  "language_info": {
   "codemirror_mode": {
    "name": "ipython",
    "version": 3
   },
   "file_extension": ".py",
   "mimetype": "text/x-python",
   "name": "python",
   "nbconvert_exporter": "python",
   "pygments_lexer": "ipython3",
   "version": "3.10.12"
  }
 },
 "nbformat": 4,
 "nbformat_minor": 5
}
